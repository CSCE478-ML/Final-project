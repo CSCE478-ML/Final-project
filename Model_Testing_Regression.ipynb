{
 "cells": [
  {
   "cell_type": "code",
   "execution_count": 1,
   "metadata": {},
   "outputs": [],
   "source": [
    "import warnings\n",
    "import pandas as pd\n",
    "import numpy as np \n",
    "import matplotlib.pyplot as plt\n",
    "%matplotlib inline\n",
    "\n",
    "from sklearn.model_selection import train_test_split, GridSearchCV, cross_val_score, cross_val_predict\n",
    "from sklearn.preprocessing import StandardScaler,PolynomialFeatures\n",
    "from sklearn.linear_model import LinearRegression, Ridge, Lasso, ElasticNet,SGDRegressor\n",
    "from sklearn.metrics import mean_squared_error, r2_score,accuracy_score,mean_absolute_error\n",
    "from sklearn.feature_selection import mutual_info_classif, mutual_info_regression\n",
    "from sklearn.pipeline import make_pipeline\n",
    "from sklearn.model_selection import learning_curve\n",
    "from sklearn.svm import SVR\n",
    "\n",
    "from sklearn.datasets import make_circles\n",
    "from sklearn.neighbors import KNeighborsClassifier\n",
    "from sklearn.metrics import confusion_matrix, precision_score, recall_score, f1_score, roc_curve, roc_auc_score\n",
    "from sklearn.metrics import precision_recall_curve, classification_report\n",
    "from sklearn.naive_bayes import GaussianNB, MultinomialNB\n",
    "from sklearn.pipeline import Pipeline\n",
    "from sklearn.svm import LinearSVC, SVC\n",
    "from sklearn.linear_model import SGDClassifier\n",
    "from sklearn.feature_extraction.text import CountVectorizer, TfidfVectorizer, TfidfTransformer\n",
    "\n",
    "\n",
    "from sklearn.ensemble import RandomForestRegressor\n",
    "from sklearn.decomposition import PCA"
   ]
  },
  {
   "cell_type": "code",
   "execution_count": 2,
   "metadata": {},
   "outputs": [],
   "source": [
    "df = pd.read_csv('Data/data_2.csv')"
   ]
  },
  {
   "cell_type": "code",
   "execution_count": 3,
   "metadata": {},
   "outputs": [
    {
     "data": {
      "text/html": [
       "<div>\n",
       "<style scoped>\n",
       "    .dataframe tbody tr th:only-of-type {\n",
       "        vertical-align: middle;\n",
       "    }\n",
       "\n",
       "    .dataframe tbody tr th {\n",
       "        vertical-align: top;\n",
       "    }\n",
       "\n",
       "    .dataframe thead th {\n",
       "        text-align: right;\n",
       "    }\n",
       "</style>\n",
       "<table border=\"1\" class=\"dataframe\">\n",
       "  <thead>\n",
       "    <tr style=\"text-align: right;\">\n",
       "      <th></th>\n",
       "      <th>Point</th>\n",
       "      <th>Trees</th>\n",
       "      <th>Shrubs</th>\n",
       "      <th>Peren_FG</th>\n",
       "      <th>bare_groun</th>\n",
       "      <th>Annual_FG</th>\n",
       "      <th>ppt</th>\n",
       "      <th>vpdmin</th>\n",
       "      <th>vpdmax</th>\n",
       "      <th>tmin</th>\n",
       "      <th>...</th>\n",
       "      <th>aspect</th>\n",
       "      <th>Runoff</th>\n",
       "      <th>Frosting_R</th>\n",
       "      <th>Flooding_F</th>\n",
       "      <th>BD_depth</th>\n",
       "      <th>AWS_50cm</th>\n",
       "      <th>AWS_25cm</th>\n",
       "      <th>AWS_150cm</th>\n",
       "      <th>AWS_100cm</th>\n",
       "      <th>Min_WTD</th>\n",
       "    </tr>\n",
       "  </thead>\n",
       "  <tbody>\n",
       "    <tr>\n",
       "      <th>0</th>\n",
       "      <td>1</td>\n",
       "      <td>19</td>\n",
       "      <td>8</td>\n",
       "      <td>47</td>\n",
       "      <td>7</td>\n",
       "      <td>22</td>\n",
       "      <td>1003.760</td>\n",
       "      <td>8.6440</td>\n",
       "      <td>149.085</td>\n",
       "      <td>49.1187</td>\n",
       "      <td>...</td>\n",
       "      <td>180.0860</td>\n",
       "      <td>3</td>\n",
       "      <td>3</td>\n",
       "      <td>3</td>\n",
       "      <td>0.0</td>\n",
       "      <td>11.4900</td>\n",
       "      <td>5.7500</td>\n",
       "      <td>33.4300</td>\n",
       "      <td>22.9200</td>\n",
       "      <td>153.0</td>\n",
       "    </tr>\n",
       "    <tr>\n",
       "      <th>1</th>\n",
       "      <td>2</td>\n",
       "      <td>2</td>\n",
       "      <td>1</td>\n",
       "      <td>66</td>\n",
       "      <td>14</td>\n",
       "      <td>8</td>\n",
       "      <td>822.610</td>\n",
       "      <td>8.9776</td>\n",
       "      <td>138.599</td>\n",
       "      <td>46.5965</td>\n",
       "      <td>...</td>\n",
       "      <td>211.4610</td>\n",
       "      <td>1</td>\n",
       "      <td>3</td>\n",
       "      <td>3</td>\n",
       "      <td>0.0</td>\n",
       "      <td>11.5000</td>\n",
       "      <td>5.7500</td>\n",
       "      <td>33.3200</td>\n",
       "      <td>22.8200</td>\n",
       "      <td>153.0</td>\n",
       "    </tr>\n",
       "    <tr>\n",
       "      <th>2</th>\n",
       "      <td>3</td>\n",
       "      <td>3</td>\n",
       "      <td>1</td>\n",
       "      <td>69</td>\n",
       "      <td>2</td>\n",
       "      <td>14</td>\n",
       "      <td>849.481</td>\n",
       "      <td>9.4117</td>\n",
       "      <td>138.963</td>\n",
       "      <td>47.8117</td>\n",
       "      <td>...</td>\n",
       "      <td>186.5640</td>\n",
       "      <td>1</td>\n",
       "      <td>3</td>\n",
       "      <td>3</td>\n",
       "      <td>0.0</td>\n",
       "      <td>11.5000</td>\n",
       "      <td>5.7500</td>\n",
       "      <td>33.3200</td>\n",
       "      <td>22.8200</td>\n",
       "      <td>153.0</td>\n",
       "    </tr>\n",
       "    <tr>\n",
       "      <th>3</th>\n",
       "      <td>4</td>\n",
       "      <td>20</td>\n",
       "      <td>4</td>\n",
       "      <td>51</td>\n",
       "      <td>11</td>\n",
       "      <td>21</td>\n",
       "      <td>854.956</td>\n",
       "      <td>8.1519</td>\n",
       "      <td>135.181</td>\n",
       "      <td>45.4194</td>\n",
       "      <td>...</td>\n",
       "      <td>161.3930</td>\n",
       "      <td>1</td>\n",
       "      <td>3</td>\n",
       "      <td>3</td>\n",
       "      <td>0.0</td>\n",
       "      <td>11.5000</td>\n",
       "      <td>5.7500</td>\n",
       "      <td>33.3200</td>\n",
       "      <td>22.8200</td>\n",
       "      <td>153.0</td>\n",
       "    </tr>\n",
       "    <tr>\n",
       "      <th>4</th>\n",
       "      <td>5</td>\n",
       "      <td>18</td>\n",
       "      <td>11</td>\n",
       "      <td>50</td>\n",
       "      <td>9</td>\n",
       "      <td>20</td>\n",
       "      <td>849.242</td>\n",
       "      <td>9.2913</td>\n",
       "      <td>138.704</td>\n",
       "      <td>47.6300</td>\n",
       "      <td>...</td>\n",
       "      <td>121.3640</td>\n",
       "      <td>1</td>\n",
       "      <td>3</td>\n",
       "      <td>3</td>\n",
       "      <td>0.0</td>\n",
       "      <td>11.5000</td>\n",
       "      <td>5.7500</td>\n",
       "      <td>33.3200</td>\n",
       "      <td>22.8200</td>\n",
       "      <td>153.0</td>\n",
       "    </tr>\n",
       "    <tr>\n",
       "      <th>...</th>\n",
       "      <td>...</td>\n",
       "      <td>...</td>\n",
       "      <td>...</td>\n",
       "      <td>...</td>\n",
       "      <td>...</td>\n",
       "      <td>...</td>\n",
       "      <td>...</td>\n",
       "      <td>...</td>\n",
       "      <td>...</td>\n",
       "      <td>...</td>\n",
       "      <td>...</td>\n",
       "      <td>...</td>\n",
       "      <td>...</td>\n",
       "      <td>...</td>\n",
       "      <td>...</td>\n",
       "      <td>...</td>\n",
       "      <td>...</td>\n",
       "      <td>...</td>\n",
       "      <td>...</td>\n",
       "      <td>...</td>\n",
       "      <td>...</td>\n",
       "    </tr>\n",
       "    <tr>\n",
       "      <th>4792</th>\n",
       "      <td>4793</td>\n",
       "      <td>13</td>\n",
       "      <td>8</td>\n",
       "      <td>57</td>\n",
       "      <td>15</td>\n",
       "      <td>23</td>\n",
       "      <td>789.471</td>\n",
       "      <td>12.5005</td>\n",
       "      <td>176.244</td>\n",
       "      <td>69.1463</td>\n",
       "      <td>...</td>\n",
       "      <td>297.1450</td>\n",
       "      <td>0</td>\n",
       "      <td>-1</td>\n",
       "      <td>0</td>\n",
       "      <td>0.0</td>\n",
       "      <td>2.1439</td>\n",
       "      <td>1.0640</td>\n",
       "      <td>6.4935</td>\n",
       "      <td>4.3117</td>\n",
       "      <td>0.0</td>\n",
       "    </tr>\n",
       "    <tr>\n",
       "      <th>4793</th>\n",
       "      <td>4794</td>\n",
       "      <td>36</td>\n",
       "      <td>7</td>\n",
       "      <td>43</td>\n",
       "      <td>1</td>\n",
       "      <td>12</td>\n",
       "      <td>778.307</td>\n",
       "      <td>8.1716</td>\n",
       "      <td>180.426</td>\n",
       "      <td>41.2986</td>\n",
       "      <td>...</td>\n",
       "      <td>25.7692</td>\n",
       "      <td>6</td>\n",
       "      <td>2</td>\n",
       "      <td>1</td>\n",
       "      <td>38.0</td>\n",
       "      <td>3.9900</td>\n",
       "      <td>2.5500</td>\n",
       "      <td>3.9900</td>\n",
       "      <td>3.9900</td>\n",
       "      <td>0.0</td>\n",
       "    </tr>\n",
       "    <tr>\n",
       "      <th>4794</th>\n",
       "      <td>4795</td>\n",
       "      <td>36</td>\n",
       "      <td>9</td>\n",
       "      <td>53</td>\n",
       "      <td>2</td>\n",
       "      <td>13</td>\n",
       "      <td>706.038</td>\n",
       "      <td>9.8153</td>\n",
       "      <td>175.318</td>\n",
       "      <td>46.5239</td>\n",
       "      <td>...</td>\n",
       "      <td>21.0057</td>\n",
       "      <td>6</td>\n",
       "      <td>2</td>\n",
       "      <td>1</td>\n",
       "      <td>38.0</td>\n",
       "      <td>3.9900</td>\n",
       "      <td>2.5500</td>\n",
       "      <td>3.9900</td>\n",
       "      <td>3.9900</td>\n",
       "      <td>0.0</td>\n",
       "    </tr>\n",
       "    <tr>\n",
       "      <th>4795</th>\n",
       "      <td>4796</td>\n",
       "      <td>33</td>\n",
       "      <td>4</td>\n",
       "      <td>43</td>\n",
       "      <td>3</td>\n",
       "      <td>11</td>\n",
       "      <td>713.786</td>\n",
       "      <td>13.5313</td>\n",
       "      <td>179.063</td>\n",
       "      <td>65.2216</td>\n",
       "      <td>...</td>\n",
       "      <td>68.3994</td>\n",
       "      <td>0</td>\n",
       "      <td>0</td>\n",
       "      <td>0</td>\n",
       "      <td>0.0</td>\n",
       "      <td>2.1172</td>\n",
       "      <td>1.1507</td>\n",
       "      <td>4.5539</td>\n",
       "      <td>3.3355</td>\n",
       "      <td>0.0</td>\n",
       "    </tr>\n",
       "    <tr>\n",
       "      <th>4796</th>\n",
       "      <td>4797</td>\n",
       "      <td>13</td>\n",
       "      <td>7</td>\n",
       "      <td>57</td>\n",
       "      <td>10</td>\n",
       "      <td>13</td>\n",
       "      <td>710.399</td>\n",
       "      <td>9.0785</td>\n",
       "      <td>175.871</td>\n",
       "      <td>44.7851</td>\n",
       "      <td>...</td>\n",
       "      <td>196.9770</td>\n",
       "      <td>-1</td>\n",
       "      <td>-1</td>\n",
       "      <td>-1</td>\n",
       "      <td>0.0</td>\n",
       "      <td>0.2470</td>\n",
       "      <td>0.1402</td>\n",
       "      <td>0.4794</td>\n",
       "      <td>0.3636</td>\n",
       "      <td>0.0</td>\n",
       "    </tr>\n",
       "  </tbody>\n",
       "</table>\n",
       "<p>4797 rows × 25 columns</p>\n",
       "</div>"
      ],
      "text/plain": [
       "      Point  Trees  Shrubs  Peren_FG  bare_groun  Annual_FG       ppt  \\\n",
       "0         1     19       8        47           7         22  1003.760   \n",
       "1         2      2       1        66          14          8   822.610   \n",
       "2         3      3       1        69           2         14   849.481   \n",
       "3         4     20       4        51          11         21   854.956   \n",
       "4         5     18      11        50           9         20   849.242   \n",
       "...     ...    ...     ...       ...         ...        ...       ...   \n",
       "4792   4793     13       8        57          15         23   789.471   \n",
       "4793   4794     36       7        43           1         12   778.307   \n",
       "4794   4795     36       9        53           2         13   706.038   \n",
       "4795   4796     33       4        43           3         11   713.786   \n",
       "4796   4797     13       7        57          10         13   710.399   \n",
       "\n",
       "       vpdmin   vpdmax     tmin  ...    aspect  Runoff  Frosting_R  \\\n",
       "0      8.6440  149.085  49.1187  ...  180.0860       3           3   \n",
       "1      8.9776  138.599  46.5965  ...  211.4610       1           3   \n",
       "2      9.4117  138.963  47.8117  ...  186.5640       1           3   \n",
       "3      8.1519  135.181  45.4194  ...  161.3930       1           3   \n",
       "4      9.2913  138.704  47.6300  ...  121.3640       1           3   \n",
       "...       ...      ...      ...  ...       ...     ...         ...   \n",
       "4792  12.5005  176.244  69.1463  ...  297.1450       0          -1   \n",
       "4793   8.1716  180.426  41.2986  ...   25.7692       6           2   \n",
       "4794   9.8153  175.318  46.5239  ...   21.0057       6           2   \n",
       "4795  13.5313  179.063  65.2216  ...   68.3994       0           0   \n",
       "4796   9.0785  175.871  44.7851  ...  196.9770      -1          -1   \n",
       "\n",
       "      Flooding_F  BD_depth  AWS_50cm  AWS_25cm  AWS_150cm  AWS_100cm  Min_WTD  \n",
       "0              3       0.0   11.4900    5.7500    33.4300    22.9200    153.0  \n",
       "1              3       0.0   11.5000    5.7500    33.3200    22.8200    153.0  \n",
       "2              3       0.0   11.5000    5.7500    33.3200    22.8200    153.0  \n",
       "3              3       0.0   11.5000    5.7500    33.3200    22.8200    153.0  \n",
       "4              3       0.0   11.5000    5.7500    33.3200    22.8200    153.0  \n",
       "...          ...       ...       ...       ...        ...        ...      ...  \n",
       "4792           0       0.0    2.1439    1.0640     6.4935     4.3117      0.0  \n",
       "4793           1      38.0    3.9900    2.5500     3.9900     3.9900      0.0  \n",
       "4794           1      38.0    3.9900    2.5500     3.9900     3.9900      0.0  \n",
       "4795           0       0.0    2.1172    1.1507     4.5539     3.3355      0.0  \n",
       "4796          -1       0.0    0.2470    0.1402     0.4794     0.3636      0.0  \n",
       "\n",
       "[4797 rows x 25 columns]"
      ]
     },
     "execution_count": 3,
     "metadata": {},
     "output_type": "execute_result"
    }
   ],
   "source": [
    "df"
   ]
  },
  {
   "cell_type": "code",
   "execution_count": 4,
   "metadata": {},
   "outputs": [],
   "source": [
    "df = df[~(df.values.ravel() == -1).reshape(df.shape).any(1)]"
   ]
  },
  {
   "cell_type": "code",
   "execution_count": 5,
   "metadata": {},
   "outputs": [
    {
     "data": {
      "text/html": [
       "<div>\n",
       "<style scoped>\n",
       "    .dataframe tbody tr th:only-of-type {\n",
       "        vertical-align: middle;\n",
       "    }\n",
       "\n",
       "    .dataframe tbody tr th {\n",
       "        vertical-align: top;\n",
       "    }\n",
       "\n",
       "    .dataframe thead th {\n",
       "        text-align: right;\n",
       "    }\n",
       "</style>\n",
       "<table border=\"1\" class=\"dataframe\">\n",
       "  <thead>\n",
       "    <tr style=\"text-align: right;\">\n",
       "      <th></th>\n",
       "      <th>Point</th>\n",
       "      <th>Trees</th>\n",
       "      <th>Shrubs</th>\n",
       "      <th>Peren_FG</th>\n",
       "      <th>bare_groun</th>\n",
       "      <th>Annual_FG</th>\n",
       "      <th>ppt</th>\n",
       "      <th>vpdmin</th>\n",
       "      <th>vpdmax</th>\n",
       "      <th>tmin</th>\n",
       "      <th>...</th>\n",
       "      <th>aspect</th>\n",
       "      <th>Runoff</th>\n",
       "      <th>Frosting_R</th>\n",
       "      <th>Flooding_F</th>\n",
       "      <th>BD_depth</th>\n",
       "      <th>AWS_50cm</th>\n",
       "      <th>AWS_25cm</th>\n",
       "      <th>AWS_150cm</th>\n",
       "      <th>AWS_100cm</th>\n",
       "      <th>Min_WTD</th>\n",
       "    </tr>\n",
       "  </thead>\n",
       "  <tbody>\n",
       "    <tr>\n",
       "      <th>0</th>\n",
       "      <td>1</td>\n",
       "      <td>19</td>\n",
       "      <td>8</td>\n",
       "      <td>47</td>\n",
       "      <td>7</td>\n",
       "      <td>22</td>\n",
       "      <td>1003.760</td>\n",
       "      <td>8.6440</td>\n",
       "      <td>149.085</td>\n",
       "      <td>49.1187</td>\n",
       "      <td>...</td>\n",
       "      <td>180.0860</td>\n",
       "      <td>3</td>\n",
       "      <td>3</td>\n",
       "      <td>3</td>\n",
       "      <td>0.0000</td>\n",
       "      <td>11.4900</td>\n",
       "      <td>5.7500</td>\n",
       "      <td>33.4300</td>\n",
       "      <td>22.9200</td>\n",
       "      <td>153.0</td>\n",
       "    </tr>\n",
       "    <tr>\n",
       "      <th>1</th>\n",
       "      <td>2</td>\n",
       "      <td>2</td>\n",
       "      <td>1</td>\n",
       "      <td>66</td>\n",
       "      <td>14</td>\n",
       "      <td>8</td>\n",
       "      <td>822.610</td>\n",
       "      <td>8.9776</td>\n",
       "      <td>138.599</td>\n",
       "      <td>46.5965</td>\n",
       "      <td>...</td>\n",
       "      <td>211.4610</td>\n",
       "      <td>1</td>\n",
       "      <td>3</td>\n",
       "      <td>3</td>\n",
       "      <td>0.0000</td>\n",
       "      <td>11.5000</td>\n",
       "      <td>5.7500</td>\n",
       "      <td>33.3200</td>\n",
       "      <td>22.8200</td>\n",
       "      <td>153.0</td>\n",
       "    </tr>\n",
       "    <tr>\n",
       "      <th>2</th>\n",
       "      <td>3</td>\n",
       "      <td>3</td>\n",
       "      <td>1</td>\n",
       "      <td>69</td>\n",
       "      <td>2</td>\n",
       "      <td>14</td>\n",
       "      <td>849.481</td>\n",
       "      <td>9.4117</td>\n",
       "      <td>138.963</td>\n",
       "      <td>47.8117</td>\n",
       "      <td>...</td>\n",
       "      <td>186.5640</td>\n",
       "      <td>1</td>\n",
       "      <td>3</td>\n",
       "      <td>3</td>\n",
       "      <td>0.0000</td>\n",
       "      <td>11.5000</td>\n",
       "      <td>5.7500</td>\n",
       "      <td>33.3200</td>\n",
       "      <td>22.8200</td>\n",
       "      <td>153.0</td>\n",
       "    </tr>\n",
       "    <tr>\n",
       "      <th>3</th>\n",
       "      <td>4</td>\n",
       "      <td>20</td>\n",
       "      <td>4</td>\n",
       "      <td>51</td>\n",
       "      <td>11</td>\n",
       "      <td>21</td>\n",
       "      <td>854.956</td>\n",
       "      <td>8.1519</td>\n",
       "      <td>135.181</td>\n",
       "      <td>45.4194</td>\n",
       "      <td>...</td>\n",
       "      <td>161.3930</td>\n",
       "      <td>1</td>\n",
       "      <td>3</td>\n",
       "      <td>3</td>\n",
       "      <td>0.0000</td>\n",
       "      <td>11.5000</td>\n",
       "      <td>5.7500</td>\n",
       "      <td>33.3200</td>\n",
       "      <td>22.8200</td>\n",
       "      <td>153.0</td>\n",
       "    </tr>\n",
       "    <tr>\n",
       "      <th>4</th>\n",
       "      <td>5</td>\n",
       "      <td>18</td>\n",
       "      <td>11</td>\n",
       "      <td>50</td>\n",
       "      <td>9</td>\n",
       "      <td>20</td>\n",
       "      <td>849.242</td>\n",
       "      <td>9.2913</td>\n",
       "      <td>138.704</td>\n",
       "      <td>47.6300</td>\n",
       "      <td>...</td>\n",
       "      <td>121.3640</td>\n",
       "      <td>1</td>\n",
       "      <td>3</td>\n",
       "      <td>3</td>\n",
       "      <td>0.0000</td>\n",
       "      <td>11.5000</td>\n",
       "      <td>5.7500</td>\n",
       "      <td>33.3200</td>\n",
       "      <td>22.8200</td>\n",
       "      <td>153.0</td>\n",
       "    </tr>\n",
       "    <tr>\n",
       "      <th>...</th>\n",
       "      <td>...</td>\n",
       "      <td>...</td>\n",
       "      <td>...</td>\n",
       "      <td>...</td>\n",
       "      <td>...</td>\n",
       "      <td>...</td>\n",
       "      <td>...</td>\n",
       "      <td>...</td>\n",
       "      <td>...</td>\n",
       "      <td>...</td>\n",
       "      <td>...</td>\n",
       "      <td>...</td>\n",
       "      <td>...</td>\n",
       "      <td>...</td>\n",
       "      <td>...</td>\n",
       "      <td>...</td>\n",
       "      <td>...</td>\n",
       "      <td>...</td>\n",
       "      <td>...</td>\n",
       "      <td>...</td>\n",
       "      <td>...</td>\n",
       "    </tr>\n",
       "    <tr>\n",
       "      <th>4790</th>\n",
       "      <td>4791</td>\n",
       "      <td>51</td>\n",
       "      <td>7</td>\n",
       "      <td>43</td>\n",
       "      <td>3</td>\n",
       "      <td>10</td>\n",
       "      <td>828.338</td>\n",
       "      <td>8.7542</td>\n",
       "      <td>180.391</td>\n",
       "      <td>42.9977</td>\n",
       "      <td>...</td>\n",
       "      <td>269.6360</td>\n",
       "      <td>5</td>\n",
       "      <td>2</td>\n",
       "      <td>1</td>\n",
       "      <td>38.0000</td>\n",
       "      <td>5.1000</td>\n",
       "      <td>4.2500</td>\n",
       "      <td>5.1000</td>\n",
       "      <td>5.1000</td>\n",
       "      <td>0.0</td>\n",
       "    </tr>\n",
       "    <tr>\n",
       "      <th>4791</th>\n",
       "      <td>4792</td>\n",
       "      <td>17</td>\n",
       "      <td>7</td>\n",
       "      <td>67</td>\n",
       "      <td>1</td>\n",
       "      <td>10</td>\n",
       "      <td>868.329</td>\n",
       "      <td>8.8903</td>\n",
       "      <td>176.260</td>\n",
       "      <td>40.5698</td>\n",
       "      <td>...</td>\n",
       "      <td>301.8970</td>\n",
       "      <td>6</td>\n",
       "      <td>2</td>\n",
       "      <td>1</td>\n",
       "      <td>40.1869</td>\n",
       "      <td>4.1027</td>\n",
       "      <td>2.5825</td>\n",
       "      <td>4.4481</td>\n",
       "      <td>4.3668</td>\n",
       "      <td>0.0</td>\n",
       "    </tr>\n",
       "    <tr>\n",
       "      <th>4793</th>\n",
       "      <td>4794</td>\n",
       "      <td>36</td>\n",
       "      <td>7</td>\n",
       "      <td>43</td>\n",
       "      <td>1</td>\n",
       "      <td>12</td>\n",
       "      <td>778.307</td>\n",
       "      <td>8.1716</td>\n",
       "      <td>180.426</td>\n",
       "      <td>41.2986</td>\n",
       "      <td>...</td>\n",
       "      <td>25.7692</td>\n",
       "      <td>6</td>\n",
       "      <td>2</td>\n",
       "      <td>1</td>\n",
       "      <td>38.0000</td>\n",
       "      <td>3.9900</td>\n",
       "      <td>2.5500</td>\n",
       "      <td>3.9900</td>\n",
       "      <td>3.9900</td>\n",
       "      <td>0.0</td>\n",
       "    </tr>\n",
       "    <tr>\n",
       "      <th>4794</th>\n",
       "      <td>4795</td>\n",
       "      <td>36</td>\n",
       "      <td>9</td>\n",
       "      <td>53</td>\n",
       "      <td>2</td>\n",
       "      <td>13</td>\n",
       "      <td>706.038</td>\n",
       "      <td>9.8153</td>\n",
       "      <td>175.318</td>\n",
       "      <td>46.5239</td>\n",
       "      <td>...</td>\n",
       "      <td>21.0057</td>\n",
       "      <td>6</td>\n",
       "      <td>2</td>\n",
       "      <td>1</td>\n",
       "      <td>38.0000</td>\n",
       "      <td>3.9900</td>\n",
       "      <td>2.5500</td>\n",
       "      <td>3.9900</td>\n",
       "      <td>3.9900</td>\n",
       "      <td>0.0</td>\n",
       "    </tr>\n",
       "    <tr>\n",
       "      <th>4795</th>\n",
       "      <td>4796</td>\n",
       "      <td>33</td>\n",
       "      <td>4</td>\n",
       "      <td>43</td>\n",
       "      <td>3</td>\n",
       "      <td>11</td>\n",
       "      <td>713.786</td>\n",
       "      <td>13.5313</td>\n",
       "      <td>179.063</td>\n",
       "      <td>65.2216</td>\n",
       "      <td>...</td>\n",
       "      <td>68.3994</td>\n",
       "      <td>0</td>\n",
       "      <td>0</td>\n",
       "      <td>0</td>\n",
       "      <td>0.0000</td>\n",
       "      <td>2.1172</td>\n",
       "      <td>1.1507</td>\n",
       "      <td>4.5539</td>\n",
       "      <td>3.3355</td>\n",
       "      <td>0.0</td>\n",
       "    </tr>\n",
       "  </tbody>\n",
       "</table>\n",
       "<p>4180 rows × 25 columns</p>\n",
       "</div>"
      ],
      "text/plain": [
       "      Point  Trees  Shrubs  Peren_FG  bare_groun  Annual_FG       ppt  \\\n",
       "0         1     19       8        47           7         22  1003.760   \n",
       "1         2      2       1        66          14          8   822.610   \n",
       "2         3      3       1        69           2         14   849.481   \n",
       "3         4     20       4        51          11         21   854.956   \n",
       "4         5     18      11        50           9         20   849.242   \n",
       "...     ...    ...     ...       ...         ...        ...       ...   \n",
       "4790   4791     51       7        43           3         10   828.338   \n",
       "4791   4792     17       7        67           1         10   868.329   \n",
       "4793   4794     36       7        43           1         12   778.307   \n",
       "4794   4795     36       9        53           2         13   706.038   \n",
       "4795   4796     33       4        43           3         11   713.786   \n",
       "\n",
       "       vpdmin   vpdmax     tmin  ...    aspect  Runoff  Frosting_R  \\\n",
       "0      8.6440  149.085  49.1187  ...  180.0860       3           3   \n",
       "1      8.9776  138.599  46.5965  ...  211.4610       1           3   \n",
       "2      9.4117  138.963  47.8117  ...  186.5640       1           3   \n",
       "3      8.1519  135.181  45.4194  ...  161.3930       1           3   \n",
       "4      9.2913  138.704  47.6300  ...  121.3640       1           3   \n",
       "...       ...      ...      ...  ...       ...     ...         ...   \n",
       "4790   8.7542  180.391  42.9977  ...  269.6360       5           2   \n",
       "4791   8.8903  176.260  40.5698  ...  301.8970       6           2   \n",
       "4793   8.1716  180.426  41.2986  ...   25.7692       6           2   \n",
       "4794   9.8153  175.318  46.5239  ...   21.0057       6           2   \n",
       "4795  13.5313  179.063  65.2216  ...   68.3994       0           0   \n",
       "\n",
       "      Flooding_F  BD_depth  AWS_50cm  AWS_25cm  AWS_150cm  AWS_100cm  Min_WTD  \n",
       "0              3    0.0000   11.4900    5.7500    33.4300    22.9200    153.0  \n",
       "1              3    0.0000   11.5000    5.7500    33.3200    22.8200    153.0  \n",
       "2              3    0.0000   11.5000    5.7500    33.3200    22.8200    153.0  \n",
       "3              3    0.0000   11.5000    5.7500    33.3200    22.8200    153.0  \n",
       "4              3    0.0000   11.5000    5.7500    33.3200    22.8200    153.0  \n",
       "...          ...       ...       ...       ...        ...        ...      ...  \n",
       "4790           1   38.0000    5.1000    4.2500     5.1000     5.1000      0.0  \n",
       "4791           1   40.1869    4.1027    2.5825     4.4481     4.3668      0.0  \n",
       "4793           1   38.0000    3.9900    2.5500     3.9900     3.9900      0.0  \n",
       "4794           1   38.0000    3.9900    2.5500     3.9900     3.9900      0.0  \n",
       "4795           0    0.0000    2.1172    1.1507     4.5539     3.3355      0.0  \n",
       "\n",
       "[4180 rows x 25 columns]"
      ]
     },
     "execution_count": 5,
     "metadata": {},
     "output_type": "execute_result"
    }
   ],
   "source": [
    "df"
   ]
  },
  {
   "cell_type": "code",
   "execution_count": 6,
   "metadata": {},
   "outputs": [],
   "source": [
    "df=df.sample(frac=1) #Shuffle the data"
   ]
  },
  {
   "cell_type": "code",
   "execution_count": 7,
   "metadata": {},
   "outputs": [],
   "source": [
    "y = df['Trees']"
   ]
  },
  {
   "cell_type": "code",
   "execution_count": 8,
   "metadata": {},
   "outputs": [],
   "source": [
    "best_feature_mse = ['Shrubs', 'Peren_FG', 'bare_groun', 'Annual_FG', 'vpdmax', 'tmean',\n",
    "       'slope', 'Runoff', 'Flooding_F', 'BD_depth']"
   ]
  },
  {
   "cell_type": "code",
   "execution_count": 9,
   "metadata": {},
   "outputs": [],
   "source": [
    "best_df = df[best_feature_mse]"
   ]
  },
  {
   "cell_type": "code",
   "execution_count": 10,
   "metadata": {},
   "outputs": [],
   "source": [
    "X = np.array(best_df)\n",
    "y = np.array(y)"
   ]
  },
  {
   "cell_type": "code",
   "execution_count": 11,
   "metadata": {},
   "outputs": [],
   "source": [
    "X_train, X_test, y_train, y_test = train_test_split(X, y, test_size=0.2, random_state=42)"
   ]
  },
  {
   "cell_type": "code",
   "execution_count": 12,
   "metadata": {},
   "outputs": [
    {
     "data": {
      "text/plain": [
       "(3344, 10)"
      ]
     },
     "execution_count": 12,
     "metadata": {},
     "output_type": "execute_result"
    }
   ],
   "source": [
    "X_train.shape"
   ]
  },
  {
   "cell_type": "code",
   "execution_count": 13,
   "metadata": {},
   "outputs": [],
   "source": [
    "scaler = StandardScaler()\n",
    "\n",
    "# Fit on training set only.\n",
    "scaler.fit(X_train)\n",
    "\n",
    "# Apply transform to both the training set and the test set.\n",
    "X_train = scaler.transform(X_train)\n",
    "X_test = scaler.transform(X_test)"
   ]
  },
  {
   "cell_type": "code",
   "execution_count": 14,
   "metadata": {},
   "outputs": [
    {
     "data": {
      "image/png": "[encoded data removed]",
      "text/plain": [
       "<Figure size 720x432 with 1 Axes>"
      ]
     },
     "metadata": {
      "needs_background": "light"
     },
     "output_type": "display_data"
    },
    {
     "name": "stdout",
     "output_type": "stream",
     "text": [
      "\n",
      "Optimal Degree:  1\n"
     ]
    }
   ],
   "source": [
    "degreeList = [1,2,3,4,5,6]\n",
    "\n",
    "\n",
    "mse_train, mse_test = [], []\n",
    "\n",
    "for degree in degreeList:\n",
    "\n",
    "    model = make_pipeline(PolynomialFeatures(degree, include_bias=False), StandardScaler(), LinearRegression()) \n",
    "  \n",
    "    model.fit(X_train, y_train)\n",
    "       \n",
    "    # Make prediction \n",
    "    y_train_predicted = model.predict(X_train)\n",
    "    y_test_predicted = model.predict(X_test)\n",
    "    \n",
    "    \n",
    "    mse_train.append(mean_squared_error(y_train, y_train_predicted))\n",
    "    mse_test.append(mean_squared_error(y_test, y_test_predicted))\n",
    "   \n",
    "\n",
    "plt.figure(figsize=(10, 6))   \n",
    "plt.plot(degreeList, np.sqrt(mse_test), \"ro-\", alpha=1.0, linewidth=1.0, label=\"Test RMSE\")\n",
    "plt.plot(degreeList, np.sqrt(mse_train), \"bo-\", alpha=1.0, linewidth=1.0, label=\"Train RMSE\") \n",
    "plt.legend(loc=\"best\", fontsize=14) \n",
    "plt.xlabel(\"Degree\")\n",
    "plt.ylabel(\"RMSE\")\n",
    "plt.title(\"RMSE for Varying Degree\")\n",
    "plt.show()\n",
    "\n",
    "# Find the value of optimal degree for the polynomial that gives smallest RMSE\n",
    "\n",
    "rmse_test = np.sqrt(mse_test)\n",
    "j = 0\n",
    "min_rmse = rmse_test[j]\n",
    "optimal_degree = 1\n",
    "\n",
    "for i in degreeList:\n",
    "    if(rmse_test[j] < min_rmse):\n",
    "        min_rmse = rmse_test[j]\n",
    "        optimal_degree = i\n",
    "    j +=1\n",
    "    \n",
    "print(\"\\nOptimal Degree: \", optimal_degree)"
   ]
  },
  {
   "cell_type": "code",
   "execution_count": 15,
   "metadata": {},
   "outputs": [],
   "source": [
    "# Variable that speficies the degree of the polynomial to be added to the feature vector\n",
    "poly_degree = optimal_degree\n",
    "\n",
    "\n",
    "# Add polynomial terms with the feature vector using the sklearn PolynomialFeatures class\n",
    "poly_features = PolynomialFeatures(degree=poly_degree, include_bias=False)\n",
    "X_train_poly = poly_features.fit_transform(X_train)"
   ]
  },
  {
   "cell_type": "code",
   "execution_count": 16,
   "metadata": {},
   "outputs": [
    {
     "name": "stdout",
     "output_type": "stream",
     "text": [
      "No. of Original Features:  10\n",
      "No. of Augmented Features:  10\n"
     ]
    }
   ],
   "source": [
    "print(\"No. of Original Features: \", X_train.shape[1])\n",
    "print(\"No. of Augmented Features: \", X_train_poly.shape[1])"
   ]
  },
  {
   "cell_type": "markdown",
   "metadata": {},
   "source": [
    "# Regressions"
   ]
  },
  {
   "cell_type": "markdown",
   "metadata": {},
   "source": [
    "## Ridge Regression"
   ]
  },
  {
   "cell_type": "code",
   "execution_count": 17,
   "metadata": {
    "scrolled": true
   },
   "outputs": [
    {
     "name": "stdout",
     "output_type": "stream",
     "text": [
      "Fitting 10 folds for each of 240 candidates, totalling 2400 fits\n"
     ]
    },
    {
     "name": "stderr",
     "output_type": "stream",
     "text": [
      "[Parallel(n_jobs=-1)]: Using backend LokyBackend with 16 concurrent workers.\n",
      "[Parallel(n_jobs=-1)]: Done  18 tasks      | elapsed:    2.6s\n",
      "[Parallel(n_jobs=-1)]: Done 464 tasks      | elapsed:    2.9s\n"
     ]
    },
    {
     "name": "stdout",
     "output_type": "stream",
     "text": [
      "Best Score (negative mean squared error): -26.502003\n",
      "Optimal Hyperparameter Values:  {'alpha': 0.67, 'solver': 'saga'}\n",
      "\n",
      "\n",
      "Wall time: 3.4 s\n"
     ]
    },
    {
     "name": "stderr",
     "output_type": "stream",
     "text": [
      "[Parallel(n_jobs=-1)]: Done 2400 out of 2400 | elapsed:    3.3s finished\n"
     ]
    }
   ],
   "source": [
    "%%time\n",
    "\n",
    "\n",
    "# The param_grid tells Scikit-Learn to evaluate all combinations of the hyperparameter values\n",
    "\n",
    "param_grid = {'alpha': np.linspace(0.01, 1.0, num=40), \n",
    "              'solver': [\"auto\", \"svd\", \"cholesky\", \"lsqr\", \"sparse_cg\", \"saga\"]}\n",
    "\n",
    "ridge = Ridge()\n",
    "\n",
    "ridge_cv = GridSearchCV(ridge, param_grid, scoring='neg_mean_squared_error', cv=10, verbose=1, n_jobs=-1)\n",
    "ridge_cv.fit(X_train_poly, y_train)\n",
    "\n",
    "\n",
    "params_optimal_ridge = ridge_cv.best_params_\n",
    "\n",
    "print(\"Best Score (negative mean squared error): %f\" % ridge_cv.best_score_)\n",
    "print(\"Optimal Hyperparameter Values: \", params_optimal_ridge)\n",
    "print(\"\\n\")"
   ]
  },
  {
   "cell_type": "code",
   "execution_count": 18,
   "metadata": {},
   "outputs": [
    {
     "name": "stdout",
     "output_type": "stream",
     "text": [
      "Optimal alpha:  0.67\n",
      "Optimal alpha:  saga\n",
      "\n",
      "----------------------------- Model Evaluation -----------------------------\n",
      "\n",
      "Mean squared error: 26.24\n",
      "Coefficient of determination r^2 variance score [1 is perfect prediction]: 0.73\n"
     ]
    }
   ],
   "source": [
    "# Ridge Regression\n",
    "\n",
    "\n",
    "# Optimal model parameters\n",
    "ridge_alpha = ridge_cv.best_params_['alpha']\n",
    "print(\"Optimal alpha: \", ridge_alpha)\n",
    "\n",
    "ridge_solver = ridge_cv.best_params_['solver']\n",
    "print(\"Optimal alpha: \", ridge_solver)\n",
    "\n",
    "\n",
    "# Create Ridge linear regression object\n",
    "lin_reg_ridge = Ridge(alpha=ridge_alpha, solver=ridge_solver)\n",
    "\n",
    "# Train the model\n",
    "lin_reg_ridge.fit(X_train_poly, y_train)\n",
    "\n",
    "\n",
    "\n",
    "print(\"\\n----------------------------- Model Evaluation -----------------------------\")\n",
    "\n",
    "# Make prediction \n",
    "y_train_predicted_ridge = lin_reg_ridge.predict(X_train_poly)\n",
    "\n",
    "\n",
    "print(\"\\nMean squared error: %.2f\"\n",
    "      % mean_squared_error(y_train, y_train_predicted_ridge))\n",
    "\n",
    "\n",
    "# Explained variance score: 1 is perfect prediction\n",
    "print(\"Coefficient of determination r^2 variance score [1 is perfect prediction]: %.2f\" % r2_score(y_train, y_train_predicted_ridge))"
   ]
  },
  {
   "cell_type": "code",
   "execution_count": 19,
   "metadata": {
    "scrolled": true
   },
   "outputs": [
    {
     "name": "stdout",
     "output_type": "stream",
     "text": [
      "\n",
      "----------------------------- Test Model Evaluation -----------------------------\n",
      "\n",
      "Mean squared error: 29.19\n",
      "Coefficient of determination r^2 variance score [1 is perfect prediction]: 0.72\n"
     ]
    }
   ],
   "source": [
    "# Add polynomial and bias term with the feature vector using the sklearn PolynomialFeatures class\n",
    "poly_features = PolynomialFeatures(degree=poly_degree, include_bias=False)\n",
    "X_test_poly = poly_features.fit_transform(X_test)\n",
    "\n",
    "\n",
    "print(\"\\n----------------------------- Test Model Evaluation -----------------------------\")\n",
    "\n",
    "# Make prediction \n",
    "y_test_poly_predicted = lin_reg_ridge.predict(X_test_poly)\n",
    "\n",
    "\n",
    "ridge_test_mse = mean_squared_error(y_test, y_test_poly_predicted)\n",
    "\n",
    "print(\"\\nMean squared error: %.2f\" % ridge_test_mse)\n",
    "\n",
    "\n",
    "\n",
    "ridge_test_r2_score = r2_score(y_test, y_test_poly_predicted)\n",
    "print('Coefficient of determination r^2 variance score [1 is perfect prediction]: %.2f' \n",
    "      % ridge_test_r2_score)"
   ]
  },
  {
   "cell_type": "code",
   "execution_count": 20,
   "metadata": {},
   "outputs": [
    {
     "name": "stderr",
     "output_type": "stream",
     "text": [
      "[Parallel(n_jobs=-1)]: Using backend LokyBackend with 16 concurrent workers.\n",
      "[Parallel(n_jobs=-1)]: Done  18 tasks      | elapsed:    0.0s\n"
     ]
    },
    {
     "name": "stdout",
     "output_type": "stream",
     "text": [
      "Fitting 10 folds for each of 100 candidates, totalling 1000 fits\n",
      "Best Score (negative mean squared error): -26.504723\n",
      "Optimal Hyperparameter Values:  {'alpha': 10.0}\n",
      "\n",
      "\n",
      "Wall time: 247 ms\n"
     ]
    },
    {
     "name": "stderr",
     "output_type": "stream",
     "text": [
      "[Parallel(n_jobs=-1)]: Done 1000 out of 1000 | elapsed:    0.1s finished\n"
     ]
    }
   ],
   "source": [
    "\n",
    "%%time\n",
    "\n",
    "\n",
    "# The param_grid tells Scikit-Learn to evaluate all combinations of the hyperparameter values\n",
    "\n",
    "#param_grid = {'alpha': np.linspace(10.0, 20.0, num=10)}\n",
    "param_grid = {'alpha': np.linspace(10,40,num=100)}\n",
    "\n",
    "lasso = Lasso()\n",
    "\n",
    "lasso_cv = GridSearchCV(ridge, param_grid, scoring='neg_mean_squared_error', cv=10, verbose=1, n_jobs=-1)\n",
    "lasso_cv.fit(X_train_poly, y_train)\n",
    "\n",
    "params_optimal_lasso = lasso_cv.best_params_\n",
    "\n",
    "print(\"Best Score (negative mean squared error): %f\" % lasso_cv.best_score_)\n",
    "print(\"Optimal Hyperparameter Values: \", params_optimal_lasso)\n",
    "print(\"\\n\")"
   ]
  },
  {
   "cell_type": "code",
   "execution_count": 21,
   "metadata": {},
   "outputs": [
    {
     "name": "stdout",
     "output_type": "stream",
     "text": [
      "Optimal alpha:  10.0\n",
      "\n",
      "----------------------------- Model Evaluation -----------------------------\n",
      "\n",
      "Mean squared error: 26.24\n",
      "Coefficient of determination r^2 variance score [1 is perfect prediction]: 0.73\n"
     ]
    }
   ],
   "source": [
    "# Lasso Regression\n",
    "\n",
    "# Optimal model parameters\n",
    "lasso_alpha = lasso_cv.best_params_['alpha']\n",
    "print(\"Optimal alpha: \", lasso_alpha)\n",
    "\n",
    "\n",
    "# Create Lasso linear regression object\n",
    "lin_reg_lasso = Ridge(alpha=lasso_alpha)\n",
    "\n",
    "# Train the model\n",
    "lin_reg_lasso.fit(X_train_poly, y_train)\n",
    "\n",
    "\n",
    "\n",
    "print(\"\\n----------------------------- Model Evaluation -----------------------------\")\n",
    "\n",
    "# Make prediction \n",
    "y_train_predicted_lasso = lin_reg_lasso.predict(X_train_poly)\n",
    "\n",
    "\n",
    "print(\"\\nMean squared error: %.2f\"\n",
    "      % mean_squared_error(y_train, y_train_predicted_lasso))\n",
    "\n",
    "\n",
    "# Explained variance score: 1 is perfect prediction\n",
    "print(\"Coefficient of determination r^2 variance score [1 is perfect prediction]: %.2f\" \n",
    "      % r2_score(y_train, y_train_predicted_lasso))"
   ]
  },
  {
   "cell_type": "code",
   "execution_count": 22,
   "metadata": {},
   "outputs": [
    {
     "name": "stdout",
     "output_type": "stream",
     "text": [
      "\n",
      "----------------------------- Test Model Evaluation -----------------------------\n",
      "\n",
      "Mean squared error: 29.18\n",
      "Coefficient of determination r^2 variance score [1 is perfect prediction]: 0.72\n"
     ]
    }
   ],
   "source": [
    "# Add polynomial and bias term with the feature vector using the sklearn PolynomialFeatures class\n",
    "poly_features = PolynomialFeatures(degree=poly_degree, include_bias=False)\n",
    "X_test_poly = poly_features.fit_transform(X_test)\n",
    "\n",
    "\n",
    "print(\"\\n----------------------------- Test Model Evaluation -----------------------------\")\n",
    "\n",
    "# Make prediction \n",
    "y_test_poly_predicted = lin_reg_lasso.predict(X_test_poly)\n",
    "\n",
    "lasso_test_mse = mean_squared_error(y_test, y_test_poly_predicted)\n",
    "\n",
    "print(\"\\nMean squared error: %.2f\" % lasso_test_mse)\n",
    "\n",
    "\n",
    "# Explained variance score: 1 is perfect prediction\n",
    "\n",
    "lasso_test_r2_score = r2_score(y_test, y_test_poly_predicted)\n",
    "print('Coefficient of determination r^2 variance score [1 is perfect prediction]: %.2f' \n",
    "      % lasso_test_r2_score)"
   ]
  },
  {
   "cell_type": "code",
   "execution_count": 23,
   "metadata": {},
   "outputs": [
    {
     "name": "stderr",
     "output_type": "stream",
     "text": [
      "[Parallel(n_jobs=-1)]: Using backend LokyBackend with 16 concurrent workers.\n",
      "[Parallel(n_jobs=-1)]: Done   9 tasks      | elapsed:    0.0s\n"
     ]
    },
    {
     "name": "stdout",
     "output_type": "stream",
     "text": [
      "Fitting 10 folds for each of 1152 candidates, totalling 11520 fits\n"
     ]
    },
    {
     "name": "stderr",
     "output_type": "stream",
     "text": [
      "[Parallel(n_jobs=-1)]: Done 520 tasks      | elapsed:    0.4s\n",
      "[Parallel(n_jobs=-1)]: Done 10410 tasks      | elapsed:    8.1s\n"
     ]
    },
    {
     "name": "stdout",
     "output_type": "stream",
     "text": [
      "Best Score (negative mean squared error): -26.393815\n",
      "Optimal Hyperparameter Values:  {'alpha': 0.01, 'eta0': 0.01, 'l1_ratio': 1, 'learning_rate': 'optimal', 'loss': 'squared_epsilon_insensitive', 'max_iter': 1000}\n",
      "\n",
      "\n",
      "Wall time: 9.98 s\n"
     ]
    },
    {
     "name": "stderr",
     "output_type": "stream",
     "text": [
      "[Parallel(n_jobs=-1)]: Done 11520 out of 11520 | elapsed:    9.9s finished\n"
     ]
    }
   ],
   "source": [
    "\n",
    "%%time\n",
    "\n",
    "\n",
    "# The param_grid tells Scikit-Learn to evaluate all combinations of the hyperparameter values\n",
    "param_grid = {'alpha': [0.1, 0.01, 0.001], 'learning_rate': [\"constant\", \"optimal\", \"invscaling\"], \n",
    "              'l1_ratio': [1, 0.5, 0.2, 0], 'max_iter':[100, 400, 1000, 10000],'eta0': [0.01, 0.001],\n",
    "              'loss': ['squared_loss', 'huber', 'epsilon_insensitive', 'squared_epsilon_insensitive']}\n",
    "\n",
    "\n",
    "\n",
    "sgd = SGDRegressor()\n",
    "\n",
    "sgd_cv = GridSearchCV(sgd, param_grid, scoring='neg_mean_squared_error', cv=10, verbose=2, n_jobs=-1)\n",
    "sgd_cv.fit(X_train, y_train)\n",
    "\n",
    "\n",
    "params_optimal_sgd = sgd_cv.best_params_\n",
    "\n",
    "print(\"Best Score (negative mean squared error): %f\" % sgd_cv.best_score_)\n",
    "print(\"Optimal Hyperparameter Values: \", params_optimal_sgd)\n",
    "print(\"\\n\")"
   ]
  },
  {
   "cell_type": "code",
   "execution_count": 24,
   "metadata": {},
   "outputs": [
    {
     "name": "stdout",
     "output_type": "stream",
     "text": [
      "\n",
      "----------------------------- Model Evaluation -----------------------------\n",
      "Mean squared error: 26.44\n",
      "Coefficient of determination r^2 variance score [1 is perfect prediction]: 0.73\n"
     ]
    }
   ],
   "source": [
    "# SGD Regression\n",
    "\n",
    "# Create SGDRegressor linear regression object using the optimal hyperparameter values\n",
    "lin_reg_sgd = SGDRegressor(**params_optimal_sgd)\n",
    "\n",
    "# Train the model\n",
    "lin_reg_sgd.fit(X_train, y_train)\n",
    "\n",
    "\n",
    "print(\"\\n----------------------------- Model Evaluation -----------------------------\")\n",
    "\n",
    "# Make prediction \n",
    "y_train_predicted_sgd = lin_reg_sgd.predict(X_train)\n",
    "\n",
    "\n",
    "print(\"Mean squared error: %.2f\"\n",
    "      % mean_squared_error(y_train, y_train_predicted_sgd))\n",
    "\n",
    "\n",
    "# Explained variance score: 1 is perfect prediction\n",
    "print(\"Coefficient of determination r^2 variance score [1 is perfect prediction]: %.2f\" % r2_score(y_train, y_train_predicted_sgd))"
   ]
  },
  {
   "cell_type": "code",
   "execution_count": 25,
   "metadata": {},
   "outputs": [
    {
     "name": "stdout",
     "output_type": "stream",
     "text": [
      "[-30.72122076 -27.39701383 -27.67550051 -23.91447982 -28.29401883\n",
      " -23.80333197 -28.06538802 -23.69369966 -24.15659012 -27.60858348]\n",
      "Negative Mean Squared Error: -26.53 (+/- 4.66)\n"
     ]
    }
   ],
   "source": [
    "\n",
    "# Scoring Parameter for Regression:\n",
    "# https://scikit-learn.org/stable/modules/model_evaluation.html#scoring-parameter\n",
    "\n",
    "scores = cross_val_score(lin_reg_sgd, X_train, y_train, scoring='neg_mean_squared_error', cv=10)\n",
    "print(scores)\n",
    "\n",
    "print(\"Negative Mean Squared Error: %0.2f (+/- %0.2f)\" % (scores.mean(), scores.std() * 2))"
   ]
  },
  {
   "cell_type": "code",
   "execution_count": 26,
   "metadata": {},
   "outputs": [
    {
     "name": "stdout",
     "output_type": "stream",
     "text": [
      "Mean squared error: 29.96\n",
      "Coefficient of determination r^2 variance score [1 is perfect prediction]: 0.72\n"
     ]
    }
   ],
   "source": [
    "y_test_predicted = lin_reg_sgd.predict(X_test)\n",
    "\n",
    "\n",
    "test_mse_linear = mean_squared_error(y_test, y_test_predicted)\n",
    "\n",
    "print(\"Mean squared error: %.2f\"\n",
    "      % test_mse_linear)\n",
    "\n",
    "\n",
    "# Explained variance score: 1 is perfect prediction\n",
    "test_r2_linear = r2_score(y_test, y_test_predicted)\n",
    "print(\"Coefficient of determination r^2 variance score [1 is perfect prediction]: %.2f\" \n",
    "      % test_r2_linear)"
   ]
  },
  {
   "cell_type": "code",
   "execution_count": 27,
   "metadata": {},
   "outputs": [
    {
     "name": "stdout",
     "output_type": "stream",
     "text": [
      "No. of Original Features:  10\n",
      "No. of Augmented Features:  65\n"
     ]
    }
   ],
   "source": [
    "# Variable that speficies the degree of the polynomial to be added to the feature vector\n",
    "poly_degree = 2\n",
    "\n",
    "\n",
    "# Add polynomial terms with the feature vector using the sklearn PolynomialFeatures class\n",
    "poly_features = PolynomialFeatures(degree=poly_degree, include_bias=False)\n",
    "X_train_poly = poly_features.fit_transform(X_train)\n",
    "\n",
    "\n",
    "print(\"No. of Original Features: \", X_train.shape[1])\n",
    "print(\"No. of Augmented Features: \", X_train_poly.shape[1])"
   ]
  },
  {
   "cell_type": "code",
   "execution_count": 28,
   "metadata": {},
   "outputs": [
    {
     "name": "stderr",
     "output_type": "stream",
     "text": [
      "[Parallel(n_jobs=-1)]: Using backend LokyBackend with 16 concurrent workers.\n",
      "[Parallel(n_jobs=-1)]: Done   9 tasks      | elapsed:    0.0s\n"
     ]
    },
    {
     "name": "stdout",
     "output_type": "stream",
     "text": [
      "Fitting 10 folds for each of 384 candidates, totalling 3840 fits\n"
     ]
    },
    {
     "name": "stderr",
     "output_type": "stream",
     "text": [
      "[Parallel(n_jobs=-1)]: Done 432 tasks      | elapsed:    0.9s\n",
      "[Parallel(n_jobs=-1)]: Done 1727 tasks      | elapsed:   13.0s\n",
      "[Parallel(n_jobs=-1)]: Done 2208 tasks      | elapsed:   17.3s\n",
      "[Parallel(n_jobs=-1)]: Done 3509 tasks      | elapsed:   27.8s\n"
     ]
    },
    {
     "name": "stdout",
     "output_type": "stream",
     "text": [
      "Best Score (negative mean squared error): -22.201087\n",
      "Optimal Hyperparameter Values:  {'alpha': 0.01, 'eta0': 0.001, 'l1_ratio': 0.5, 'learning_rate': 'invscaling', 'loss': 'squared_loss', 'max_iter': 400}\n",
      "\n",
      "\n",
      "Wall time: 35 s\n"
     ]
    },
    {
     "name": "stderr",
     "output_type": "stream",
     "text": [
      "[Parallel(n_jobs=-1)]: Done 3840 out of 3840 | elapsed:   34.8s finished\n"
     ]
    }
   ],
   "source": [
    "%%time\n",
    "\n",
    "\n",
    "# The param_grid tells Scikit-Learn to evaluate all combinations of the hyperparameter values\n",
    "# param_grid = {'alpha': [0.1, 0.01], 'learning_rate': [\"invscaling\"], \n",
    "#               'l1_ratio': [1, 0.5, 0.2, 0], 'max_iter':[100, 400, 1000, 5000],'eta0': [0.01, 0.001, 0.0001]}\n",
    "\n",
    "\n",
    "param_grid = {'alpha': [0.1, 0.01], 'learning_rate': [\"invscaling\"], \n",
    "              'l1_ratio': [1, 0.5, 0.2, 0], 'max_iter':[100, 400, 1000, 10000],'eta0': [0.01, 0.001, 0.0001],\n",
    "              'loss': ['squared_loss', 'huber', 'epsilon_insensitive', 'squared_epsilon_insensitive']}\n",
    "\n",
    "\n",
    "\n",
    "sgd = SGDRegressor()\n",
    "\n",
    "sgd_cv = GridSearchCV(sgd, param_grid, scoring='neg_mean_squared_error', cv=10, verbose=2, n_jobs=-1)\n",
    "sgd_cv.fit(X_train_poly, y_train)\n",
    "\n",
    "\n",
    "params_optimal_sgd = sgd_cv.best_params_\n",
    "\n",
    "print(\"Best Score (negative mean squared error): %f\" % sgd_cv.best_score_)\n",
    "print(\"Optimal Hyperparameter Values: \", params_optimal_sgd)\n",
    "print(\"\\n\")"
   ]
  },
  {
   "cell_type": "code",
   "execution_count": 29,
   "metadata": {},
   "outputs": [
    {
     "name": "stdout",
     "output_type": "stream",
     "text": [
      "Number of Iterations: \n",
      " 113\n",
      "\n",
      "----------------------------- Model Evaluation -----------------------------\n",
      "Mean squared error: 20.91\n",
      "Coefficient of determination r^2 variance score [1 is perfect prediction]: 0.79\n"
     ]
    }
   ],
   "source": [
    "\n",
    "# SGD Regression\n",
    "\n",
    "# Create SGDRegressor linear regression object using the optimal hyperparameter values\n",
    "lin_reg_sgd = SGDRegressor(**params_optimal_sgd)\n",
    "\n",
    "# Train the model\n",
    "lin_reg_sgd.fit(X_train_poly, y_train)\n",
    "\n",
    "\n",
    "# # The intercept\n",
    "# print(\"Intercept: \\n\", lin_reg_sgd.intercept_)\n",
    "\n",
    "# # The coefficients\n",
    "# print(\"Coefficients: \\n\", lin_reg_sgd.coef_)\n",
    "\n",
    "# The number of iterations\n",
    "print(\"Number of Iterations: \\n\", lin_reg_sgd.n_iter_)\n",
    "\n",
    "\n",
    "print(\"\\n----------------------------- Model Evaluation -----------------------------\")\n",
    "\n",
    "# Make prediction \n",
    "y_train_predicted_sgd = lin_reg_sgd.predict(X_train_poly)\n",
    "\n",
    "\n",
    "print(\"Mean squared error: %.2f\"\n",
    "      % mean_squared_error(y_train, y_train_predicted_sgd))\n",
    "\n",
    "\n",
    "# Explained variance score: 1 is perfect prediction\n",
    "print(\"Coefficient of determination r^2 variance score [1 is perfect prediction]: %.2f\" % r2_score(y_train, y_train_predicted_sgd))"
   ]
  },
  {
   "cell_type": "code",
   "execution_count": 30,
   "metadata": {},
   "outputs": [
    {
     "name": "stdout",
     "output_type": "stream",
     "text": [
      "Mean squared error: 32.10\n",
      "Coefficient of determination r^2 variance score [1 is perfect prediction]: 0.70\n"
     ]
    }
   ],
   "source": [
    "poly_features = PolynomialFeatures(degree=poly_degree, include_bias=False)\n",
    "X_test_poly = poly_features.fit_transform(X_test)\n",
    "\n",
    "# Make prediction using the test data\n",
    "y_test_predicted = lin_reg_sgd.predict(X_test_poly)\n",
    "\n",
    "test_mse_polynomial = mean_squared_error(y_test, y_test_predicted)\n",
    "\n",
    "print(\"Mean squared error: %.2f\"\n",
    "      % test_mse_polynomial)\n",
    "\n",
    "\n",
    "\n",
    "# Explained variance score: 1 is perfect prediction\n",
    "\n",
    "test_r2_polynomial = r2_score(y_test, y_test_predicted)\n",
    "print(\"Coefficient of determination r^2 variance score [1 is perfect prediction]: %.2f\" \n",
    "      % test_r2_polynomial)"
   ]
  },
  {
   "cell_type": "code",
   "execution_count": 31,
   "metadata": {},
   "outputs": [
    {
     "data": {
      "text/html": [
       "<div>\n",
       "<style scoped>\n",
       "    .dataframe tbody tr th:only-of-type {\n",
       "        vertical-align: middle;\n",
       "    }\n",
       "\n",
       "    .dataframe tbody tr th {\n",
       "        vertical-align: top;\n",
       "    }\n",
       "\n",
       "    .dataframe thead th {\n",
       "        text-align: right;\n",
       "    }\n",
       "</style>\n",
       "<table border=\"1\" class=\"dataframe\">\n",
       "  <thead>\n",
       "    <tr style=\"text-align: right;\">\n",
       "      <th></th>\n",
       "      <th>Metric</th>\n",
       "      <th>SGD Linear Regression</th>\n",
       "      <th>SGD Polynomial Regression (degree 2)</th>\n",
       "    </tr>\n",
       "  </thead>\n",
       "  <tbody>\n",
       "    <tr>\n",
       "      <th>0</th>\n",
       "      <td>MSE (test)</td>\n",
       "      <td>29.958830</td>\n",
       "      <td>32.103047</td>\n",
       "    </tr>\n",
       "    <tr>\n",
       "      <th>1</th>\n",
       "      <td>R2 Score (test)</td>\n",
       "      <td>0.716062</td>\n",
       "      <td>0.695740</td>\n",
       "    </tr>\n",
       "  </tbody>\n",
       "</table>\n",
       "</div>"
      ],
      "text/plain": [
       "            Metric  SGD Linear Regression  \\\n",
       "0       MSE (test)              29.958830   \n",
       "1  R2 Score (test)               0.716062   \n",
       "\n",
       "   SGD Polynomial Regression (degree 2)  \n",
       "0                             32.103047  \n",
       "1                              0.695740  "
      ]
     },
     "execution_count": 31,
     "metadata": {},
     "output_type": "execute_result"
    }
   ],
   "source": [
    "data = [[\"MSE (test)\", test_mse_linear, test_mse_polynomial], \n",
    "        [\"R2 Score (test)\", test_r2_linear, test_r2_polynomial]]\n",
    "pd.DataFrame(data, columns=[\"Metric\", \"SGD Linear Regression\", \"SGD Polynomial Regression (degree 2)\"])"
   ]
  },
  {
   "cell_type": "code",
   "execution_count": 32,
   "metadata": {},
   "outputs": [],
   "source": [
    "poly_features = PolynomialFeatures(degree=2, include_bias=False)\n",
    "X_train_poly = poly_features.fit_transform(X_train)"
   ]
  },
  {
   "cell_type": "code",
   "execution_count": 33,
   "metadata": {},
   "outputs": [
    {
     "data": {
      "image/png": "[encoded data removed]",
      "text/plain": [
       "<Figure size 720x432 with 1 Axes>"
      ]
     },
     "metadata": {
      "needs_background": "light"
     },
     "output_type": "display_data"
    }
   ],
   "source": [
    "# Create CV training and validation scores for various training set sizes\n",
    "train_sizes, train_scores, val_scores = learning_curve(Ridge(alpha=0.94, solver='sparse_cg'), X_train_poly, y_train, cv=5, \n",
    "                                                        scoring='neg_mean_squared_error', \n",
    "                                                        train_sizes=np.linspace(0.01, 1.0, 50),\n",
    "                                                        n_jobs=-1)\n",
    "                                                \n",
    "                                                                                                                                                                                                                 \n",
    "# Create means and standard deviations of training set scores\n",
    "train_mean = np.mean(train_scores, axis=1)\n",
    "train_std = np.std(train_scores, axis=1)\n",
    "\n",
    "# Create means and standard deviations of validation set scores\n",
    "val_mean = np.mean(val_scores, axis=1)\n",
    "val_std = np.std(val_scores, axis=1)\n",
    "\n",
    "\n",
    "plt.figure(figsize=(10, 6))\n",
    "plt.plot(train_sizes, train_mean, \"r-+\", linewidth=3, label=\"Training Score\")\n",
    "plt.plot(train_sizes, val_mean, \"b-\", linewidth=2, label=\"Cross-validation Score\")\n",
    "plt.legend(loc=\"best\", fontsize=14)   \n",
    "plt.xlabel(\"Training set size\", fontsize=14) \n",
    "plt.ylabel(\"Negative MSE\", fontsize=14) \n",
    "plt.title(\"Learning Curve (Linear Model)\")\n",
    "plt.show()"
   ]
  },
  {
   "cell_type": "markdown",
   "metadata": {},
   "source": [
    "### High bias problem More advanced model needed \n"
   ]
  },
  {
   "cell_type": "markdown",
   "metadata": {},
   "source": [
    "### SVM(RBF kernel) and Random Forrest"
   ]
  },
  {
   "cell_type": "code",
   "execution_count": 34,
   "metadata": {},
   "outputs": [
    {
     "name": "stdout",
     "output_type": "stream",
     "text": [
      "Fitting 10 folds for each of 24 candidates, totalling 240 fits\n"
     ]
    },
    {
     "name": "stderr",
     "output_type": "stream",
     "text": [
      "[Parallel(n_jobs=-1)]: Using backend LokyBackend with 16 concurrent workers.\n",
      "[Parallel(n_jobs=-1)]: Done   9 tasks      | elapsed:    0.6s\n",
      "[Parallel(n_jobs=-1)]: Done 130 tasks      | elapsed:   12.8s\n",
      "[Parallel(n_jobs=-1)]: Done 240 out of 240 | elapsed:  4.0min finished\n"
     ]
    },
    {
     "name": "stdout",
     "output_type": "stream",
     "text": [
      "Best Score (negative mean squared error): -21.300878\n",
      "Optimal Hyperparameter Values:  {'C': 100, 'gamma': 0.001}\n",
      "\n",
      "\n"
     ]
    }
   ],
   "source": [
    "param_grid = {'gamma': [0.000001, 0.0001, 0.001, 0.01, 0.1, 1], \n",
    "              'C': [10, 100, 1000, 10000]}\n",
    "\n",
    "\n",
    "\n",
    "svm = SVR(kernel=\"rbf\")\n",
    "\n",
    "svm_cv = GridSearchCV(svm, param_grid, scoring='neg_mean_squared_error', cv=10, verbose=2, n_jobs=-1)\n",
    "svm_cv.fit(X, y)\n",
    "\n",
    "\n",
    "params_optimal = svm_cv.best_params_\n",
    "\n",
    "print(\"Best Score (negative mean squared error): %f\" % svm_cv.best_score_)\n",
    "print(\"Optimal Hyperparameter Values: \", params_optimal)\n",
    "print(\"\\n\")"
   ]
  },
  {
   "cell_type": "code",
   "execution_count": 35,
   "metadata": {},
   "outputs": [
    {
     "name": "stdout",
     "output_type": "stream",
     "text": [
      "\n",
      "----------------------------- Model Evaluation -----------------------------\n",
      "Train: Mean squared error: 24.82\n",
      "Train: Coefficient of determination r^2 variance score [1 is perfect prediction]: 0.75\n",
      "\n",
      "Test: Mean squared error: 27.49\n",
      "Test: Coefficient of determination r^2 variance score [1 is perfect prediction]: 0.74\n"
     ]
    }
   ],
   "source": [
    "svm = SVR(kernel=\"rbf\", **params_optimal)\n",
    "svm.fit(X_train, y_train)\n",
    "\n",
    "print(\"\\n----------------------------- Model Evaluation -----------------------------\")\n",
    "\n",
    "# Make prediction \n",
    "y_train_predicted_svm = svm.predict(X_train)\n",
    "\n",
    "\n",
    "print(\"Train: Mean squared error: %.2f\"\n",
    "      % mean_squared_error(y_train, y_train_predicted_svm))\n",
    "\n",
    "\n",
    "# Explained variance score: 1 is perfect prediction\n",
    "print(\"Train: Coefficient of determination r^2 variance score [1 is perfect prediction]: %.2f\" % r2_score(y_train, y_train_predicted_svm))\n",
    "\n",
    "\n",
    "# Make prediction using the test data\n",
    "y_test_predicted_svm = svm.predict(X_test)\n",
    "\n",
    "test_mse_svm = mean_squared_error(y_test, y_test_predicted_svm)\n",
    "\n",
    "print(\"\\nTest: Mean squared error: %.2f\"\n",
    "      % test_mse_svm)\n",
    "\n",
    "\n",
    "\n",
    "# Explained variance score: 1 is perfect prediction\n",
    "\n",
    "test_r2_svm = r2_score(y_test, y_test_predicted_svm)\n",
    "print(\"Test: Coefficient of determination r^2 variance score [1 is perfect prediction]: %.2f\" \n",
    "      % test_r2_svm)"
   ]
  },
  {
   "cell_type": "code",
   "execution_count": null,
   "metadata": {},
   "outputs": [],
   "source": []
  },
  {
   "cell_type": "code",
   "execution_count": 36,
   "metadata": {},
   "outputs": [],
   "source": [
    "# Number of trees in random forest\n",
    "n_estimators = [int(x) for x in np.linspace(start = 200, stop = 2000, num = 10)]\n",
    "# Number of features to consider at every split\n",
    "max_features = ['auto', 'sqrt']\n",
    "# Maximum number of levels in tree\n",
    "max_depth = [int(x) for x in np.linspace(10, 110, num = 11)]\n",
    "max_depth.append(None)\n",
    "\n",
    "# Create the random grid\n",
    "param_grid = {'n_estimators': n_estimators,\n",
    "               'max_features': max_features,\n",
    "               'max_depth': max_depth}"
   ]
  },
  {
   "cell_type": "code",
   "execution_count": null,
   "metadata": {},
   "outputs": [],
   "source": []
  },
  {
   "cell_type": "code",
   "execution_count": 37,
   "metadata": {},
   "outputs": [
    {
     "name": "stdout",
     "output_type": "stream",
     "text": [
      "Fitting 5 folds for each of 240 candidates, totalling 1200 fits\n"
     ]
    },
    {
     "name": "stderr",
     "output_type": "stream",
     "text": [
      "[Parallel(n_jobs=-1)]: Using backend LokyBackend with 16 concurrent workers.\n",
      "[Parallel(n_jobs=-1)]: Done   9 tasks      | elapsed:    3.5s\n",
      "[Parallel(n_jobs=-1)]: Done 130 tasks      | elapsed:  1.1min\n",
      "[Parallel(n_jobs=-1)]: Done 333 tasks      | elapsed:  3.2min\n",
      "[Parallel(n_jobs=-1)]: Done 616 tasks      | elapsed:  6.0min\n",
      "[Parallel(n_jobs=-1)]: Done 981 tasks      | elapsed:  9.8min\n",
      "[Parallel(n_jobs=-1)]: Done 1200 out of 1200 | elapsed: 12.1min finished\n"
     ]
    },
    {
     "name": "stdout",
     "output_type": "stream",
     "text": [
      "Best Score (accuracy): -20.592889\n",
      "Optimal Hyperparameter Values:  {'max_depth': 40, 'max_features': 'sqrt', 'n_estimators': 1200}\n",
      "\n",
      "\n",
      "Wall time: 12min 10s\n"
     ]
    }
   ],
   "source": [
    "%%time\n",
    "rnd_forest_reg = RandomForestRegressor()\n",
    "\n",
    "dt_clf_cv = GridSearchCV(rnd_forest_reg, param_grid, scoring='neg_mean_squared_error', cv=5, verbose=2, n_jobs=-1)\n",
    "dt_clf_cv.fit(X_train, y_train)\n",
    "\n",
    "params_optimal = dt_clf_cv.best_params_\n",
    "\n",
    "print(\"Best Score (accuracy): %f\" % dt_clf_cv.best_score_)\n",
    "print(\"Optimal Hyperparameter Values: \", params_optimal)\n",
    "print(\"\\n\")"
   ]
  },
  {
   "cell_type": "code",
   "execution_count": null,
   "metadata": {},
   "outputs": [],
   "source": []
  },
  {
   "cell_type": "code",
   "execution_count": 38,
   "metadata": {},
   "outputs": [],
   "source": [
    " params_optimal = {'max_depth': 10, 'max_features': 'auto', 'n_estimators': 1800}"
   ]
  },
  {
   "cell_type": "code",
   "execution_count": 39,
   "metadata": {
    "scrolled": false
   },
   "outputs": [
    {
     "name": "stderr",
     "output_type": "stream",
     "text": [
      "[Parallel(n_jobs=-1)]: Using backend ThreadingBackend with 16 concurrent workers.\n",
      "[Parallel(n_jobs=-1)]: Done  18 tasks      | elapsed:    0.0s\n",
      "[Parallel(n_jobs=-1)]: Done 168 tasks      | elapsed:    0.1s\n",
      "[Parallel(n_jobs=-1)]: Done 418 tasks      | elapsed:    0.5s\n",
      "[Parallel(n_jobs=-1)]: Done 768 tasks      | elapsed:    0.9s\n",
      "[Parallel(n_jobs=-1)]: Done 1218 tasks      | elapsed:    1.5s\n",
      "[Parallel(n_jobs=-1)]: Done 1768 tasks      | elapsed:    2.2s\n",
      "[Parallel(n_jobs=-1)]: Done 1800 out of 1800 | elapsed:    2.2s finished\n",
      "[Parallel(n_jobs=16)]: Using backend ThreadingBackend with 16 concurrent workers.\n",
      "[Parallel(n_jobs=16)]: Done  18 tasks      | elapsed:    0.0s\n",
      "[Parallel(n_jobs=16)]: Done 168 tasks      | elapsed:    0.0s\n",
      "[Parallel(n_jobs=16)]: Done 418 tasks      | elapsed:    0.0s\n",
      "[Parallel(n_jobs=16)]: Done 768 tasks      | elapsed:    0.0s\n",
      "[Parallel(n_jobs=16)]: Done 1218 tasks      | elapsed:    0.1s\n"
     ]
    },
    {
     "name": "stdout",
     "output_type": "stream",
     "text": [
      "Train: Mean squared error: 7.30\n",
      "Train: Coefficient of determination r^2 variance score [1 is perfect prediction]: 0.93\n",
      "Test: Mean squared error: 22.79\n",
      "Test: Coefficient of determination r^2 variance score [1 is perfect prediction]: 0.78\n"
     ]
    },
    {
     "name": "stderr",
     "output_type": "stream",
     "text": [
      "[Parallel(n_jobs=16)]: Done 1768 tasks      | elapsed:    0.1s\n",
      "[Parallel(n_jobs=16)]: Done 1800 out of 1800 | elapsed:    0.1s finished\n",
      "[Parallel(n_jobs=16)]: Using backend ThreadingBackend with 16 concurrent workers.\n",
      "[Parallel(n_jobs=16)]: Done  18 tasks      | elapsed:    0.0s\n",
      "[Parallel(n_jobs=16)]: Done 168 tasks      | elapsed:    0.0s\n",
      "[Parallel(n_jobs=16)]: Done 418 tasks      | elapsed:    0.0s\n",
      "[Parallel(n_jobs=16)]: Done 768 tasks      | elapsed:    0.0s\n",
      "[Parallel(n_jobs=16)]: Done 1218 tasks      | elapsed:    0.0s\n",
      "[Parallel(n_jobs=16)]: Done 1768 tasks      | elapsed:    0.1s\n",
      "[Parallel(n_jobs=16)]: Done 1800 out of 1800 | elapsed:    0.1s finished\n"
     ]
    }
   ],
   "source": [
    "\n",
    "\n",
    "\n",
    "rnd_forest_reg = RandomForestRegressor(**params_optimal,criterion=\"mse\"\n",
    "                                       ,verbose=1,\n",
    "                                       oob_score=True, n_jobs=-1)\n",
    "\n",
    "rnd_forest_reg.fit(X_train, y_train)\n",
    "\n",
    "\n",
    "# Make prediction \n",
    "y_train_predicted_rnd_forest = rnd_forest_reg.predict(X_train)\n",
    "\n",
    "\n",
    "train_mse_rnd_forest = mean_squared_error(y_train, y_train_predicted_rnd_forest)\n",
    "\n",
    "print(\"Train: Mean squared error: %.2f\"\n",
    "      % train_mse_rnd_forest)\n",
    "\n",
    "\n",
    "# Explained variance score: 1 is perfect prediction\n",
    "print(\"Train: Coefficient of determination r^2 variance score [1 is perfect prediction]: %.2f\" \n",
    "      % r2_score(y_train, y_train_predicted_rnd_forest))\n",
    "\n",
    "\n",
    "\n",
    "\n",
    "y_test_predicted_rnd_forest = rnd_forest_reg.predict(X_test)\n",
    "\n",
    "\n",
    "test_mse_rnd_forest = mean_squared_error(y_test, y_test_predicted_rnd_forest)\n",
    "\n",
    "print(\"Test: Mean squared error: %.2f\"\n",
    "      % test_mse_rnd_forest)\n",
    "\n",
    "\n",
    "# Explained variance score: 1 is perfect prediction\n",
    "\n",
    "test_r2_rnd_forest = r2_score(y_test, y_test_predicted_rnd_forest)\n",
    "\n",
    "\n",
    "print(\"Test: Coefficient of determination r^2 variance score [1 is perfect prediction]: %.2f\" \n",
    "      % test_r2_rnd_forest)"
   ]
  },
  {
   "cell_type": "code",
   "execution_count": 40,
   "metadata": {},
   "outputs": [
    {
     "data": {
      "image/png": "[encoded data removed]",
      "text/plain": [
       "<Figure size 720x432 with 1 Axes>"
      ]
     },
     "metadata": {
      "needs_background": "light"
     },
     "output_type": "display_data"
    }
   ],
   "source": [
    "# Create CV training and validation scores for various training set sizes\n",
    "train_sizes, train_scores, val_scores = learning_curve(RandomForestRegressor(**params_optimal,criterion=\"mse\"\n",
    "                                       ,verbose=1,\n",
    "                                       oob_score=True, n_jobs=-1), X_train, y_train, cv=5, \n",
    "                                                        scoring='neg_mean_squared_error', \n",
    "                                                        train_sizes=np.linspace(0.01, 1.0, 50),\n",
    "                                                        n_jobs=-1)\n",
    "                                                \n",
    "                                                                                                                                                                                                                 \n",
    "# Create means and standard deviations of training set scores\n",
    "train_mean = np.mean(train_scores, axis=1)\n",
    "train_std = np.std(train_scores, axis=1)\n",
    "\n",
    "# Create means and standard deviations of validation set scores\n",
    "val_mean = np.mean(val_scores, axis=1)\n",
    "val_std = np.std(val_scores, axis=1)\n",
    "\n",
    "\n",
    "plt.figure(figsize=(10, 6))\n",
    "plt.plot(train_sizes, train_mean, \"r-+\", linewidth=3, label=\"Training Score\")\n",
    "plt.plot(train_sizes, val_mean, \"b-\", linewidth=2, label=\"Cross-validation Score\")\n",
    "plt.legend(loc=\"best\", fontsize=14)   \n",
    "plt.xlabel(\"Training set size\", fontsize=14) \n",
    "plt.ylabel(\"Negative MSE\", fontsize=14) \n",
    "plt.title(\"Learning Curve (Linear Model)\")\n",
    "plt.show()"
   ]
  },
  {
   "cell_type": "markdown",
   "metadata": {},
   "source": [
    "## Need More DATA\n"
   ]
  },
  {
   "cell_type": "code",
   "execution_count": 41,
   "metadata": {},
   "outputs": [
    {
     "name": "stderr",
     "output_type": "stream",
     "text": [
      "[Parallel(n_jobs=-1)]: Using backend ThreadingBackend with 16 concurrent workers.\n",
      "[Parallel(n_jobs=-1)]: Done  18 tasks      | elapsed:    0.0s\n",
      "[Parallel(n_jobs=-1)]: Done 168 tasks      | elapsed:    0.1s\n",
      "[Parallel(n_jobs=-1)]: Done 418 tasks      | elapsed:    0.5s\n",
      "[Parallel(n_jobs=-1)]: Done 768 tasks      | elapsed:    1.0s\n",
      "[Parallel(n_jobs=-1)]: Done 1218 tasks      | elapsed:    1.5s\n",
      "[Parallel(n_jobs=-1)]: Done 1768 tasks      | elapsed:    2.3s\n",
      "[Parallel(n_jobs=-1)]: Done 1800 out of 1800 | elapsed:    2.3s finished\n",
      "[Parallel(n_jobs=16)]: Using backend ThreadingBackend with 16 concurrent workers.\n",
      "[Parallel(n_jobs=16)]: Done  18 tasks      | elapsed:    0.0s\n",
      "[Parallel(n_jobs=16)]: Done 168 tasks      | elapsed:    0.0s\n",
      "[Parallel(n_jobs=16)]: Done 418 tasks      | elapsed:    0.0s\n",
      "[Parallel(n_jobs=16)]: Done 768 tasks      | elapsed:    0.0s\n",
      "[Parallel(n_jobs=16)]: Done 1218 tasks      | elapsed:    0.1s\n"
     ]
    },
    {
     "name": "stdout",
     "output_type": "stream",
     "text": [
      "Train: Mean squared error: 7.31\n",
      "Train: Coefficient of determination r^2 variance score [1 is perfect prediction]: 0.93\n",
      "Test: Mean squared error: 22.80\n",
      "Test: Coefficient of determination r^2 variance score [1 is perfect prediction]: 0.78\n"
     ]
    },
    {
     "name": "stderr",
     "output_type": "stream",
     "text": [
      "[Parallel(n_jobs=16)]: Done 1768 tasks      | elapsed:    0.1s\n",
      "[Parallel(n_jobs=16)]: Done 1800 out of 1800 | elapsed:    0.1s finished\n",
      "[Parallel(n_jobs=16)]: Using backend ThreadingBackend with 16 concurrent workers.\n",
      "[Parallel(n_jobs=16)]: Done  18 tasks      | elapsed:    0.0s\n",
      "[Parallel(n_jobs=16)]: Done 168 tasks      | elapsed:    0.0s\n",
      "[Parallel(n_jobs=16)]: Done 418 tasks      | elapsed:    0.0s\n",
      "[Parallel(n_jobs=16)]: Done 768 tasks      | elapsed:    0.0s\n",
      "[Parallel(n_jobs=16)]: Done 1218 tasks      | elapsed:    0.0s\n",
      "[Parallel(n_jobs=16)]: Done 1768 tasks      | elapsed:    0.1s\n",
      "[Parallel(n_jobs=16)]: Done 1800 out of 1800 | elapsed:    0.1s finished\n"
     ]
    }
   ],
   "source": [
    "\n",
    "\n",
    "\n",
    "rnd_forest_reg = RandomForestRegressor(**params_optimal,criterion=\"mse\"\n",
    "                                       ,verbose=1,\n",
    "                                       oob_score=True, n_jobs=-1)\n",
    "\n",
    "rnd_forest_reg.fit(X_train, y_train)\n",
    "\n",
    "\n",
    "# Make prediction \n",
    "y_train_predicted_rnd_forest = rnd_forest_reg.predict(X_train)\n",
    "\n",
    "\n",
    "train_mse_rnd_forest = mean_squared_error(y_train, y_train_predicted_rnd_forest)\n",
    "\n",
    "print(\"Train: Mean squared error: %.2f\"\n",
    "      % train_mse_rnd_forest)\n",
    "\n",
    "\n",
    "# Explained variance score: 1 is perfect prediction\n",
    "print(\"Train: Coefficient of determination r^2 variance score [1 is perfect prediction]: %.2f\" \n",
    "      % r2_score(y_train, y_train_predicted_rnd_forest))\n",
    "\n",
    "\n",
    "\n",
    "\n",
    "y_test_predicted_rnd_forest = rnd_forest_reg.predict(X_test)\n",
    "\n",
    "\n",
    "test_mse_rnd_forest = mean_squared_error(y_test, y_test_predicted_rnd_forest)\n",
    "\n",
    "print(\"Test: Mean squared error: %.2f\"\n",
    "      % test_mse_rnd_forest)\n",
    "\n",
    "\n",
    "# Explained variance score: 1 is perfect prediction\n",
    "\n",
    "test_r2_rnd_forest = r2_score(y_test, y_test_predicted_rnd_forest)\n",
    "\n",
    "\n",
    "print(\"Test: Coefficient of determination r^2 variance score [1 is perfect prediction]: %.2f\" \n",
    "      % test_r2_rnd_forest)"
   ]
  },
  {
   "cell_type": "code",
   "execution_count": 42,
   "metadata": {},
   "outputs": [
    {
     "data": {
      "text/plain": [
       "array([ 2, 13,  2, 20, 26,  9, 20,  6, 15,  9,  5,  7,  8, 21,  1,  1,  7,\n",
       "        4, 16,  2, 16,  8,  5,  9, 11,  4,  3,  0,  1, 11, 24,  5,  1,  1,\n",
       "        1, 34, 14, 10, 21, 15,  0,  3, 30,  4, 12,  0, 15, 49,  3,  9,  1,\n",
       "        2,  9,  1, 18,  1, 21, 11,  9,  7,  6, 10,  3, 12, 11,  6, 15,  5,\n",
       "        3, 19,  0, 59, 17,  7, 18,  4, 14, 50,  0,  4, 11,  8,  2, 15,  5,\n",
       "       11, 12,  5, 19,  6, 11,  2, 18,  3,  6,  4,  4, 17,  9,  6,  4, 51,\n",
       "        1, 20,  9,  3,  1,  5,  0,  4, 36, 11, 18,  9,  8,  7,  3, 10, 10,\n",
       "        2, 12, 17, 43,  4, 15,  7,  0,  3,  7, 10,  1,  1, 23, 30, 16, 15,\n",
       "        5,  2, 15, 14,  4, 22,  2, 15, 32,  5,  1,  0, 26,  4,  1, 22, 18,\n",
       "       18, 15, 14,  5, 10,  3,  3, 17,  4,  2, 27,  0,  5, 18, 19,  1, 18,\n",
       "       11,  5,  2,  6,  3, 31, 20,  7,  3,  2,  5, 13, 11,  9,  6, 22, 40,\n",
       "       10,  1,  1,  4,  0, 13, 12, 10,  8,  7,  0,  9, 18, 15,  4,  7,  5,\n",
       "        4,  9, 11,  2,  0, 13,  1,  0, 25,  6, 19,  4, 52,  3, 10, 17, 23,\n",
       "       10, 10,  2,  5, 15, 10, 18, 21,  7, 58, 13,  2,  1, 20, 12, 18,  4,\n",
       "       13, 16,  0, 20,  2,  3,  5, 10, 38, 17,  0, 18, 18, 13,  6,  4, 16,\n",
       "        5, 17,  3, 22,  8,  5,  1,  3,  2, 17,  4, 20, 50, 36, 17, 19, 23,\n",
       "       17,  7,  8,  0,  8,  1,  7,  7,  9,  0,  1,  7, 12,  9,  7,  1,  1,\n",
       "        3,  5, 15,  1, 11,  1,  4,  5,  0,  7, 10,  0, 12, 12,  3,  9, 14,\n",
       "        2, 11, 15, 25,  7,  1,  0,  9,  1,  1,  1,  0,  9, 18,  0, 38, 18,\n",
       "       18,  3,  8,  3,  8, 15,  9, 19,  2, 15,  3,  0, 10,  1,  6, 22, 16,\n",
       "        6, 13,  8, 14,  1,  3,  1, 17,  5, 21,  5,  8, 18,  4,  3, 38,  9,\n",
       "       21,  7,  9,  0,  1, 13, 10,  1, 17,  2,  1, 10, 16,  0, 13, 19,  3,\n",
       "       14,  1, 11, 14,  4,  5, 15,  3, 15, 16,  4, 31,  9, 12, 10, 19,  1,\n",
       "        3,  9, 10, 10,  9, 56,  2,  0, 13, 19,  3,  3,  6,  8,  1, 11,  2,\n",
       "       13,  4, 17, 12,  8, 47, 10, 15,  7, 16, 11,  4,  0, 25, 25, 10, 48,\n",
       "       25, 11,  3,  1, 23,  5, 20,  2,  4, 14,  3,  3,  1,  4,  7,  7,  1,\n",
       "       12, 15,  2, 17,  0, 19,  2,  0,  4,  1, 15,  3,  2, 16,  3, 22,  9,\n",
       "        6,  9,  2,  5, 30, 29,  1,  2,  4, 11,  3, 26, 21, 12,  1,  2,  2,\n",
       "        0,  2,  0, 14, 14, 16,  1, 21, 25, 21, 56, 13,  4,  9,  1, 23,  1,\n",
       "        5, 15, 12,  9,  1,  1,  9, 11, 14, 17,  4,  1,  1,  4,  0,  6, 14,\n",
       "        4, 18, 26,  1,  7,  1,  8,  6, 15,  1,  4,  3,  5,  3, 16, 10,  1,\n",
       "       17, 13,  1, 22,  3,  4,  8, 17, 11, 19, 13, 13, 16,  0, 15, 14, 14,\n",
       "       34, 17, 46,  0,  3, 13, 26, 13,  0,  8, 29,  8,  5, 40,  8, 19, 12,\n",
       "       24,  1,  4,  2,  6,  4,  4,  7,  4,  3, 32, 17, 10, 37,  1,  3,  9,\n",
       "        3, 33,  9,  6,  3, 10, 17,  3,  2,  1,  8, 24,  3, 12, 10,  4,  4,\n",
       "        5,  6,  5,  3, 18,  2,  3, 11, 16,  3, 12,  7, 14,  1,  5,  7, 49,\n",
       "       13, 18, 15, 27, 14, 13,  2,  5,  9, 14,  2,  9,  5,  3, 11, 15, 13,\n",
       "        8,  3,  3,  3, 13, 11, 33,  1,  4, 16,  3, 29,  6, 19, 17, 20,  6,\n",
       "       14,  1,  4, 11,  6,  0,  2, 10, 33,  4, 15, 21, 38,  8,  6, 17, 15,\n",
       "       18,  8, 16,  0,  3,  5, 12, 22,  5,  3, 33,  2, 15, 13,  4,  7,  9,\n",
       "        1, 36,  2, 15,  8, 16,  9,  0,  2, 17, 11, 53,  7, 18,  9,  5, 18,\n",
       "       34,  8, 20, 20, 20,  2,  9,  2,  9,  3, 13, 20,  8, 15, 62,  7, 37,\n",
       "       15, 17,  5, 12,  3, 13,  8,  7, 23,  5, 14,  6,  9,  4,  4,  7,  2,\n",
       "        3, 20, 16, 16,  0, 11, 19,  5,  0,  6, 18, 28,  4, 24,  4,  1, 12,\n",
       "       11,  1, 17,  7, 53, 14, 25, 22,  2, 10, 51,  1, 12,  2,  1,  6, 20,\n",
       "       21, 19,  3,  6,  3, 13, 19,  2,  6, 18,  0,  4,  3, 24,  2, 17, 19,\n",
       "        7,  2, 54,  7, 14,  6, 16,  2,  6,  1,  8,  6,  5,  9,  0,  8, 22,\n",
       "        1, 13,  3, 23, 17,  0,  1,  0, 13,  8,  0, 17,  4, 24,  1, 10, 19,\n",
       "       16,  1, 11, 10, 15, 15,  5,  1, 21,  2,  3,  3,  4,  4, 12, 13,  0,\n",
       "        5,  3,  6], dtype=int64)"
      ]
     },
     "execution_count": 42,
     "metadata": {},
     "output_type": "execute_result"
    }
   ],
   "source": [
    "y_test"
   ]
  },
  {
   "cell_type": "code",
   "execution_count": 43,
   "metadata": {},
   "outputs": [
    {
     "data": {
      "text/plain": [
       "array([10, 20,  2, 17, 21,  9, 21,  5, 18,  7,  5,  5,  6, 18,  1,  4, 12,\n",
       "        3,  4,  3, 16,  2,  3,  9, 10,  5,  3,  2,  2,  9, 28,  7,  4,  0,\n",
       "        1, 30,  6,  8, 18,  6,  1,  4, 32,  2,  8,  2, 10, 50,  3,  9,  3,\n",
       "        5, 13,  1, 13,  2, 17,  7,  7,  5,  4,  7,  3, 11, 12,  7,  9,  7,\n",
       "        2, 18,  2, 50, 15,  9, 16,  7, 12, 49,  2,  3, 13,  8,  1, 16,  9,\n",
       "       18,  9,  3, 14,  6, 16,  6, 17,  6,  2,  3,  3, 14, 18, 10, 15, 50,\n",
       "        2, 20, 16,  2,  1,  3,  2,  2, 42, 11, 16, 13, 10,  9,  2,  9, 15,\n",
       "        3, 16, 19, 22,  6, 17, 10,  1,  4,  2, 12,  1,  1,  6, 23, 14, 13,\n",
       "        8,  2, 16, 16,  3, 18,  1, 14, 18,  7,  1,  6, 17,  2,  3, 17, 19,\n",
       "       16, 17, 13, 12,  9,  2,  1, 16,  2,  4, 15,  2,  5, 13, 16,  1, 16,\n",
       "       11,  5,  3,  8,  5, 21, 12,  4,  1,  2,  2, 10,  6,  9, 11, 12, 37,\n",
       "       12,  2,  1,  2,  1, 11,  9, 20,  8, 13,  2, 11, 10, 14,  2,  7,  7,\n",
       "        4, 13, 15,  2,  1, 16,  2, 50, 21,  5, 15,  3, 53,  7, 17, 15, 18,\n",
       "        9, 10,  5, 20, 12,  9, 17, 19,  6, 47,  8,  2,  2, 16, 20, 16,  6,\n",
       "       13, 15,  1, 18,  2,  4, 11, 16, 27, 17,  3, 18, 17,  8,  4,  3, 15,\n",
       "        3, 18,  2, 10,  6,  9,  8,  7,  2, 12,  6, 16, 45, 40, 15, 16,  5,\n",
       "       16,  1, 10,  1,  3,  2, 13,  3, 10,  1,  1,  7, 16, 16,  9,  4,  2,\n",
       "        1,  3, 17,  6, 14,  2,  3,  6,  2,  7, 14,  2, 16,  5,  1,  7, 11,\n",
       "        1, 11, 14, 20,  3,  4,  1, 12,  6,  3,  1,  2,  7, 16,  4, 39, 16,\n",
       "       18,  4,  9,  3,  7, 14, 14, 17,  3, 14,  3,  5, 10,  5, 12, 17, 15,\n",
       "       17, 14,  9, 10,  2,  4,  3, 11,  7,  8,  7,  7,  9,  5,  3, 10, 12,\n",
       "       16,  4, 10,  1,  5,  3, 19,  1, 16,  4,  7, 13, 12,  2, 13, 16,  1,\n",
       "       15,  2, 12, 13,  6,  8, 17,  3, 16,  4,  3, 28, 11,  9,  6, 11,  2,\n",
       "        3,  9, 10, 13, 16, 50,  2,  1, 10, 19,  7, 10,  9, 19,  1, 15,  2,\n",
       "       14,  8, 13, 14,  6, 46,  6, 15,  6, 16, 15,  2,  2, 20, 27,  4, 42,\n",
       "       16, 14,  5,  2, 13,  5, 14,  1,  4, 11,  2,  1,  1,  3,  5,  8,  2,\n",
       "       12, 16,  2, 16,  2, 16, 12,  1,  7,  2, 12,  1,  3,  8,  2, 23, 17,\n",
       "        9, 11,  4,  4, 13, 40,  2,  6, 10,  5,  3, 24, 16,  9,  2,  4,  2,\n",
       "        5,  2,  2, 14,  6, 16,  4, 17, 17,  8, 41, 21,  2,  8,  4, 18,  2,\n",
       "       10, 24, 12,  8,  3,  1, 15, 16, 15, 16,  2,  1,  3,  2,  6, 12, 20,\n",
       "        7, 18, 24,  7,  6,  2, 11,  5, 16,  2,  5,  2,  6,  2, 18, 17,  2,\n",
       "       12, 18,  5, 20,  7,  6,  9, 16, 17, 19, 16, 12, 14,  1, 16, 10, 14,\n",
       "       40, 15, 47,  2,  4,  4, 18,  9,  4,  8, 26,  9,  9, 46, 10, 21, 10,\n",
       "       21,  2,  8,  3,  7,  9,  8, 11, 10,  5, 23,  4,  7, 29,  5,  2,  9,\n",
       "        2, 38, 11,  1,  2,  6, 16,  4,  2,  7,  6, 19,  2,  7,  9,  5,  4,\n",
       "        7,  2,  8,  1, 16,  1,  1, 16, 15,  1, 18, 11, 13,  7, 12,  6, 44,\n",
       "       21, 12, 15, 22, 14,  2,  7,  3,  1, 15,  5,  8,  5,  4, 12, 16,  7,\n",
       "        9,  2,  2,  6, 12,  9, 19,  1,  6, 16,  6, 23, 12, 20, 14, 18,  6,\n",
       "       12,  1,  3, 15,  9,  4,  5, 16, 36, 12, 10, 18, 41,  7,  5, 11, 20,\n",
       "       17,  4, 17,  2,  3,  7, 19, 27,  3,  4, 26,  4, 10, 13,  1, 13,  6,\n",
       "        1, 29,  2,  7,  9, 16,  5,  5,  1,  9,  7, 52,  9, 18, 11,  7, 17,\n",
       "       30,  3, 17, 17, 16,  2,  7,  1, 12,  5,  9, 17,  3, 36, 53, 10, 40,\n",
       "       17, 14,  4,  7,  4, 19,  6, 10, 19,  7,  5,  7,  9,  5,  6,  7,  3,\n",
       "        6, 12, 16, 15,  3, 11, 14,  2,  4, 17, 15, 19,  2, 17,  3,  6,  7,\n",
       "        5,  3, 16,  7, 51, 10, 12, 10,  3, 12, 38,  1,  9,  1,  2,  9, 11,\n",
       "       15, 14,  4,  4,  3, 21,  8, 10,  4,  9,  1,  3,  3, 11,  1, 16, 11,\n",
       "       17,  3, 47, 16, 16,  4, 15,  1,  9,  6,  6,  7,  5, 13,  2, 10, 12,\n",
       "        1,  7,  6, 20, 16,  6,  5,  2,  9,  4,  3, 17,  3, 18,  5, 15, 14,\n",
       "       10,  2,  9,  9, 16, 13,  8,  2, 17,  3,  2,  2,  3,  3, 16, 17,  1,\n",
       "        5,  2, 18])"
      ]
     },
     "execution_count": 43,
     "metadata": {},
     "output_type": "execute_result"
    }
   ],
   "source": [
    "y_test_predicted_rnd_forest.astype(int)\n"
   ]
  },
  {
   "cell_type": "code",
   "execution_count": 44,
   "metadata": {},
   "outputs": [],
   "source": [
    "# Number of trees in random forest\n",
    "n_estimators = [int(x) for x in np.linspace(start = 200, stop = 2000, num = 10)]\n",
    "# Number of features to consider at every split\n",
    "max_features = ['auto']\n",
    "# Maximum number of levels in tree\n",
    "max_depth = [int(x) for x in np.linspace(5, 20, num = 6)]\n",
    "max_depth.append(None)\n",
    "\n",
    "# Create the random grid\n",
    "param_grid = {'n_estimators': n_estimators,\n",
    "               'max_features': max_features,\n",
    "               'max_depth': max_depth}"
   ]
  },
  {
   "cell_type": "code",
   "execution_count": 45,
   "metadata": {},
   "outputs": [
    {
     "name": "stdout",
     "output_type": "stream",
     "text": [
      "Fitting 5 folds for each of 70 candidates, totalling 350 fits\n"
     ]
    },
    {
     "name": "stderr",
     "output_type": "stream",
     "text": [
      "[Parallel(n_jobs=-1)]: Using backend LokyBackend with 16 concurrent workers.\n",
      "[Parallel(n_jobs=-1)]: Done   9 tasks      | elapsed:    2.5s\n",
      "[Parallel(n_jobs=-1)]: Done 130 tasks      | elapsed:  1.2min\n",
      "[Parallel(n_jobs=-1)]: Done 350 out of 350 | elapsed:  5.0min finished\n"
     ]
    },
    {
     "name": "stdout",
     "output_type": "stream",
     "text": [
      "Best Score (accuracy): -21.927730\n",
      "Optimal Hyperparameter Values:  {'max_depth': 17, 'max_features': 'auto', 'n_estimators': 600}\n",
      "\n",
      "\n",
      "Wall time: 5min 8s\n"
     ]
    }
   ],
   "source": [
    "%%time\n",
    "rnd_forest_reg = RandomForestRegressor()\n",
    "\n",
    "dt_clf_cv = GridSearchCV(rnd_forest_reg, param_grid, scoring='neg_mean_squared_error', cv=5, verbose=2, n_jobs=-1)\n",
    "dt_clf_cv.fit(X, y)\n",
    "\n",
    "params_optimal = dt_clf_cv.best_params_\n",
    "\n",
    "print(\"Best Score (accuracy): %f\" % dt_clf_cv.best_score_)\n",
    "print(\"Optimal Hyperparameter Values: \", params_optimal)\n",
    "print(\"\\n\")"
   ]
  },
  {
   "cell_type": "code",
   "execution_count": 46,
   "metadata": {},
   "outputs": [],
   "source": [
    "poly_features = PolynomialFeatures(degree=4, include_bias=False)\n",
    "X_train_poly = poly_features.fit_transform(X_train)\n",
    "X_test_poly = poly_features.fit_transform(X_test)\n"
   ]
  },
  {
   "cell_type": "code",
   "execution_count": 47,
   "metadata": {},
   "outputs": [
    {
     "data": {
      "text/plain": [
       "(3344, 1000)"
      ]
     },
     "execution_count": 47,
     "metadata": {},
     "output_type": "execute_result"
    }
   ],
   "source": [
    "X_train_poly.shape"
   ]
  },
  {
   "cell_type": "code",
   "execution_count": 48,
   "metadata": {},
   "outputs": [
    {
     "name": "stderr",
     "output_type": "stream",
     "text": [
      "[Parallel(n_jobs=-1)]: Using backend ThreadingBackend with 16 concurrent workers.\n",
      "[Parallel(n_jobs=-1)]: Done  18 tasks      | elapsed:    4.8s\n",
      "[Parallel(n_jobs=-1)]: Done 168 tasks      | elapsed:   33.4s\n",
      "[Parallel(n_jobs=-1)]: Done 418 tasks      | elapsed:  1.1min\n",
      "[Parallel(n_jobs=-1)]: Done 600 out of 600 | elapsed:  1.6min finished\n"
     ]
    },
    {
     "name": "stdout",
     "output_type": "stream",
     "text": [
      "Train: Mean squared error: 3.14\n",
      "Train: Coefficient of determination r^2 variance score [1 is perfect prediction]: 0.97\n",
      "Test: Mean squared error: 22.86\n",
      "Test: Coefficient of determination r^2 variance score [1 is perfect prediction]: 0.78\n"
     ]
    },
    {
     "name": "stderr",
     "output_type": "stream",
     "text": [
      "[Parallel(n_jobs=16)]: Using backend ThreadingBackend with 16 concurrent workers.\n",
      "[Parallel(n_jobs=16)]: Done  18 tasks      | elapsed:    0.0s\n",
      "[Parallel(n_jobs=16)]: Done 168 tasks      | elapsed:    0.0s\n",
      "[Parallel(n_jobs=16)]: Done 418 tasks      | elapsed:    0.0s\n",
      "[Parallel(n_jobs=16)]: Done 600 out of 600 | elapsed:    0.0s finished\n",
      "[Parallel(n_jobs=16)]: Using backend ThreadingBackend with 16 concurrent workers.\n",
      "[Parallel(n_jobs=16)]: Done  18 tasks      | elapsed:    0.0s\n",
      "[Parallel(n_jobs=16)]: Done 168 tasks      | elapsed:    0.0s\n",
      "[Parallel(n_jobs=16)]: Done 418 tasks      | elapsed:    0.0s\n",
      "[Parallel(n_jobs=16)]: Done 600 out of 600 | elapsed:    0.0s finished\n"
     ]
    }
   ],
   "source": [
    "\n",
    "\n",
    "\n",
    "rnd_forest_reg = RandomForestRegressor(**params_optimal,criterion=\"mse\"\n",
    "                                       ,verbose=1,\n",
    "                                       oob_score=True, n_jobs=-1)\n",
    "\n",
    "rnd_forest_reg.fit(X_train_poly, y_train)\n",
    "\n",
    "\n",
    "# Make prediction \n",
    "y_train_predicted_rnd_forest = rnd_forest_reg.predict(X_train_poly)\n",
    "\n",
    "\n",
    "train_mse_rnd_forest = mean_squared_error(y_train, y_train_predicted_rnd_forest)\n",
    "\n",
    "print(\"Train: Mean squared error: %.2f\"\n",
    "      % train_mse_rnd_forest)\n",
    "\n",
    "\n",
    "# Explained variance score: 1 is perfect prediction\n",
    "print(\"Train: Coefficient of determination r^2 variance score [1 is perfect prediction]: %.2f\" \n",
    "      % r2_score(y_train, y_train_predicted_rnd_forest))\n",
    "\n",
    "\n",
    "\n",
    "\n",
    "y_test_predicted_rnd_forest = rnd_forest_reg.predict(X_test_poly)\n",
    "\n",
    "\n",
    "test_mse_rnd_forest = mean_squared_error(y_test, y_test_predicted_rnd_forest)\n",
    "\n",
    "print(\"Test: Mean squared error: %.2f\"\n",
    "      % test_mse_rnd_forest)\n",
    "\n",
    "\n",
    "# Explained variance score: 1 is perfect prediction\n",
    "\n",
    "test_r2_rnd_forest = r2_score(y_test, y_test_predicted_rnd_forest)\n",
    "\n",
    "\n",
    "print(\"Test: Coefficient of determination r^2 variance score [1 is perfect prediction]: %.2f\" \n",
    "      % test_r2_rnd_forest)"
   ]
  },
  {
   "cell_type": "code",
   "execution_count": 49,
   "metadata": {},
   "outputs": [
    {
     "data": {
      "text/html": [
       "<div>\n",
       "<style scoped>\n",
       "    .dataframe tbody tr th:only-of-type {\n",
       "        vertical-align: middle;\n",
       "    }\n",
       "\n",
       "    .dataframe tbody tr th {\n",
       "        vertical-align: top;\n",
       "    }\n",
       "\n",
       "    .dataframe thead th {\n",
       "        text-align: right;\n",
       "    }\n",
       "</style>\n",
       "<table border=\"1\" class=\"dataframe\">\n",
       "  <thead>\n",
       "    <tr style=\"text-align: right;\">\n",
       "      <th></th>\n",
       "      <th>Metric</th>\n",
       "      <th>Ridge Regression</th>\n",
       "      <th>Lasso Regression</th>\n",
       "      <th>SGD Linear Regression</th>\n",
       "      <th>SGD Polynomial Regression (degree 2)</th>\n",
       "      <th>SVM(RBF kernel)</th>\n",
       "      <th>Random Forest</th>\n",
       "    </tr>\n",
       "  </thead>\n",
       "  <tbody>\n",
       "    <tr>\n",
       "      <th>0</th>\n",
       "      <td>MSE (test)</td>\n",
       "      <td>29.194867</td>\n",
       "      <td>29.184718</td>\n",
       "      <td>29.958830</td>\n",
       "      <td>32.103047</td>\n",
       "      <td>27.487580</td>\n",
       "      <td>22.857658</td>\n",
       "    </tr>\n",
       "    <tr>\n",
       "      <th>1</th>\n",
       "      <td>R2 Score (test)</td>\n",
       "      <td>0.723303</td>\n",
       "      <td>0.723399</td>\n",
       "      <td>0.716062</td>\n",
       "      <td>0.695740</td>\n",
       "      <td>0.739484</td>\n",
       "      <td>0.783364</td>\n",
       "    </tr>\n",
       "  </tbody>\n",
       "</table>\n",
       "</div>"
      ],
      "text/plain": [
       "            Metric  Ridge Regression  Lasso Regression  SGD Linear Regression  \\\n",
       "0       MSE (test)         29.194867         29.184718              29.958830   \n",
       "1  R2 Score (test)          0.723303          0.723399               0.716062   \n",
       "\n",
       "   SGD Polynomial Regression (degree 2)  SVM(RBF kernel)  Random Forest  \n",
       "0                             32.103047        27.487580      22.857658  \n",
       "1                              0.695740         0.739484       0.783364  "
      ]
     },
     "execution_count": 49,
     "metadata": {},
     "output_type": "execute_result"
    }
   ],
   "source": [
    "#ridge regressor, lasso regression, iterative regression (Batch and SGD), SVM with RBF kernel, Random Forest\n",
    "data = [[\"MSE (test)\", ridge_test_mse, lasso_test_mse,test_mse_linear, test_mse_polynomial, test_mse_svm, test_mse_rnd_forest], \n",
    "        [\"R2 Score (test)\", ridge_test_r2_score, lasso_test_r2_score,test_r2_linear, test_r2_polynomial, test_r2_svm, test_r2_rnd_forest]]\n",
    "pd.DataFrame(data, columns=[\"Metric\", \"Ridge Regression\", \"Lasso Regression\", \"SGD Linear Regression\", \"SGD Polynomial Regression (degree 2)\",  \"SVM(RBF kernel)\", \"Random Forest\"])"
   ]
  },
  {
   "cell_type": "code",
   "execution_count": null,
   "metadata": {},
   "outputs": [],
   "source": []
  }
 ],
 "metadata": {
  "kernelspec": {
   "display_name": "Python 3",
   "language": "python",
   "name": "python3"
  },
  "language_info": {
   "codemirror_mode": {
    "name": "ipython",
    "version": 3
   },
   "file_extension": ".py",
   "mimetype": "text/x-python",
   "name": "python",
   "nbconvert_exporter": "python",
   "pygments_lexer": "ipython3",
   "version": "3.8.5"
  }
 },
 "nbformat": 4,
 "nbformat_minor": 4
}
