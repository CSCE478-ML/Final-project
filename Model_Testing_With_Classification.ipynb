{
 "cells": [
  {
   "cell_type": "code",
   "execution_count": 1,
   "metadata": {},
   "outputs": [],
   "source": [
    "import warnings\n",
    "import pandas as pd\n",
    "import numpy as np \n",
    "import matplotlib.pyplot as plt\n",
    "%matplotlib inline\n",
    "\n",
    "from sklearn.model_selection import train_test_split, GridSearchCV, cross_val_score, cross_val_predict\n",
    "from sklearn.preprocessing import StandardScaler,PolynomialFeatures\n",
    "from sklearn.linear_model import LinearRegression, Ridge, Lasso, ElasticNet,SGDRegressor\n",
    "from sklearn.metrics import mean_squared_error, r2_score,accuracy_score,mean_absolute_error\n",
    "from sklearn.feature_selection import mutual_info_classif, mutual_info_regression\n",
    "from sklearn.pipeline import make_pipeline\n",
    "from sklearn.model_selection import learning_curve\n",
    "from sklearn.svm import SVR\n",
    "\n",
    "from sklearn.datasets import make_circles\n",
    "from sklearn.neighbors import KNeighborsClassifier\n",
    "from sklearn.metrics import confusion_matrix, precision_score, recall_score, f1_score, roc_curve, roc_auc_score\n",
    "from sklearn.metrics import precision_recall_curve, classification_report\n",
    "from sklearn.naive_bayes import GaussianNB, MultinomialNB\n",
    "from sklearn.pipeline import Pipeline\n",
    "from sklearn.svm import LinearSVC, SVC\n",
    "from sklearn.linear_model import SGDClassifier\n",
    "from sklearn.feature_extraction.text import CountVectorizer, TfidfVectorizer, TfidfTransformer\n",
    "\n",
    "\n",
    "from sklearn.ensemble import RandomForestRegressor\n",
    "from sklearn.decomposition import PCA"
   ]
  },
  {
   "cell_type": "code",
   "execution_count": 2,
   "metadata": {},
   "outputs": [],
   "source": [
    "df = pd.read_csv('Data/data_2.csv')"
   ]
  },
  {
   "cell_type": "code",
   "execution_count": 3,
   "metadata": {},
   "outputs": [
    {
     "data": {
      "text/html": [
       "<div>\n",
       "<style scoped>\n",
       "    .dataframe tbody tr th:only-of-type {\n",
       "        vertical-align: middle;\n",
       "    }\n",
       "\n",
       "    .dataframe tbody tr th {\n",
       "        vertical-align: top;\n",
       "    }\n",
       "\n",
       "    .dataframe thead th {\n",
       "        text-align: right;\n",
       "    }\n",
       "</style>\n",
       "<table border=\"1\" class=\"dataframe\">\n",
       "  <thead>\n",
       "    <tr style=\"text-align: right;\">\n",
       "      <th></th>\n",
       "      <th>Point</th>\n",
       "      <th>Trees</th>\n",
       "      <th>Shrubs</th>\n",
       "      <th>Peren_FG</th>\n",
       "      <th>bare_groun</th>\n",
       "      <th>Annual_FG</th>\n",
       "      <th>ppt</th>\n",
       "      <th>vpdmin</th>\n",
       "      <th>vpdmax</th>\n",
       "      <th>tmin</th>\n",
       "      <th>...</th>\n",
       "      <th>aspect</th>\n",
       "      <th>Runoff</th>\n",
       "      <th>Frosting_R</th>\n",
       "      <th>Flooding_F</th>\n",
       "      <th>BD_depth</th>\n",
       "      <th>AWS_50cm</th>\n",
       "      <th>AWS_25cm</th>\n",
       "      <th>AWS_150cm</th>\n",
       "      <th>AWS_100cm</th>\n",
       "      <th>Min_WTD</th>\n",
       "    </tr>\n",
       "  </thead>\n",
       "  <tbody>\n",
       "    <tr>\n",
       "      <th>0</th>\n",
       "      <td>1</td>\n",
       "      <td>19</td>\n",
       "      <td>8</td>\n",
       "      <td>47</td>\n",
       "      <td>7</td>\n",
       "      <td>22</td>\n",
       "      <td>1003.760</td>\n",
       "      <td>8.6440</td>\n",
       "      <td>149.085</td>\n",
       "      <td>49.1187</td>\n",
       "      <td>...</td>\n",
       "      <td>180.0860</td>\n",
       "      <td>3</td>\n",
       "      <td>3</td>\n",
       "      <td>3</td>\n",
       "      <td>0.0</td>\n",
       "      <td>11.4900</td>\n",
       "      <td>5.7500</td>\n",
       "      <td>33.4300</td>\n",
       "      <td>22.9200</td>\n",
       "      <td>153.0</td>\n",
       "    </tr>\n",
       "    <tr>\n",
       "      <th>1</th>\n",
       "      <td>2</td>\n",
       "      <td>2</td>\n",
       "      <td>1</td>\n",
       "      <td>66</td>\n",
       "      <td>14</td>\n",
       "      <td>8</td>\n",
       "      <td>822.610</td>\n",
       "      <td>8.9776</td>\n",
       "      <td>138.599</td>\n",
       "      <td>46.5965</td>\n",
       "      <td>...</td>\n",
       "      <td>211.4610</td>\n",
       "      <td>1</td>\n",
       "      <td>3</td>\n",
       "      <td>3</td>\n",
       "      <td>0.0</td>\n",
       "      <td>11.5000</td>\n",
       "      <td>5.7500</td>\n",
       "      <td>33.3200</td>\n",
       "      <td>22.8200</td>\n",
       "      <td>153.0</td>\n",
       "    </tr>\n",
       "    <tr>\n",
       "      <th>2</th>\n",
       "      <td>3</td>\n",
       "      <td>3</td>\n",
       "      <td>1</td>\n",
       "      <td>69</td>\n",
       "      <td>2</td>\n",
       "      <td>14</td>\n",
       "      <td>849.481</td>\n",
       "      <td>9.4117</td>\n",
       "      <td>138.963</td>\n",
       "      <td>47.8117</td>\n",
       "      <td>...</td>\n",
       "      <td>186.5640</td>\n",
       "      <td>1</td>\n",
       "      <td>3</td>\n",
       "      <td>3</td>\n",
       "      <td>0.0</td>\n",
       "      <td>11.5000</td>\n",
       "      <td>5.7500</td>\n",
       "      <td>33.3200</td>\n",
       "      <td>22.8200</td>\n",
       "      <td>153.0</td>\n",
       "    </tr>\n",
       "    <tr>\n",
       "      <th>3</th>\n",
       "      <td>4</td>\n",
       "      <td>20</td>\n",
       "      <td>4</td>\n",
       "      <td>51</td>\n",
       "      <td>11</td>\n",
       "      <td>21</td>\n",
       "      <td>854.956</td>\n",
       "      <td>8.1519</td>\n",
       "      <td>135.181</td>\n",
       "      <td>45.4194</td>\n",
       "      <td>...</td>\n",
       "      <td>161.3930</td>\n",
       "      <td>1</td>\n",
       "      <td>3</td>\n",
       "      <td>3</td>\n",
       "      <td>0.0</td>\n",
       "      <td>11.5000</td>\n",
       "      <td>5.7500</td>\n",
       "      <td>33.3200</td>\n",
       "      <td>22.8200</td>\n",
       "      <td>153.0</td>\n",
       "    </tr>\n",
       "    <tr>\n",
       "      <th>4</th>\n",
       "      <td>5</td>\n",
       "      <td>18</td>\n",
       "      <td>11</td>\n",
       "      <td>50</td>\n",
       "      <td>9</td>\n",
       "      <td>20</td>\n",
       "      <td>849.242</td>\n",
       "      <td>9.2913</td>\n",
       "      <td>138.704</td>\n",
       "      <td>47.6300</td>\n",
       "      <td>...</td>\n",
       "      <td>121.3640</td>\n",
       "      <td>1</td>\n",
       "      <td>3</td>\n",
       "      <td>3</td>\n",
       "      <td>0.0</td>\n",
       "      <td>11.5000</td>\n",
       "      <td>5.7500</td>\n",
       "      <td>33.3200</td>\n",
       "      <td>22.8200</td>\n",
       "      <td>153.0</td>\n",
       "    </tr>\n",
       "    <tr>\n",
       "      <th>...</th>\n",
       "      <td>...</td>\n",
       "      <td>...</td>\n",
       "      <td>...</td>\n",
       "      <td>...</td>\n",
       "      <td>...</td>\n",
       "      <td>...</td>\n",
       "      <td>...</td>\n",
       "      <td>...</td>\n",
       "      <td>...</td>\n",
       "      <td>...</td>\n",
       "      <td>...</td>\n",
       "      <td>...</td>\n",
       "      <td>...</td>\n",
       "      <td>...</td>\n",
       "      <td>...</td>\n",
       "      <td>...</td>\n",
       "      <td>...</td>\n",
       "      <td>...</td>\n",
       "      <td>...</td>\n",
       "      <td>...</td>\n",
       "      <td>...</td>\n",
       "    </tr>\n",
       "    <tr>\n",
       "      <th>4792</th>\n",
       "      <td>4793</td>\n",
       "      <td>13</td>\n",
       "      <td>8</td>\n",
       "      <td>57</td>\n",
       "      <td>15</td>\n",
       "      <td>23</td>\n",
       "      <td>789.471</td>\n",
       "      <td>12.5005</td>\n",
       "      <td>176.244</td>\n",
       "      <td>69.1463</td>\n",
       "      <td>...</td>\n",
       "      <td>297.1450</td>\n",
       "      <td>0</td>\n",
       "      <td>-1</td>\n",
       "      <td>0</td>\n",
       "      <td>0.0</td>\n",
       "      <td>2.1439</td>\n",
       "      <td>1.0640</td>\n",
       "      <td>6.4935</td>\n",
       "      <td>4.3117</td>\n",
       "      <td>0.0</td>\n",
       "    </tr>\n",
       "    <tr>\n",
       "      <th>4793</th>\n",
       "      <td>4794</td>\n",
       "      <td>36</td>\n",
       "      <td>7</td>\n",
       "      <td>43</td>\n",
       "      <td>1</td>\n",
       "      <td>12</td>\n",
       "      <td>778.307</td>\n",
       "      <td>8.1716</td>\n",
       "      <td>180.426</td>\n",
       "      <td>41.2986</td>\n",
       "      <td>...</td>\n",
       "      <td>25.7692</td>\n",
       "      <td>6</td>\n",
       "      <td>2</td>\n",
       "      <td>1</td>\n",
       "      <td>38.0</td>\n",
       "      <td>3.9900</td>\n",
       "      <td>2.5500</td>\n",
       "      <td>3.9900</td>\n",
       "      <td>3.9900</td>\n",
       "      <td>0.0</td>\n",
       "    </tr>\n",
       "    <tr>\n",
       "      <th>4794</th>\n",
       "      <td>4795</td>\n",
       "      <td>36</td>\n",
       "      <td>9</td>\n",
       "      <td>53</td>\n",
       "      <td>2</td>\n",
       "      <td>13</td>\n",
       "      <td>706.038</td>\n",
       "      <td>9.8153</td>\n",
       "      <td>175.318</td>\n",
       "      <td>46.5239</td>\n",
       "      <td>...</td>\n",
       "      <td>21.0057</td>\n",
       "      <td>6</td>\n",
       "      <td>2</td>\n",
       "      <td>1</td>\n",
       "      <td>38.0</td>\n",
       "      <td>3.9900</td>\n",
       "      <td>2.5500</td>\n",
       "      <td>3.9900</td>\n",
       "      <td>3.9900</td>\n",
       "      <td>0.0</td>\n",
       "    </tr>\n",
       "    <tr>\n",
       "      <th>4795</th>\n",
       "      <td>4796</td>\n",
       "      <td>33</td>\n",
       "      <td>4</td>\n",
       "      <td>43</td>\n",
       "      <td>3</td>\n",
       "      <td>11</td>\n",
       "      <td>713.786</td>\n",
       "      <td>13.5313</td>\n",
       "      <td>179.063</td>\n",
       "      <td>65.2216</td>\n",
       "      <td>...</td>\n",
       "      <td>68.3994</td>\n",
       "      <td>0</td>\n",
       "      <td>0</td>\n",
       "      <td>0</td>\n",
       "      <td>0.0</td>\n",
       "      <td>2.1172</td>\n",
       "      <td>1.1507</td>\n",
       "      <td>4.5539</td>\n",
       "      <td>3.3355</td>\n",
       "      <td>0.0</td>\n",
       "    </tr>\n",
       "    <tr>\n",
       "      <th>4796</th>\n",
       "      <td>4797</td>\n",
       "      <td>13</td>\n",
       "      <td>7</td>\n",
       "      <td>57</td>\n",
       "      <td>10</td>\n",
       "      <td>13</td>\n",
       "      <td>710.399</td>\n",
       "      <td>9.0785</td>\n",
       "      <td>175.871</td>\n",
       "      <td>44.7851</td>\n",
       "      <td>...</td>\n",
       "      <td>196.9770</td>\n",
       "      <td>-1</td>\n",
       "      <td>-1</td>\n",
       "      <td>-1</td>\n",
       "      <td>0.0</td>\n",
       "      <td>0.2470</td>\n",
       "      <td>0.1402</td>\n",
       "      <td>0.4794</td>\n",
       "      <td>0.3636</td>\n",
       "      <td>0.0</td>\n",
       "    </tr>\n",
       "  </tbody>\n",
       "</table>\n",
       "<p>4797 rows × 25 columns</p>\n",
       "</div>"
      ],
      "text/plain": [
       "      Point  Trees  Shrubs  Peren_FG  bare_groun  Annual_FG       ppt  \\\n",
       "0         1     19       8        47           7         22  1003.760   \n",
       "1         2      2       1        66          14          8   822.610   \n",
       "2         3      3       1        69           2         14   849.481   \n",
       "3         4     20       4        51          11         21   854.956   \n",
       "4         5     18      11        50           9         20   849.242   \n",
       "...     ...    ...     ...       ...         ...        ...       ...   \n",
       "4792   4793     13       8        57          15         23   789.471   \n",
       "4793   4794     36       7        43           1         12   778.307   \n",
       "4794   4795     36       9        53           2         13   706.038   \n",
       "4795   4796     33       4        43           3         11   713.786   \n",
       "4796   4797     13       7        57          10         13   710.399   \n",
       "\n",
       "       vpdmin   vpdmax     tmin  ...    aspect  Runoff  Frosting_R  \\\n",
       "0      8.6440  149.085  49.1187  ...  180.0860       3           3   \n",
       "1      8.9776  138.599  46.5965  ...  211.4610       1           3   \n",
       "2      9.4117  138.963  47.8117  ...  186.5640       1           3   \n",
       "3      8.1519  135.181  45.4194  ...  161.3930       1           3   \n",
       "4      9.2913  138.704  47.6300  ...  121.3640       1           3   \n",
       "...       ...      ...      ...  ...       ...     ...         ...   \n",
       "4792  12.5005  176.244  69.1463  ...  297.1450       0          -1   \n",
       "4793   8.1716  180.426  41.2986  ...   25.7692       6           2   \n",
       "4794   9.8153  175.318  46.5239  ...   21.0057       6           2   \n",
       "4795  13.5313  179.063  65.2216  ...   68.3994       0           0   \n",
       "4796   9.0785  175.871  44.7851  ...  196.9770      -1          -1   \n",
       "\n",
       "      Flooding_F  BD_depth  AWS_50cm  AWS_25cm  AWS_150cm  AWS_100cm  Min_WTD  \n",
       "0              3       0.0   11.4900    5.7500    33.4300    22.9200    153.0  \n",
       "1              3       0.0   11.5000    5.7500    33.3200    22.8200    153.0  \n",
       "2              3       0.0   11.5000    5.7500    33.3200    22.8200    153.0  \n",
       "3              3       0.0   11.5000    5.7500    33.3200    22.8200    153.0  \n",
       "4              3       0.0   11.5000    5.7500    33.3200    22.8200    153.0  \n",
       "...          ...       ...       ...       ...        ...        ...      ...  \n",
       "4792           0       0.0    2.1439    1.0640     6.4935     4.3117      0.0  \n",
       "4793           1      38.0    3.9900    2.5500     3.9900     3.9900      0.0  \n",
       "4794           1      38.0    3.9900    2.5500     3.9900     3.9900      0.0  \n",
       "4795           0       0.0    2.1172    1.1507     4.5539     3.3355      0.0  \n",
       "4796          -1       0.0    0.2470    0.1402     0.4794     0.3636      0.0  \n",
       "\n",
       "[4797 rows x 25 columns]"
      ]
     },
     "execution_count": 3,
     "metadata": {},
     "output_type": "execute_result"
    }
   ],
   "source": [
    "df"
   ]
  },
  {
   "cell_type": "code",
   "execution_count": 4,
   "metadata": {},
   "outputs": [],
   "source": [
    "df = df[~(df.values.ravel() == -1).reshape(df.shape).any(1)]"
   ]
  },
  {
   "cell_type": "code",
   "execution_count": 5,
   "metadata": {},
   "outputs": [
    {
     "data": {
      "text/html": [
       "<div>\n",
       "<style scoped>\n",
       "    .dataframe tbody tr th:only-of-type {\n",
       "        vertical-align: middle;\n",
       "    }\n",
       "\n",
       "    .dataframe tbody tr th {\n",
       "        vertical-align: top;\n",
       "    }\n",
       "\n",
       "    .dataframe thead th {\n",
       "        text-align: right;\n",
       "    }\n",
       "</style>\n",
       "<table border=\"1\" class=\"dataframe\">\n",
       "  <thead>\n",
       "    <tr style=\"text-align: right;\">\n",
       "      <th></th>\n",
       "      <th>Point</th>\n",
       "      <th>Trees</th>\n",
       "      <th>Shrubs</th>\n",
       "      <th>Peren_FG</th>\n",
       "      <th>bare_groun</th>\n",
       "      <th>Annual_FG</th>\n",
       "      <th>ppt</th>\n",
       "      <th>vpdmin</th>\n",
       "      <th>vpdmax</th>\n",
       "      <th>tmin</th>\n",
       "      <th>...</th>\n",
       "      <th>aspect</th>\n",
       "      <th>Runoff</th>\n",
       "      <th>Frosting_R</th>\n",
       "      <th>Flooding_F</th>\n",
       "      <th>BD_depth</th>\n",
       "      <th>AWS_50cm</th>\n",
       "      <th>AWS_25cm</th>\n",
       "      <th>AWS_150cm</th>\n",
       "      <th>AWS_100cm</th>\n",
       "      <th>Min_WTD</th>\n",
       "    </tr>\n",
       "  </thead>\n",
       "  <tbody>\n",
       "    <tr>\n",
       "      <th>0</th>\n",
       "      <td>1</td>\n",
       "      <td>19</td>\n",
       "      <td>8</td>\n",
       "      <td>47</td>\n",
       "      <td>7</td>\n",
       "      <td>22</td>\n",
       "      <td>1003.760</td>\n",
       "      <td>8.6440</td>\n",
       "      <td>149.085</td>\n",
       "      <td>49.1187</td>\n",
       "      <td>...</td>\n",
       "      <td>180.0860</td>\n",
       "      <td>3</td>\n",
       "      <td>3</td>\n",
       "      <td>3</td>\n",
       "      <td>0.0000</td>\n",
       "      <td>11.4900</td>\n",
       "      <td>5.7500</td>\n",
       "      <td>33.4300</td>\n",
       "      <td>22.9200</td>\n",
       "      <td>153.0</td>\n",
       "    </tr>\n",
       "    <tr>\n",
       "      <th>1</th>\n",
       "      <td>2</td>\n",
       "      <td>2</td>\n",
       "      <td>1</td>\n",
       "      <td>66</td>\n",
       "      <td>14</td>\n",
       "      <td>8</td>\n",
       "      <td>822.610</td>\n",
       "      <td>8.9776</td>\n",
       "      <td>138.599</td>\n",
       "      <td>46.5965</td>\n",
       "      <td>...</td>\n",
       "      <td>211.4610</td>\n",
       "      <td>1</td>\n",
       "      <td>3</td>\n",
       "      <td>3</td>\n",
       "      <td>0.0000</td>\n",
       "      <td>11.5000</td>\n",
       "      <td>5.7500</td>\n",
       "      <td>33.3200</td>\n",
       "      <td>22.8200</td>\n",
       "      <td>153.0</td>\n",
       "    </tr>\n",
       "    <tr>\n",
       "      <th>2</th>\n",
       "      <td>3</td>\n",
       "      <td>3</td>\n",
       "      <td>1</td>\n",
       "      <td>69</td>\n",
       "      <td>2</td>\n",
       "      <td>14</td>\n",
       "      <td>849.481</td>\n",
       "      <td>9.4117</td>\n",
       "      <td>138.963</td>\n",
       "      <td>47.8117</td>\n",
       "      <td>...</td>\n",
       "      <td>186.5640</td>\n",
       "      <td>1</td>\n",
       "      <td>3</td>\n",
       "      <td>3</td>\n",
       "      <td>0.0000</td>\n",
       "      <td>11.5000</td>\n",
       "      <td>5.7500</td>\n",
       "      <td>33.3200</td>\n",
       "      <td>22.8200</td>\n",
       "      <td>153.0</td>\n",
       "    </tr>\n",
       "    <tr>\n",
       "      <th>3</th>\n",
       "      <td>4</td>\n",
       "      <td>20</td>\n",
       "      <td>4</td>\n",
       "      <td>51</td>\n",
       "      <td>11</td>\n",
       "      <td>21</td>\n",
       "      <td>854.956</td>\n",
       "      <td>8.1519</td>\n",
       "      <td>135.181</td>\n",
       "      <td>45.4194</td>\n",
       "      <td>...</td>\n",
       "      <td>161.3930</td>\n",
       "      <td>1</td>\n",
       "      <td>3</td>\n",
       "      <td>3</td>\n",
       "      <td>0.0000</td>\n",
       "      <td>11.5000</td>\n",
       "      <td>5.7500</td>\n",
       "      <td>33.3200</td>\n",
       "      <td>22.8200</td>\n",
       "      <td>153.0</td>\n",
       "    </tr>\n",
       "    <tr>\n",
       "      <th>4</th>\n",
       "      <td>5</td>\n",
       "      <td>18</td>\n",
       "      <td>11</td>\n",
       "      <td>50</td>\n",
       "      <td>9</td>\n",
       "      <td>20</td>\n",
       "      <td>849.242</td>\n",
       "      <td>9.2913</td>\n",
       "      <td>138.704</td>\n",
       "      <td>47.6300</td>\n",
       "      <td>...</td>\n",
       "      <td>121.3640</td>\n",
       "      <td>1</td>\n",
       "      <td>3</td>\n",
       "      <td>3</td>\n",
       "      <td>0.0000</td>\n",
       "      <td>11.5000</td>\n",
       "      <td>5.7500</td>\n",
       "      <td>33.3200</td>\n",
       "      <td>22.8200</td>\n",
       "      <td>153.0</td>\n",
       "    </tr>\n",
       "    <tr>\n",
       "      <th>...</th>\n",
       "      <td>...</td>\n",
       "      <td>...</td>\n",
       "      <td>...</td>\n",
       "      <td>...</td>\n",
       "      <td>...</td>\n",
       "      <td>...</td>\n",
       "      <td>...</td>\n",
       "      <td>...</td>\n",
       "      <td>...</td>\n",
       "      <td>...</td>\n",
       "      <td>...</td>\n",
       "      <td>...</td>\n",
       "      <td>...</td>\n",
       "      <td>...</td>\n",
       "      <td>...</td>\n",
       "      <td>...</td>\n",
       "      <td>...</td>\n",
       "      <td>...</td>\n",
       "      <td>...</td>\n",
       "      <td>...</td>\n",
       "      <td>...</td>\n",
       "    </tr>\n",
       "    <tr>\n",
       "      <th>4790</th>\n",
       "      <td>4791</td>\n",
       "      <td>51</td>\n",
       "      <td>7</td>\n",
       "      <td>43</td>\n",
       "      <td>3</td>\n",
       "      <td>10</td>\n",
       "      <td>828.338</td>\n",
       "      <td>8.7542</td>\n",
       "      <td>180.391</td>\n",
       "      <td>42.9977</td>\n",
       "      <td>...</td>\n",
       "      <td>269.6360</td>\n",
       "      <td>5</td>\n",
       "      <td>2</td>\n",
       "      <td>1</td>\n",
       "      <td>38.0000</td>\n",
       "      <td>5.1000</td>\n",
       "      <td>4.2500</td>\n",
       "      <td>5.1000</td>\n",
       "      <td>5.1000</td>\n",
       "      <td>0.0</td>\n",
       "    </tr>\n",
       "    <tr>\n",
       "      <th>4791</th>\n",
       "      <td>4792</td>\n",
       "      <td>17</td>\n",
       "      <td>7</td>\n",
       "      <td>67</td>\n",
       "      <td>1</td>\n",
       "      <td>10</td>\n",
       "      <td>868.329</td>\n",
       "      <td>8.8903</td>\n",
       "      <td>176.260</td>\n",
       "      <td>40.5698</td>\n",
       "      <td>...</td>\n",
       "      <td>301.8970</td>\n",
       "      <td>6</td>\n",
       "      <td>2</td>\n",
       "      <td>1</td>\n",
       "      <td>40.1869</td>\n",
       "      <td>4.1027</td>\n",
       "      <td>2.5825</td>\n",
       "      <td>4.4481</td>\n",
       "      <td>4.3668</td>\n",
       "      <td>0.0</td>\n",
       "    </tr>\n",
       "    <tr>\n",
       "      <th>4793</th>\n",
       "      <td>4794</td>\n",
       "      <td>36</td>\n",
       "      <td>7</td>\n",
       "      <td>43</td>\n",
       "      <td>1</td>\n",
       "      <td>12</td>\n",
       "      <td>778.307</td>\n",
       "      <td>8.1716</td>\n",
       "      <td>180.426</td>\n",
       "      <td>41.2986</td>\n",
       "      <td>...</td>\n",
       "      <td>25.7692</td>\n",
       "      <td>6</td>\n",
       "      <td>2</td>\n",
       "      <td>1</td>\n",
       "      <td>38.0000</td>\n",
       "      <td>3.9900</td>\n",
       "      <td>2.5500</td>\n",
       "      <td>3.9900</td>\n",
       "      <td>3.9900</td>\n",
       "      <td>0.0</td>\n",
       "    </tr>\n",
       "    <tr>\n",
       "      <th>4794</th>\n",
       "      <td>4795</td>\n",
       "      <td>36</td>\n",
       "      <td>9</td>\n",
       "      <td>53</td>\n",
       "      <td>2</td>\n",
       "      <td>13</td>\n",
       "      <td>706.038</td>\n",
       "      <td>9.8153</td>\n",
       "      <td>175.318</td>\n",
       "      <td>46.5239</td>\n",
       "      <td>...</td>\n",
       "      <td>21.0057</td>\n",
       "      <td>6</td>\n",
       "      <td>2</td>\n",
       "      <td>1</td>\n",
       "      <td>38.0000</td>\n",
       "      <td>3.9900</td>\n",
       "      <td>2.5500</td>\n",
       "      <td>3.9900</td>\n",
       "      <td>3.9900</td>\n",
       "      <td>0.0</td>\n",
       "    </tr>\n",
       "    <tr>\n",
       "      <th>4795</th>\n",
       "      <td>4796</td>\n",
       "      <td>33</td>\n",
       "      <td>4</td>\n",
       "      <td>43</td>\n",
       "      <td>3</td>\n",
       "      <td>11</td>\n",
       "      <td>713.786</td>\n",
       "      <td>13.5313</td>\n",
       "      <td>179.063</td>\n",
       "      <td>65.2216</td>\n",
       "      <td>...</td>\n",
       "      <td>68.3994</td>\n",
       "      <td>0</td>\n",
       "      <td>0</td>\n",
       "      <td>0</td>\n",
       "      <td>0.0000</td>\n",
       "      <td>2.1172</td>\n",
       "      <td>1.1507</td>\n",
       "      <td>4.5539</td>\n",
       "      <td>3.3355</td>\n",
       "      <td>0.0</td>\n",
       "    </tr>\n",
       "  </tbody>\n",
       "</table>\n",
       "<p>4180 rows × 25 columns</p>\n",
       "</div>"
      ],
      "text/plain": [
       "      Point  Trees  Shrubs  Peren_FG  bare_groun  Annual_FG       ppt  \\\n",
       "0         1     19       8        47           7         22  1003.760   \n",
       "1         2      2       1        66          14          8   822.610   \n",
       "2         3      3       1        69           2         14   849.481   \n",
       "3         4     20       4        51          11         21   854.956   \n",
       "4         5     18      11        50           9         20   849.242   \n",
       "...     ...    ...     ...       ...         ...        ...       ...   \n",
       "4790   4791     51       7        43           3         10   828.338   \n",
       "4791   4792     17       7        67           1         10   868.329   \n",
       "4793   4794     36       7        43           1         12   778.307   \n",
       "4794   4795     36       9        53           2         13   706.038   \n",
       "4795   4796     33       4        43           3         11   713.786   \n",
       "\n",
       "       vpdmin   vpdmax     tmin  ...    aspect  Runoff  Frosting_R  \\\n",
       "0      8.6440  149.085  49.1187  ...  180.0860       3           3   \n",
       "1      8.9776  138.599  46.5965  ...  211.4610       1           3   \n",
       "2      9.4117  138.963  47.8117  ...  186.5640       1           3   \n",
       "3      8.1519  135.181  45.4194  ...  161.3930       1           3   \n",
       "4      9.2913  138.704  47.6300  ...  121.3640       1           3   \n",
       "...       ...      ...      ...  ...       ...     ...         ...   \n",
       "4790   8.7542  180.391  42.9977  ...  269.6360       5           2   \n",
       "4791   8.8903  176.260  40.5698  ...  301.8970       6           2   \n",
       "4793   8.1716  180.426  41.2986  ...   25.7692       6           2   \n",
       "4794   9.8153  175.318  46.5239  ...   21.0057       6           2   \n",
       "4795  13.5313  179.063  65.2216  ...   68.3994       0           0   \n",
       "\n",
       "      Flooding_F  BD_depth  AWS_50cm  AWS_25cm  AWS_150cm  AWS_100cm  Min_WTD  \n",
       "0              3    0.0000   11.4900    5.7500    33.4300    22.9200    153.0  \n",
       "1              3    0.0000   11.5000    5.7500    33.3200    22.8200    153.0  \n",
       "2              3    0.0000   11.5000    5.7500    33.3200    22.8200    153.0  \n",
       "3              3    0.0000   11.5000    5.7500    33.3200    22.8200    153.0  \n",
       "4              3    0.0000   11.5000    5.7500    33.3200    22.8200    153.0  \n",
       "...          ...       ...       ...       ...        ...        ...      ...  \n",
       "4790           1   38.0000    5.1000    4.2500     5.1000     5.1000      0.0  \n",
       "4791           1   40.1869    4.1027    2.5825     4.4481     4.3668      0.0  \n",
       "4793           1   38.0000    3.9900    2.5500     3.9900     3.9900      0.0  \n",
       "4794           1   38.0000    3.9900    2.5500     3.9900     3.9900      0.0  \n",
       "4795           0    0.0000    2.1172    1.1507     4.5539     3.3355      0.0  \n",
       "\n",
       "[4180 rows x 25 columns]"
      ]
     },
     "execution_count": 5,
     "metadata": {},
     "output_type": "execute_result"
    }
   ],
   "source": [
    "df"
   ]
  },
  {
   "cell_type": "code",
   "execution_count": 6,
   "metadata": {},
   "outputs": [],
   "source": [
    "df=df.sample(frac=1) #Shuffle the data"
   ]
  },
  {
   "cell_type": "code",
   "execution_count": 7,
   "metadata": {},
   "outputs": [],
   "source": [
    "#df['Trees']= (df['Trees'] > 40).astype(int)"
   ]
  },
  {
   "cell_type": "code",
   "execution_count": 8,
   "metadata": {},
   "outputs": [],
   "source": [
    "y = df['Trees']"
   ]
  },
  {
   "cell_type": "code",
   "execution_count": 9,
   "metadata": {},
   "outputs": [],
   "source": [
    "best_feature_mse = ['Shrubs', 'Peren_FG', 'bare_groun', 'Annual_FG', 'vpdmax', 'tmean',\n",
    "       'slope', 'Runoff', 'Flooding_F', 'BD_depth']"
   ]
  },
  {
   "cell_type": "code",
   "execution_count": 10,
   "metadata": {},
   "outputs": [],
   "source": [
    "best_df = df[best_feature_mse]"
   ]
  },
  {
   "cell_type": "code",
   "execution_count": 11,
   "metadata": {},
   "outputs": [],
   "source": [
    "X = np.array(best_df)\n",
    "y = np.array(y)"
   ]
  },
  {
   "cell_type": "code",
   "execution_count": 13,
   "metadata": {},
   "outputs": [],
   "source": [
    "X_train, X_test, y_train, y_test = train_test_split(X, y, test_size=0.2, random_state=42)"
   ]
  },
  {
   "cell_type": "code",
   "execution_count": 14,
   "metadata": {},
   "outputs": [
    {
     "data": {
      "text/plain": [
       "(3344, 10)"
      ]
     },
     "execution_count": 14,
     "metadata": {},
     "output_type": "execute_result"
    }
   ],
   "source": [
    "X_train.shape"
   ]
  },
  {
   "cell_type": "code",
   "execution_count": 15,
   "metadata": {},
   "outputs": [],
   "source": [
    "scaler = StandardScaler()\n",
    "\n",
    "# Fit on training set only.\n",
    "scaler.fit(X_train)\n",
    "\n",
    "# Apply transform to both the training set and the test set.\n",
    "X_train = scaler.transform(X_train)\n",
    "X_test = scaler.transform(X_test)"
   ]
  },
  {
   "cell_type": "code",
   "execution_count": 20,
   "metadata": {},
   "outputs": [
    {
     "data": {
      "image/png": "[encoded data removed]",
      "text/plain": [
       "<Figure size 720x432 with 1 Axes>"
      ]
     },
     "metadata": {
      "needs_background": "light"
     },
     "output_type": "display_data"
    },
    {
     "name": "stdout",
     "output_type": "stream",
     "text": [
      "\n",
      "Optimal Degree:  1\n"
     ]
    }
   ],
   "source": [
    "degreeList = [1,2,3,4,5,6]\n",
    "\n",
    "\n",
    "mse_train, mse_test = [], []\n",
    "\n",
    "for degree in degreeList:\n",
    "\n",
    "    model = make_pipeline(PolynomialFeatures(degree, include_bias=False), StandardScaler(), LinearRegression()) \n",
    "  \n",
    "    model.fit(X_train, y_train)\n",
    "       \n",
    "    # Make prediction \n",
    "    y_train_predicted = model.predict(X_train)\n",
    "    y_test_predicted = model.predict(X_test)\n",
    "    \n",
    "    \n",
    "    mse_train.append(mean_squared_error(y_train, y_train_predicted))\n",
    "    mse_test.append(mean_squared_error(y_test, y_test_predicted))\n",
    "   \n",
    "\n",
    "plt.figure(figsize=(10, 6))   \n",
    "plt.plot(degreeList, np.sqrt(mse_test), \"ro-\", alpha=1.0, linewidth=1.0, label=\"Test RMSE\")\n",
    "plt.plot(degreeList, np.sqrt(mse_train), \"bo-\", alpha=1.0, linewidth=1.0, label=\"Train RMSE\") \n",
    "plt.legend(loc=\"best\", fontsize=14) \n",
    "plt.xlabel(\"Degree\")\n",
    "plt.ylabel(\"RMSE\")\n",
    "plt.title(\"RMSE for Varying Degree\")\n",
    "plt.show()\n",
    "\n",
    "# Find the value of optimal degree for the polynomial that gives smallest RMSE\n",
    "\n",
    "rmse_test = np.sqrt(mse_test)\n",
    "j = 0\n",
    "min_rmse = rmse_test[j]\n",
    "optimal_degree = 1\n",
    "\n",
    "for i in degreeList:\n",
    "    if(rmse_test[j] < min_rmse):\n",
    "        min_rmse = rmse_test[j]\n",
    "        optimal_degree = i\n",
    "    j +=1\n",
    "    \n",
    "print(\"\\nOptimal Degree: \", optimal_degree)"
   ]
  },
  {
   "cell_type": "code",
   "execution_count": null,
   "metadata": {},
   "outputs": [],
   "source": []
  },
  {
   "cell_type": "code",
   "execution_count": 21,
   "metadata": {},
   "outputs": [],
   "source": [
    "# Variable that speficies the degree of the polynomial to be added to the feature vector\n",
    "poly_degree = optimal_degree\n",
    "\n",
    "\n",
    "# Add polynomial terms with the feature vector using the sklearn PolynomialFeatures class\n",
    "poly_features = PolynomialFeatures(degree=poly_degree, include_bias=False)\n",
    "X_train_poly = poly_features.fit_transform(X_train)"
   ]
  },
  {
   "cell_type": "code",
   "execution_count": 22,
   "metadata": {},
   "outputs": [
    {
     "name": "stdout",
     "output_type": "stream",
     "text": [
      "No. of Original Features:  10\n",
      "No. of Augmented Features:  10\n"
     ]
    }
   ],
   "source": [
    "print(\"No. of Original Features: \", X_train.shape[1])\n",
    "print(\"No. of Augmented Features: \", X_train_poly.shape[1])"
   ]
  },
  {
   "cell_type": "markdown",
   "metadata": {},
   "source": [
    "# Classifiers"
   ]
  },
  {
   "cell_type": "markdown",
   "metadata": {},
   "source": [
    "## KNN Classifier"
   ]
  },
  {
   "cell_type": "code",
   "execution_count": null,
   "metadata": {},
   "outputs": [],
   "source": [
    "\n",
    "%%time\n",
    "\n",
    "warnings.filterwarnings('ignore')\n",
    "\n",
    "\n",
    "# The param_grid tells Scikit-Learn to evaluate all combinations of the hyperparameter values \n",
    "param_grid = {'n_neighbors': np.arange(1, 37, 2), 'p': [1, 2, 5, 10, 20, 30, 50, 100], \n",
    "              'weights': [\"uniform\", \"distance\"]}\n",
    "\n",
    "knn_clf = KNeighborsClassifier()\n",
    "\n",
    "knn_cv = GridSearchCV(knn_clf, param_grid, scoring='f1', cv=5, verbose=3, n_jobs=-1)\n",
    "knn_cv.fit(X_train, y_train)\n",
    "\n",
    "\n",
    "params_optimal_knn = knn_cv.best_params_\n",
    "\n",
    "print(\"Best Score: %f\" % knn_cv.best_score_)\n",
    "print(\"Optimal Hyperparameter Values: \", params_optimal_knn)\n",
    "print(\"\\n\")"
   ]
  },
  {
   "cell_type": "code",
   "execution_count": null,
   "metadata": {},
   "outputs": [],
   "source": [
    "knn = KNeighborsClassifier(**params_optimal_knn)\n",
    "\n",
    "knn.fit(X_train, y_train)\n",
    "\n",
    "y_train_predicted = knn.predict(X_train)\n",
    "\n",
    "train_accuracy_knn = np.mean(y_train_predicted == y_train)\n",
    "print(\"\\nTraining Accuracy: \", train_accuracy_knn)"
   ]
  },
  {
   "cell_type": "code",
   "execution_count": null,
   "metadata": {},
   "outputs": [],
   "source": [
    "# https://scikit-learn.org/stable/modules/model_evaluation.html#scoring-parameter\n",
    "# Note: For a skewed data set \"accuracy\" might not be a good choice for scoring\n",
    "scores = cross_val_score(knn, X_train, y_train, scoring='f1', cv=5)\n",
    "print(scores)\n",
    "\n",
    "print(\"F1 Score: %0.2f (+/- %0.2f)\" % (scores.mean(), scores.std() * 2))"
   ]
  },
  {
   "cell_type": "code",
   "execution_count": null,
   "metadata": {},
   "outputs": [],
   "source": [
    "y_train_pred = cross_val_predict(knn, X_train, y_train, cv=5)\n",
    "\n",
    "confusion_matrix(y_train, y_train_pred)"
   ]
  },
  {
   "cell_type": "code",
   "execution_count": null,
   "metadata": {},
   "outputs": [],
   "source": [
    "\n",
    "precision = precision_score(y_train, y_train_pred) \n",
    "print(\"Precision = %f\" % precision)\n",
    "\n",
    "recall = recall_score(y_train, y_train_pred)\n",
    "print(\"Recall = %f\" % recall)\n",
    "\n",
    "\n",
    "f1 = f1_score(y_train, y_train_pred)\n",
    "print(\"F1 Score = %f\" % f1)"
   ]
  },
  {
   "cell_type": "code",
   "execution_count": null,
   "metadata": {},
   "outputs": [],
   "source": [
    "# Get the 2nd column of the matrix of predicted probabilities for each data point\n",
    "#    The 2nd column stores the probalities of the positive class\n",
    "y_scores = cross_val_predict(knn, X_train, y_train, method=\"predict_proba\", cv=5)[:, 1]\n",
    "\n",
    "\n",
    "fpr, tpr, thresholds = roc_curve(y_train, y_scores)\n",
    "\n",
    "print(\"\\nFPR FPR & TPR for Various Threshold Values:\")\n",
    "\n",
    "print(\"FPR: \", fpr)\n",
    "print(\"TPR: \", tpr)\n",
    "print(\"\\nThresholds: \", thresholds)"
   ]
  },
  {
   "cell_type": "code",
   "execution_count": null,
   "metadata": {},
   "outputs": [],
   "source": [
    "plt.style.use('ggplot')\n",
    "\n",
    "fig = plt.figure(figsize=(10, 6))\n",
    "def plot_roc_curve(fpr, tpr, label=None): \n",
    "    plt.plot(fpr, tpr, color='darkorange', linewidth=8, label=label) \n",
    "    plt.plot([0, 1], [0, 1], color='navy', lw=2, linestyle='--')\n",
    "    plt.axis([0, 1, 0, 1])\n",
    "    plt.title('ROC Curve (Train Data)')\n",
    "    plt.xlabel('False Positive Rate')\n",
    "    plt.ylabel('True Positive Rate')\n",
    "\n",
    "plot_roc_curve(fpr, tpr)\n",
    "plt.show()"
   ]
  },
  {
   "cell_type": "code",
   "execution_count": null,
   "metadata": {},
   "outputs": [],
   "source": [
    "# Area under ROC curve\n",
    "roc_auc_score(y_train,y_scores)"
   ]
  },
  {
   "cell_type": "code",
   "execution_count": null,
   "metadata": {},
   "outputs": [],
   "source": [
    "plt.style.use('ggplot')\n",
    "\n",
    "# Get the 2nd column of the matrix of predicted probabilities for each data point\n",
    "#    The 2nd column stores the probalities of the positive class\n",
    "y_scores = cross_val_predict(knn, X_train, y_train, method=\"predict_proba\", cv=3)[:, 1]\n",
    "\n",
    "precisions, recalls, thresholds = precision_recall_curve(y_train, y_scores)\n",
    "\n",
    "\n",
    "fig = plt.figure(figsize=(10, 6))\n",
    "def plot_precision_recall_vs_threshold(precisions, recalls, thresholds): \n",
    "    plt.plot(thresholds, precisions[:-1], \"b--\",  linewidth=8, label=\"Precision\") \n",
    "    plt.plot(thresholds, recalls[:-1], \"g-\",  linewidth=3, label=\"Recall\") \n",
    "    plt.xlabel(\"Threshold\")\n",
    "    plt.legend(loc=\"lower right\")\n",
    "    plt.title('Precision-Recall Curve')\n",
    "    #plt.xlim([0, 1])\n",
    "    plt.ylim([0, 1.1])\n",
    "\n",
    "plot_precision_recall_vs_threshold(precisions, recalls, thresholds)\n",
    "plt.show()\n",
    "\n",
    "\n",
    "threshold_optimal = 0.5\n",
    "for i in range(len(precisions)):\n",
    "    if(abs(abs(precisions[i]) - abs(recalls[i]))<=0.005):\n",
    "        threshold_optimal = thresholds[i]\n",
    "\n",
    "print(\"Optimal Threshold: \", threshold_optimal)"
   ]
  },
  {
   "cell_type": "code",
   "execution_count": null,
   "metadata": {},
   "outputs": [],
   "source": [
    "#Use variable threshold.\n",
    "print(\"Performance Measures Based on the Default Threshold:\\n\")\n",
    "\n",
    "\n",
    "y_train_pred = cross_val_predict(knn, X_train, y_train, cv=5)\n",
    "\n",
    "# Precision, Recall, F1 Score and Confusion Matrix for the Default Threshold 0.5\n",
    "precision_train = precision_score(y_train, y_train_pred) \n",
    "print(\"Precision (Default Threshold 0.5) = %f\" % precision_train)\n",
    "\n",
    "recall_train = recall_score(y_train, y_train_pred)\n",
    "print(\"Recall (Default Threshold 0.5) = %f\" % recall_train)\n",
    "\n",
    "\n",
    "f1_train = f1_score(y_train, y_train_pred)\n",
    "print(\"F1 Score (Default Threshold 0.5) = %f\" % f1_train)\n",
    "\n",
    "print(\"Confusion Matrix (Default Threshold 0.5)\\n\", confusion_matrix(y_train, y_train_pred))\n",
    "\n",
    "\n",
    "print(\"\\n-------------------------------------------------------\\n\")\n",
    "print(\"Performance Measures Based on the Optimal Threshold (from Precision-Recall Curve):\")\n",
    "\n",
    "# Precision, Recall, F1 Score and Confusion Matrix for different threshold\n",
    "\n",
    "t = threshold_optimal # optimal threshold from precision-recall curve \n",
    "\n",
    "# Compute predictions based on new t by using the following method:\n",
    "#  - Get the probability of the positive class from the 2nd column [:, 1]\n",
    "#  - If that probability is greater than or equal to t, then the test data belongs to the positive class\n",
    "y_train_predicted_new = (cross_val_predict(knn, X_train, y_train, method=\"predict_proba\", cv=3)[:,1] > t).astype(int)\n",
    "\n",
    "\n",
    "precision = precision_score(y_train, y_train_predicted_new) \n",
    "print(\"\\nPrecision (Threshold %.2f) = %f\" % (t, precision))\n",
    "\n",
    "recall = recall_score(y_train, y_train_predicted_new)\n",
    "print(\"Recall (Threshold %.2f) = %f\" % (t, recall))\n",
    "\n",
    "\n",
    "f1 = f1_score(y_train, y_train_predicted_new)\n",
    "print(\"F1 Score = (Threshold %.2f) = %f\" % (t, f1))\n",
    "\n",
    "\n",
    "print(\"Confusion Matrix (Threshold %.2f)\" %  t) \n",
    "print(confusion_matrix(y_train, y_train_predicted_new))"
   ]
  },
  {
   "cell_type": "code",
   "execution_count": null,
   "metadata": {},
   "outputs": [],
   "source": [
    "# The accuracy of the model\n",
    "test_accuracy_knn = knn.score(X_test, y_test)\n",
    "print(\"\\nTest Accuracy: \", test_accuracy_knn)\n",
    "\n",
    "\n",
    "# No. of Correct Predictions\n",
    "y_test_predicted = knn.predict(X_test)\n",
    "print(\"\\nNo. of correct predictions (Test): %d/%d\" % (np.sum(y_test_predicted == y_test), len(y_test)))\n",
    "\n",
    "\n",
    "\n",
    "# Confusion Matrix\n",
    "print(\"\\nConfusion Matrix (Test Data):\\n\", confusion_matrix(y_test, y_test_predicted))"
   ]
  },
  {
   "cell_type": "code",
   "execution_count": null,
   "metadata": {},
   "outputs": [],
   "source": [
    "precision = precision_score(y_test, y_test_predicted) \n",
    "print(\"Precision = %f\" % precision)\n",
    "\n",
    "recall = recall_score(y_test, y_test_predicted)\n",
    "print(\"Recall = %f\" % recall)\n",
    "\n",
    "\n",
    "f1 = f1_score(y_test, y_test_predicted)\n",
    "print(\"F1 Score = %f\" % f1)"
   ]
  },
  {
   "cell_type": "code",
   "execution_count": null,
   "metadata": {
    "scrolled": true
   },
   "outputs": [],
   "source": [
    "# Get the 2nd column of the matrix of predicted probabilities for each data point\n",
    "#    The 2nd column stores the probalities of the positive class\n",
    "y_scores_test = cross_val_predict(knn, X_test, y_test, method=\"predict_proba\", cv=3)[:, 1]\n",
    "\n",
    "fpr_test, tpr_test, thresholds_test = roc_curve(y_test, y_scores_test)\n",
    "\n",
    "\n",
    "print(\"\\nFPR FPR & TPR for Various Threshold Values:\")\n",
    "print(\"FPR: \", fpr_test)\n",
    "print(\"TPR: \", tpr_test)\n",
    "print(\"\\nThresholds: \", thresholds_test)"
   ]
  },
  {
   "cell_type": "code",
   "execution_count": null,
   "metadata": {},
   "outputs": [],
   "source": [
    "plt.style.use('ggplot')\n",
    "\n",
    "fig = plt.figure(figsize=(10, 6))\n",
    "plot_roc_curve(fpr_test, tpr_test)\n",
    "plt.show()"
   ]
  },
  {
   "cell_type": "code",
   "execution_count": null,
   "metadata": {},
   "outputs": [],
   "source": [
    "# Area under ROC curve\n",
    "roc_auc_score(y_test,y_scores_test)"
   ]
  },
  {
   "cell_type": "code",
   "execution_count": null,
   "metadata": {
    "scrolled": true
   },
   "outputs": [],
   "source": [
    "print(classification_report(y_test,y_test_predicted))"
   ]
  },
  {
   "cell_type": "markdown",
   "metadata": {},
   "source": [
    "## Naive-Bayes"
   ]
  },
  {
   "cell_type": "markdown",
   "metadata": {},
   "source": [
    "### Gaussian Naive Bayes Classifier"
   ]
  },
  {
   "cell_type": "code",
   "execution_count": null,
   "metadata": {},
   "outputs": [],
   "source": [
    "%%time\n",
    "\n",
    "warnings.filterwarnings('ignore')\n",
    "\n",
    "param_grid = {'var_smoothing': [0.001, 0.01, 0.1, 1.0]}\n",
    "\n",
    "gnb = GaussianNB()\n",
    "\n",
    "gnb = GridSearchCV(gnb, param_grid, scoring='accuracy', cv=10, verbose=1, n_jobs=-1)\n",
    "gnb.fit(X_train, y_train)\n",
    "\n",
    "params_optimal = gnb.best_params_\n",
    "\n",
    "print(\"Best Score (accuracy): %f\" % gnb.best_score_)\n",
    "print(\"Optimal Hyperparameter Values: \", params_optimal)\n",
    "print(\"\\n\")"
   ]
  },
  {
   "cell_type": "code",
   "execution_count": null,
   "metadata": {},
   "outputs": [],
   "source": [
    "%%time\n",
    "\n",
    "gaussianNB_clf = GaussianNB(**params_optimal)\n",
    "\n",
    "gaussianNB_clf.fit(X_train, y_train)"
   ]
  },
  {
   "cell_type": "code",
   "execution_count": null,
   "metadata": {},
   "outputs": [],
   "source": [
    "# Get the 2nd column of the matrix of predicted probabilities for each data point\n",
    "#    The 2nd column stores the probalities of the positive class\n",
    "y_scores_test = cross_val_predict(gnb, X_test, y_test, method=\"predict_proba\", cv=3)[:, 1]\n",
    "\n",
    "fpr_test, tpr_test, thresholds_test = roc_curve(y_test, y_scores_test)\n",
    "\n",
    "\n",
    "print(\"\\nFPR FPR & TPR for Various Threshold Values:\")\n",
    "print(\"FPR: \", fpr_test)\n",
    "print(\"TPR: \", tpr_test)\n",
    "print(\"\\nThresholds: \", thresholds_test)"
   ]
  },
  {
   "cell_type": "code",
   "execution_count": null,
   "metadata": {
    "scrolled": true
   },
   "outputs": [],
   "source": [
    "plt.style.use('ggplot')\n",
    "\n",
    "fig = plt.figure(figsize=(10, 6))\n",
    "plot_roc_curve(fpr_test, tpr_test)\n",
    "plt.show()"
   ]
  },
  {
   "cell_type": "code",
   "execution_count": null,
   "metadata": {},
   "outputs": [],
   "source": [
    "# Area under ROC curve\n",
    "roc_auc_score(y_test,y_scores_test)"
   ]
  },
  {
   "cell_type": "code",
   "execution_count": null,
   "metadata": {},
   "outputs": [],
   "source": [
    "y_test_predicted = gaussianNB_clf.predict(X_test)\n",
    "\n",
    "\n",
    "accuracy_score_test = np.mean(y_test_predicted == y_test)\n",
    "print(\"\\nAccuracy: \", accuracy_score_test)\n",
    "\n",
    "print(\"\\nTest Confusion Matrix:\")\n",
    "print(confusion_matrix(y_test, y_test_predicted))\n",
    "\n",
    "precision_test = precision_score(y_test, y_test_predicted, average='micro') \n",
    "print(\"\\nTest Precision = %f\" % precision_test)\n",
    "\n",
    "recall_test = recall_score(y_test, y_test_predicted, average='micro')\n",
    "print(\"\\nTest Recall = %f\" % recall_test)\n",
    "\n",
    "\n",
    "f1_test = f1_score(y_test, y_test_predicted, average='micro')\n",
    "print(\"\\nTest F1 Score = %f\" % f1_test)\n",
    "\n",
    "\n",
    "print(\"\\nClassification Report:\")\n",
    "print(classification_report(y_test, y_test_predicted))"
   ]
  },
  {
   "cell_type": "markdown",
   "metadata": {},
   "source": [
    "### Multinomial Naive-Bayes Classifier NO GOOD OUT\n",
    "NOTES: CURRENT TEST DATA WILL NOT RUN WITH MULTINOMIAL NB, DUE TO THE X_train dataset having negative values. THus, I have input the absolute value of X_train"
   ]
  },
  {
   "cell_type": "code",
   "execution_count": null,
   "metadata": {},
   "outputs": [],
   "source": [
    "%%time\n",
    "\n",
    "warnings.filterwarnings('ignore')\n",
    "\n",
    "param_grid = {'alpha': [0.000001, 0.00001, 0.0001, 0.01]}\n",
    "mnb = MultinomialNB()\n",
    "\n",
    "\n",
    "mnb = GridSearchCV(mnb, param_grid, scoring='accuracy', cv=10, verbose=1, n_jobs=-1)\n",
    "\n",
    "mnb.fit(abs(X_train), y_train)\n",
    "\n",
    "params_optimal = mnb.best_params_\n",
    "\n",
    "print(\"Best Score (accuracy): %f\" % mnb.best_score_)\n",
    "print(\"Optimal Hyperparameter Values: \", params_optimal)\n",
    "print(\"\\n\")"
   ]
  },
  {
   "cell_type": "code",
   "execution_count": null,
   "metadata": {},
   "outputs": [],
   "source": [
    "%%time\n",
    "\n",
    "multinomialNB_clf = MultinomialNB(**params_optimal)\n",
    "\n",
    "multinomialNB_clf.fit(abs(X_train), y_train)"
   ]
  },
  {
   "cell_type": "code",
   "execution_count": null,
   "metadata": {},
   "outputs": [],
   "source": [
    "# Get the 2nd column of the matrix of predicted probabilities for each data point\n",
    "#    The 2nd column stores the probalities of the positive class\n",
    "y_scores_test = cross_val_predict(mnb, abs(X_test), y_test, method=\"predict_proba\", cv=3)[:, 1]\n",
    "\n",
    "fpr_test, tpr_test, thresholds_test = roc_curve(y_test, y_scores_test)\n",
    "\n",
    "\n",
    "print(\"\\nFPR FPR & TPR for Various Threshold Values:\")\n",
    "print(\"FPR: \", fpr_test)\n",
    "print(\"TPR: \", tpr_test)\n",
    "print(\"\\nThresholds: \", thresholds_test)"
   ]
  },
  {
   "cell_type": "code",
   "execution_count": null,
   "metadata": {},
   "outputs": [],
   "source": [
    "plt.style.use('ggplot')\n",
    "\n",
    "fig = plt.figure(figsize=(10, 6))\n",
    "plot_roc_curve(fpr_test, tpr_test)\n",
    "plt.show()"
   ]
  },
  {
   "cell_type": "code",
   "execution_count": null,
   "metadata": {},
   "outputs": [],
   "source": [
    "# Area under ROC curve\n",
    "roc_auc_score(y_test,y_scores_test)"
   ]
  },
  {
   "cell_type": "code",
   "execution_count": null,
   "metadata": {
    "scrolled": false
   },
   "outputs": [],
   "source": [
    "y_test_predicted_mnb = multinomialNB_clf.predict(X_test)\n",
    "\n",
    "\n",
    "accuracy_score_test = np.mean(y_test_predicted_mnb == y_test)\n",
    "print(\"\\nAccuracy: \", accuracy_score_test)\n",
    "\n",
    "print(\"\\nTest Confusion Matrix:\")\n",
    "print(confusion_matrix(y_test, y_test_predicted_mnb))\n",
    "\n",
    "precision_test = precision_score(y_test, y_test_predicted_mnb, average='micro') \n",
    "print(\"\\nTest Precision = %f\" % precision_test)\n",
    "\n",
    "recall_test = recall_score(y_test, y_test_predicted_mnb, average='micro')\n",
    "print(\"\\nTest Recall = %f\" % recall_test)\n",
    "\n",
    "\n",
    "f1_test = f1_score(y_test, y_test_predicted_mnb, average='micro')\n",
    "print(\"\\nTest F1 Score = %f\" % f1_test)\n",
    "\n",
    "\n",
    "print(\"\\nClassification Report:\")\n",
    "print(classification_report(y_test, y_test_predicted_mnb))"
   ]
  },
  {
   "cell_type": "markdown",
   "metadata": {},
   "source": [
    "## SVM Classifiers"
   ]
  },
  {
   "cell_type": "markdown",
   "metadata": {},
   "source": [
    "### LinearSVC (Current optimal with current data processing)"
   ]
  },
  {
   "cell_type": "code",
   "execution_count": null,
   "metadata": {
    "scrolled": true
   },
   "outputs": [],
   "source": [
    "LinSVC = LinearSVC(random_state=42)"
   ]
  },
  {
   "cell_type": "code",
   "execution_count": null,
   "metadata": {},
   "outputs": [],
   "source": [
    "\n",
    "%%time\n",
    "param_grid = {\n",
    "    'loss': ['hinge', 'squared_hinge'],\n",
    "    'C' : [ 1 , 35, 50, 100, 500, 1000],\n",
    "    'penalty': ['l1', 'l2'],\n",
    "    'tol' : [0.1 , 0.01, 0.001, 0.0001],\n",
    "    'max_iter' : [10, 35, 50, 100, 500, 1000, 5000, 10000],\n",
    "}\n",
    "\n",
    "LinSVC_cv = GridSearchCV(LinSVC, param_grid, scoring='accuracy', cv=5)\n",
    "\n",
    "LinSVC_cv = LinSVC_cv.fit(X_train, y_train)\n",
    "\n",
    "print(\"\\nBest Score: %f\" % LinSVC_cv.best_score_)\n",
    "\n",
    "print(\"\\nOptimal Hyperparameter Values: \")\n",
    "\n",
    "for param_name in sorted(param_grid.keys()):\n",
    "    print(\"%s: %r\" % (param_name, LinSVC_cv.best_params_[param_name]))"
   ]
  },
  {
   "cell_type": "code",
   "execution_count": null,
   "metadata": {},
   "outputs": [],
   "source": [
    "\n",
    "LinSVC= LinearSVC(random_state=42, C=LinSVC_cv.best_params_['C'], loss=LinSVC_cv.best_params_['loss'], max_iter=LinSVC_cv.best_params_['max_iter'], penalty= LinSVC_cv.best_params_['penalty'], tol=LinSVC_cv.best_params_['tol']).fit(X_train, y_train)\n",
    "LinSVC.fit(X_train, y_train)\n",
    "\n",
    "y_train_predicted = LinSVC.predict(X_train)\n",
    "\n",
    "\n",
    "print(\"Training Accuracy: \", LinSVC.score(X_train, y_train))\n",
    "y_test_predicted = LinSVC.predict(X_test)\n",
    "\n",
    "\n",
    "\n",
    "print(\"Test Accuracy: \", LinSVC.score(X_test, y_test))\n",
    "\n",
    "print(\"\\nTest Confusion Matrix:\")\n",
    "print(confusion_matrix(y_test, y_test_predicted))\n",
    "\n",
    "\n",
    "precision_test = precision_score(y_test, y_test_predicted) \n",
    "print(\"\\nTest Precision = %f\" % precision_test)\n",
    "\n",
    "recall_test = recall_score(y_test, y_test_predicted)\n",
    "print(\"Test Recall = %f\" % recall_test)\n",
    "\n",
    "\n",
    "f1_test = f1_score(y_test, y_test_predicted)\n",
    "print(\"Test F1 Score = %f\" % f1_test)\n",
    "\n",
    "\n",
    "print(\"\\nClassification Report:\")\n",
    "print(classification_report(y_test, y_test_predicted))"
   ]
  },
  {
   "cell_type": "markdown",
   "metadata": {},
   "source": [
    "#### LinearSVC: Polynomial Model"
   ]
  },
  {
   "cell_type": "code",
   "execution_count": null,
   "metadata": {},
   "outputs": [],
   "source": [
    "X_train_fold, X_val_fold, y_train_fold, y_val_fold = train_test_split(X_train, y_train, test_size=0.20, random_state=42)"
   ]
  },
  {
   "cell_type": "markdown",
   "metadata": {},
   "source": [
    "We shall find the optimal degree, using our best LinearSVC model hyperperameters, for our polynomial model."
   ]
  },
  {
   "cell_type": "code",
   "execution_count": null,
   "metadata": {
    "scrolled": true
   },
   "outputs": [],
   "source": [
    "%%time\n",
    "\n",
    "degreeList = [1,2,3,4,5,6]\n",
    "accuracy_train, accuracy_val = [], []\n",
    "\n",
    "for degree in degreeList:\n",
    "    model = make_pipeline(PolynomialFeatures(degree, include_bias=False), StandardScaler(), \n",
    "                          LinearSVC(random_state=42, C=LinSVC_cv.best_params_['C'], loss=LinSVC_cv.best_params_['loss'], max_iter=LinSVC_cv.best_params_['max_iter'], penalty= LinSVC_cv.best_params_['penalty'], tol=LinSVC_cv.best_params_['tol'])) \n",
    "\n",
    "    model.fit(X_train_fold, y_train_fold)\n",
    "       \n",
    "    # Make prediction \n",
    "    y_train_predicted = model.predict(X_train_fold)\n",
    "    y_val_predicted = model.predict(X_val_fold)\n",
    "    \n",
    "    accuracy_train.append(model.score(X_train_fold, y_train_fold))\n",
    "    accuracy_val.append(model.score(X_val_fold, y_val_fold))\n",
    "\n",
    "\n",
    "plt.figure(figsize=(10, 6))   \n",
    "plt.plot(degreeList, accuracy_val, \"ro-\", alpha=1.0, linewidth=1.0, label=\"Validation Accuracy\")\n",
    "plt.plot(degreeList, accuracy_train, \"bo-\", alpha=1.0, linewidth=1.0, label=\"Train Accuracy\")  \n",
    "\n",
    "plt.legend(loc=\"best\", fontsize=14) \n",
    "plt.xlabel(\"Degree\")\n",
    "plt.ylabel(\"Accuracy\")\n",
    "plt.title(\"Accuracy for Varying Degree\")\n",
    "plt.show()\n",
    "\n",
    "\n",
    "\n",
    "# Find the value of degree that gives max validation accuracy\n",
    "j = 0\n",
    "max_val_accuracy = accuracy_val[j]\n",
    "optimal_degree = 1\n",
    "\n",
    "for i in degreeList:\n",
    "    if(accuracy_val[j] > max_val_accuracy):\n",
    "        max_val_accuracy = accuracy_val[j]\n",
    "        optimal_degree = i\n",
    "    j +=1\n",
    "    \n",
    "print(\"Optimal Degree: \", optimal_degree)\n",
    "print(\"\\n\")"
   ]
  },
  {
   "cell_type": "code",
   "execution_count": null,
   "metadata": {},
   "outputs": [],
   "source": [
    "# Variable that speficies the degree of the polynomial to be added to the feature vector\n",
    "optimal_poly_degree = optimal_degree\n",
    "\n",
    "\n",
    "scaled_svm_clf = Pipeline([\n",
    "        (\"poly_features\", PolynomialFeatures(degree=optimal_poly_degree)),\n",
    "        (\"scaler\", StandardScaler()),\n",
    "        (\"clf\", LinearSVC(random_state=42, C=LinSVC_cv.best_params_['C'], loss=LinSVC_cv.best_params_['loss'], max_iter=LinSVC_cv.best_params_['max_iter'], penalty= LinSVC_cv.best_params_['penalty'], tol=LinSVC_cv.best_params_['tol']))\n",
    "    ])\n",
    "\n",
    "\n",
    "scaled_svm_clf.fit(X, y)\n",
    "\n",
    "y_train_predicted = scaled_svm_clf.predict(X_train)\n",
    "\n",
    "\n",
    "print(\"Training Accuracy: \", scaled_svm_clf.score(X_train, y_train))\n",
    "\n",
    "y_test_predicted = scaled_svm_clf.predict(X_test)\n",
    "print(\"Test Accuracy: \", scaled_svm_clf.score(X_test, y_test))\n",
    "\n",
    "\n",
    "print(\"\\nTest Confusion Matrix:\")\n",
    "print(confusion_matrix(y_test, y_test_predicted))\n",
    "\n",
    "\n",
    "precision_test = precision_score(y_test, y_test_predicted) \n",
    "print(\"\\nTest Precision = %f\" % precision_test)\n",
    "\n",
    "recall_test = recall_score(y_test, y_test_predicted)\n",
    "print(\"Test Recall = %f\" % recall_test)\n",
    "\n",
    "\n",
    "f1_test = f1_score(y_test, y_test_predicted)\n",
    "print(\"Test F1 Score = %f\" % f1_test)\n",
    "\n",
    "\n",
    "print(\"\\nClassification Report:\")\n",
    "print(classification_report(y_test, y_test_predicted))"
   ]
  },
  {
   "cell_type": "markdown",
   "metadata": {},
   "source": [
    "### SVC -> Kernelized SVM"
   ]
  },
  {
   "cell_type": "markdown",
   "metadata": {},
   "source": [
    "#### SVC: Linear Kernel"
   ]
  },
  {
   "cell_type": "code",
   "execution_count": null,
   "metadata": {},
   "outputs": [],
   "source": [
    "svc_clf = SVC(kernel='linear')"
   ]
  },
  {
   "cell_type": "code",
   "execution_count": null,
   "metadata": {},
   "outputs": [],
   "source": [
    "%%time\n",
    "param_grid = {\n",
    "    'gamma': ['scale', 'auto'],\n",
    "    'C' : [ 1 , 35, 50, 100, 500, 1000],\n",
    "    'tol' : [0.1 , 0.01, 0.001, 0.0001],\n",
    "    'max_iter' : [10, 35, 50, 100, 500, 1000],\n",
    "}\n",
    "\n",
    "svc_clf_cv = GridSearchCV(svc_clf, param_grid, scoring='accuracy', cv=5)\n",
    "\n",
    "svc_clf_cv = svc_clf_cv.fit(X_train, y_train)\n",
    "\n",
    "print(\"\\nBest Score: %f\" % svc_clf_cv.best_score_)\n",
    "\n",
    "print(\"\\nOptimal Hyperparameter Values: \")\n",
    "\n",
    "for param_name in sorted(param_grid.keys()):\n",
    "    print(\"%s: %r\" % (param_name, svc_clf_cv.best_params_[param_name]))\n"
   ]
  },
  {
   "cell_type": "code",
   "execution_count": null,
   "metadata": {},
   "outputs": [],
   "source": [
    "svc_clf = SVC(kernel='linear', C= svc_clf_cv.best_params_['C'], tol= svc_clf_cv.best_params_['tol'], gamma= svc_clf_cv.best_params_['gamma'], max_iter= svc_clf_cv.best_params_['max_iter'], ).fit(X_train, y_train)\n",
    "\n",
    "svc_clf.fit(X_train, y_train)\n",
    "\n",
    "y_train_predicted = svc_clf.predict(X_train)\n",
    "\n",
    "print(\"Training Accuracy: \", svc_clf.score(X_train, y_train))\n",
    "y_test_predicted = svc_clf.predict(X_test)\n",
    "print(\"Test Accuracy: \", svc_clf.score(X_test, y_test))\n",
    "\n",
    "\n",
    "print(\"\\nTest Confusion Matrix:\")\n",
    "print(confusion_matrix(y_test, y_test_predicted))\n",
    "\n",
    "\n",
    "precision_test = precision_score(y_test, y_test_predicted) \n",
    "print(\"\\nTest Precision = %f\" % precision_test)\n",
    "\n",
    "recall_test = recall_score(y_test, y_test_predicted)\n",
    "print(\"Test Recall = %f\" % recall_test)\n",
    "\n",
    "\n",
    "f1_test = f1_score(y_test, y_test_predicted)\n",
    "print(\"Test F1 Score = %f\" % f1_test)\n",
    "\n",
    "\n",
    "print(\"\\nClassification Report:\")\n",
    "print(classification_report(y_test, y_test_predicted))"
   ]
  },
  {
   "cell_type": "markdown",
   "metadata": {},
   "source": [
    "#### SVC: Polynomial Kernel"
   ]
  },
  {
   "cell_type": "code",
   "execution_count": null,
   "metadata": {},
   "outputs": [],
   "source": [
    "svc_poly_clf = SVC(kernel='poly')"
   ]
  },
  {
   "cell_type": "code",
   "execution_count": null,
   "metadata": {},
   "outputs": [],
   "source": [
    "%%time\n",
    "param_grid = {\n",
    "    'gamma': ['scale', 'auto'],\n",
    "    'C' : [ 1 , 35, 50, 100, 500, 1000],\n",
    "    'degree' : [1, 2, 3, 4, 5, 6],\n",
    "    'tol' : [0.1 , 0.01, 0.001, 0.0001],\n",
    "    'max_iter' : [10, 35, 50, 100, 500, 1000],\n",
    "}\n",
    "\n",
    "svc_poly_clf_cv = GridSearchCV(svc_poly_clf, param_grid, scoring='accuracy', cv=5)\n",
    "\n",
    "svc_poly_clf_cv = svc_poly_clf_cv.fit(X_train, y_train)\n",
    "\n",
    "print(\"\\nBest Score: %f\" % svc_poly_clf_cv.best_score_)\n",
    "\n",
    "print(\"\\nOptimal Hyperparameter Values: \")\n",
    "\n",
    "for param_name in sorted(param_grid.keys()):\n",
    "    print(\"%s: %r\" % (param_name, svc_poly_clf_cv.best_params_[param_name]))\n",
    "\n"
   ]
  },
  {
   "cell_type": "code",
   "execution_count": null,
   "metadata": {},
   "outputs": [],
   "source": [
    "%%time\n",
    "\n",
    "degreeList = [1,2,3,4,5,6]\n",
    "accuracy_train, accuracy_val = [], []\n",
    "\n",
    "for degree in degreeList:\n",
    "    model = SVC(C=svc_poly_clf_cv.best_params_['C'], kernel='poly', degree=degree, gamma= svc_poly_clf_cv.best_params_['gamma'], max_iter= svc_poly_clf_cv.best_params_['max_iter'], tol= svc_poly_clf_cv.best_params_['tol'])\n",
    "  \n",
    "    model.fit(X_train_fold, y_train_fold)\n",
    "       \n",
    "    # Make prediction \n",
    "    y_train_predicted = model.predict(X_train_fold)\n",
    "    y_val_predicted = model.predict(X_val_fold)\n",
    "    \n",
    "    \n",
    "    accuracy_train.append(model.score(X_train_fold, y_train_fold))\n",
    "    accuracy_val.append(model.score(X_val_fold, y_val_fold))\n",
    "      \n",
    "\n",
    "plt.figure(figsize=(10, 6))   \n",
    "plt.plot(degreeList, accuracy_val, \"ro-\", alpha=1.0, linewidth=1.0, label=\"Validation Accuracy\")\n",
    "plt.plot(degreeList, accuracy_train, \"bo-\", alpha=1.0, linewidth=1.0, label=\"Train Accuracy\")  \n",
    "\n",
    "plt.legend(loc=\"best\", fontsize=14) \n",
    "plt.xlabel(\"Degree\")\n",
    "plt.ylabel(\"Accuracy\")\n",
    "plt.title(\"Accuracy for Varying Degree\")\n",
    "plt.show()\n",
    "\n",
    "# Find the value of degree that gives max validation accuracy\n",
    "j = 0\n",
    "max_val_accuracy = accuracy_val[j]\n",
    "optimal_degree = 1\n",
    "\n",
    "for i in degreeList:\n",
    "    if(accuracy_val[j] > max_val_accuracy):\n",
    "        max_val_accuracy = accuracy_val[j]\n",
    "        optimal_degree = i\n",
    "    j +=1\n",
    "    \n",
    "print(\"Optimal Degree: \", optimal_degree)\n",
    "print(\"\\n\")"
   ]
  },
  {
   "cell_type": "code",
   "execution_count": null,
   "metadata": {},
   "outputs": [],
   "source": [
    "svc_clf = SVC(C=svc_poly_clf_cv.best_params_['C'], kernel='poly', degree=optimal_degree, gamma= svc_poly_clf_cv.best_params_['gamma'], max_iter= svc_poly_clf_cv.best_params_['max_iter'], tol= svc_poly_clf_cv.best_params_['tol']).fit(X_train, y_train)\n",
    "\n",
    "svc_clf.fit(X_train, y_train)\n",
    "\n",
    "\n",
    "y_train_predicted = svc_clf.predict(X_train)\n",
    "\n",
    "\n",
    "print(\"Training Accuracy: \", svc_clf.score(X_train, y_train))\n",
    "y_test_predicted = svc_clf.predict(X_test)\n",
    "\n",
    "print(\"Test Accuracy: \", svc_clf.score(X_test, y_test))\n",
    "\n",
    "print(\"\\nTest Confusion Matrix:\")\n",
    "print(confusion_matrix(y_test, y_test_predicted))\n",
    "\n",
    "\n",
    "precision_test = precision_score(y_test, y_test_predicted) \n",
    "print(\"\\nTest Precision = %f\" % precision_test)\n",
    "\n",
    "recall_test = recall_score(y_test, y_test_predicted)\n",
    "print(\"Test Recall = %f\" % recall_test)\n",
    "\n",
    "\n",
    "f1_test = f1_score(y_test, y_test_predicted)\n",
    "print(\"Test F1 Score = %f\" % f1_test)\n",
    "\n",
    "\n",
    "print(\"\\nClassification Report:\")\n",
    "print(classification_report(y_test, y_test_predicted))"
   ]
  },
  {
   "cell_type": "markdown",
   "metadata": {},
   "source": [
    "#### SVC: Gaussian Radial Basis Function Kernel"
   ]
  },
  {
   "cell_type": "code",
   "execution_count": null,
   "metadata": {},
   "outputs": [],
   "source": [
    "svm_rbf_clf = SVC(kernel=\"rbf\")"
   ]
  },
  {
   "cell_type": "code",
   "execution_count": null,
   "metadata": {},
   "outputs": [],
   "source": [
    "\n",
    "%%time\n",
    "param_grid = {\n",
    "    'gamma': ['scale', 'auto'],\n",
    "    'C' : [ 1 , 35, 50, 100, 500, 1000],\n",
    "    #'degree': [1,2,3,4,5,6],\n",
    "    'tol' : [0.1 , 0.01, 0.001, 0.0001],\n",
    "    'max_iter' : [10, 35, 50, 100, 500],\n",
    "}\n",
    "\n",
    "svm_sbf_cv = GridSearchCV(svm_rbf_clf, param_grid, scoring='accuracy', cv=5)\n",
    "\n",
    "svm_rbf_cv = svm_sbf_cv.fit(X_train, y_train)\n",
    "\n",
    "print(\"\\nBest Score: %f\" % svm_rbf_cv.best_score_)\n",
    "\n",
    "print(\"\\nOptimal Hyperparameter Values: \")\n",
    "\n",
    "for param_name in sorted(param_grid.keys()):\n",
    "    print(\"%s: %r\" % (param_name, svm_rbf_cv.best_params_[param_name]))"
   ]
  },
  {
   "cell_type": "code",
   "execution_count": null,
   "metadata": {},
   "outputs": [],
   "source": [
    "\n",
    "svm_rbf_clf.fit(X_train, y_train)\n",
    "\n",
    "y_train_predicted = svm_rbf_clf.predict(X_train)\n",
    "\n",
    "\n",
    "print(\"Training Accuracy: \", svm_rbf_clf.score(X_train, y_train))\n",
    "y_test_predicted = svm_rbf_clf.predict(X_test)\n",
    "print(\"Test Accuracy: \", svm_rbf_clf.score(X_test, y_test))\n",
    "\n",
    "print(\"\\nTest Confusion Matrix:\")\n",
    "print(confusion_matrix(y_test, y_test_predicted))\n",
    "\n",
    "precision_test = precision_score(y_test, y_test_predicted) \n",
    "print(\"\\nTest Precision = %f\" % precision_test)\n",
    "\n",
    "recall_test = recall_score(y_test, y_test_predicted)\n",
    "print(\"Test Recall = %f\" % recall_test)\n",
    "\n",
    "f1_test = f1_score(y_test, y_test_predicted)\n",
    "print(\"Test F1 Score = %f\" % f1_test)\n",
    "\n",
    "print(\"\\nClassification Report:\")\n",
    "print(classification_report(y_test, y_test_predicted))"
   ]
  },
  {
   "cell_type": "markdown",
   "metadata": {},
   "source": [
    "### SVM using the SGDClassifier"
   ]
  },
  {
   "cell_type": "code",
   "execution_count": null,
   "metadata": {},
   "outputs": [],
   "source": [
    "%%time\n",
    "\n",
    "svm_sgd = Pipeline([\n",
    "        ('clf', SGDClassifier(loss='hinge')),\n",
    "    ])"
   ]
  },
  {
   "cell_type": "code",
   "execution_count": null,
   "metadata": {},
   "outputs": [],
   "source": [
    "\n",
    "%%time\n",
    "param_grid = {\n",
    "    'clf__alpha': [1e-4, 1e-5],\n",
    "    'clf__penalty': ['l2', 'l1'],\n",
    "    'clf__max_iter': [10, 35, 50, 100, 500],\n",
    "    'clf__tol' : [0.1, 1, 0.01, 0.001,0.0001],\n",
    "    'clf__eta0' : [0.1, 0.01, 0.001, 0.0001],\n",
    "    'clf__learning_rate' : ['constant', 'adaptive'],\n",
    "}\n",
    "\n",
    "svm_sgd_cv = GridSearchCV(svm_sgd, param_grid, scoring='accuracy', cv=5)\n",
    "\n",
    "svm_sgd_cv = svm_sgd_cv.fit(X_train, y_train)\n",
    "\n",
    "print(\"\\nBest Score: %f\" % svm_sgd_cv.best_score_)\n",
    "\n",
    "print(\"\\nOptimal Hyperparameter Values: \")\n",
    "\n",
    "for param_name in sorted(param_grid.keys()):\n",
    "    print(\"%s: %r\" % (param_name, svm_sgd_cv.best_params_[param_name]))"
   ]
  },
  {
   "cell_type": "code",
   "execution_count": null,
   "metadata": {},
   "outputs": [],
   "source": [
    "%%time\n",
    "\n",
    "svm_sgd = Pipeline([\n",
    "        ('clf', SGDClassifier(loss='hinge', penalty=svm_sgd_cv.best_params_['clf__penalty'], alpha=svm_sgd_cv.best_params_['clf__alpha'], eta0=svm_sgd_cv.best_params_['clf__eta0'], learning_rate=svm_sgd_cv.best_params_['clf__learning_rate'], random_state=42, max_iter=svm_sgd_cv.best_params_['clf__max_iter'], tol=svm_sgd_cv.best_params_['clf__tol'])),\n",
    "    ])\n",
    "svm_sgd.fit(X_train, y_train)"
   ]
  },
  {
   "cell_type": "code",
   "execution_count": null,
   "metadata": {},
   "outputs": [],
   "source": [
    "%%time\n",
    "\n",
    "y_test_predicted = svm_sgd.predict(X_test)\n",
    "\n",
    "print(\"\\nAccuracy: \", np.mean(y_test_predicted == y_test))\n",
    "\n",
    "print(\"\\nTest Confusion Matrix:\")\n",
    "print(confusion_matrix(y_test, y_test_predicted))\n",
    "\n",
    "precision_test = precision_score(y_test, y_test_predicted, average='micro') \n",
    "print(\"\\nTest Precision = %f\" % precision_test)\n",
    "\n",
    "recall_test = recall_score(y_test, y_test_predicted, average='micro')\n",
    "print(\"\\nTest Recall = %f\" % recall_test)\n",
    "\n",
    "f1_test = f1_score(y_test, y_test_predicted, average='micro')\n",
    "print(\"\\nTest F1 Score = %f\" % f1_test)\n",
    "\n",
    "print(\"\\nClassification Report:\")\n",
    "print(classification_report(y_test, y_test_predicted))"
   ]
  },
  {
   "cell_type": "markdown",
   "metadata": {},
   "source": [
    "# Regressions"
   ]
  },
  {
   "cell_type": "markdown",
   "metadata": {},
   "source": [
    "## Ridge Regression"
   ]
  },
  {
   "cell_type": "code",
   "execution_count": 23,
   "metadata": {
    "scrolled": true
   },
   "outputs": [
    {
     "name": "stdout",
     "output_type": "stream",
     "text": [
      "Fitting 10 folds for each of 240 candidates, totalling 2400 fits\n"
     ]
    },
    {
     "name": "stderr",
     "output_type": "stream",
     "text": [
      "[Parallel(n_jobs=-1)]: Using backend LokyBackend with 16 concurrent workers.\n",
      "[Parallel(n_jobs=-1)]: Done  18 tasks      | elapsed:    2.7s\n",
      "[Parallel(n_jobs=-1)]: Done 640 tasks      | elapsed:    3.0s\n"
     ]
    },
    {
     "name": "stdout",
     "output_type": "stream",
     "text": [
      "Best Score (negative mean squared error): -27.142928\n",
      "Optimal Hyperparameter Values:  {'alpha': 0.03538461538461538, 'solver': 'saga'}\n",
      "\n",
      "\n",
      "Wall time: 3.53 s\n"
     ]
    },
    {
     "name": "stderr",
     "output_type": "stream",
     "text": [
      "[Parallel(n_jobs=-1)]: Done 2400 out of 2400 | elapsed:    3.4s finished\n"
     ]
    }
   ],
   "source": [
    "%%time\n",
    "\n",
    "\n",
    "# The param_grid tells Scikit-Learn to evaluate all combinations of the hyperparameter values\n",
    "\n",
    "param_grid = {'alpha': np.linspace(0.01, 1.0, num=40), \n",
    "              'solver': [\"auto\", \"svd\", \"cholesky\", \"lsqr\", \"sparse_cg\", \"saga\"]}\n",
    "\n",
    "ridge = Ridge()\n",
    "\n",
    "ridge_cv = GridSearchCV(ridge, param_grid, scoring='neg_mean_squared_error', cv=10, verbose=1, n_jobs=-1)\n",
    "ridge_cv.fit(X_train_poly, y_train)\n",
    "\n",
    "\n",
    "params_optimal_ridge = ridge_cv.best_params_\n",
    "\n",
    "print(\"Best Score (negative mean squared error): %f\" % ridge_cv.best_score_)\n",
    "print(\"Optimal Hyperparameter Values: \", params_optimal_ridge)\n",
    "print(\"\\n\")"
   ]
  },
  {
   "cell_type": "code",
   "execution_count": 24,
   "metadata": {},
   "outputs": [
    {
     "name": "stdout",
     "output_type": "stream",
     "text": [
      "Optimal alpha:  0.03538461538461538\n",
      "Optimal alpha:  saga\n",
      "\n",
      "----------------------------- Model Evaluation -----------------------------\n",
      "\n",
      "Mean squared error: 26.87\n",
      "Coefficient of determination r^2 variance score [1 is perfect prediction]: 0.73\n"
     ]
    }
   ],
   "source": [
    "# Ridge Regression\n",
    "\n",
    "\n",
    "# Optimal model parameters\n",
    "ridge_alpha = ridge_cv.best_params_['alpha']\n",
    "print(\"Optimal alpha: \", ridge_alpha)\n",
    "\n",
    "ridge_solver = ridge_cv.best_params_['solver']\n",
    "print(\"Optimal alpha: \", ridge_solver)\n",
    "\n",
    "\n",
    "# Create Ridge linear regression object\n",
    "lin_reg_ridge = Ridge(alpha=ridge_alpha, solver=ridge_solver)\n",
    "\n",
    "# Train the model\n",
    "lin_reg_ridge.fit(X_train_poly, y_train)\n",
    "\n",
    "\n",
    "\n",
    "print(\"\\n----------------------------- Model Evaluation -----------------------------\")\n",
    "\n",
    "# Make prediction \n",
    "y_train_predicted_ridge = lin_reg_ridge.predict(X_train_poly)\n",
    "\n",
    "\n",
    "print(\"\\nMean squared error: %.2f\"\n",
    "      % mean_squared_error(y_train, y_train_predicted_ridge))\n",
    "\n",
    "\n",
    "# Explained variance score: 1 is perfect prediction\n",
    "print(\"Coefficient of determination r^2 variance score [1 is perfect prediction]: %.2f\" % r2_score(y_train, y_train_predicted_ridge))"
   ]
  },
  {
   "cell_type": "code",
   "execution_count": 25,
   "metadata": {
    "scrolled": true
   },
   "outputs": [
    {
     "name": "stdout",
     "output_type": "stream",
     "text": [
      "\n",
      "----------------------------- Test Model Evaluation -----------------------------\n",
      "\n",
      "Mean squared error: 26.81\n",
      "Coefficient of determination r^2 variance score [1 is perfect prediction]: 0.72\n",
      "[ 4  1 38  1  7 29 15 18 26  2  7 12  7 46  8 26  4  1  5 12  6  2 16  9\n",
      "  7  3 23  6 15 24  4  2 18 52  3 20 17  2 13 10  0  9 34  6  4  0  4  3\n",
      "  5 11  3 22  2  2 19  6  1 14 17 17  6  0  6 15 17  1  6  5 11 18 17 34\n",
      " 49 10  1  3 17 52  3  2  5  1  1  5  0  6  5 17 16  4 25 19 18 29 19  9\n",
      " 24  7 41 11  3  2  4  3  2 18  3 24  3 14  8 13  1  9  7 15  2  6  1  3\n",
      "  6 11  9  1  2 18 10  1 23  1 17  1  0  7 12 21 34 11 20  3 14  1 10  4\n",
      "  8  3 21  3 31  0 11 12  9  5  4 19  9  0  1  2  3 25 13  2 13  0  3  4\n",
      "  3 19 20  7 19 11  7 22  0 45 23 16  0  8  3  7  6 21 20  0 12  2  4 24\n",
      "  2 13  2 14 28  4  3  6  3 15 19 13 15  1  7  7  2  1  1 20  6 48 15 16\n",
      "  7 17 20 17 14  4 10  1  6 15  9 33  9  5 21  5 17 18 14 15  2  0 20 17\n",
      " 12  7  9  1  4  9 15 13  7  6  2  6  5  0  1  1  7 16 21  1 23  8  2  6\n",
      "  3  2  7  9 13  0  4  6  6  5 17  1 20  2 11  3  4  6  9  9 42  0 44  1\n",
      "  0 15  4  7 21  0 24  8  9  9 15  4  8  8  1 12  7  5 21  1  2 11  7  3\n",
      "  1  4  1 18  2  0  5 44 11 17  0  5  4  3  7 10  6  4 36 20 12 19 25  2\n",
      "  4  9 10 12 13 14 11  8  3  7 20  4  1  2  2  9 18  4  4 30 26  1 19 10\n",
      "  1 23  5  1  8  9 20  8  3  5  1  4 10  4  3  8  8 10 14 10 10  1  5  1\n",
      "  0  3 14 13  4 22  9 15 12 18 38 34 17  9  4 15 21 16 30 10  1  2  3  4\n",
      "  5 14  9 14 17  4 13  2  3  2  0 17  1 11 27  3  8 25  4  9 13  5  6  2\n",
      " 16 22 11 22  9 53  5 27 19  5  1 10 16 23  3  2 16  3  6 18  3  2  2  9\n",
      "  5 10  0 15  8  6  5  1  7  5  3 10  3 18  0 20  3 12 16  4  1 30  4  7\n",
      "  8  3  9 13 17  7  3 27  7  5  7  0  0 29  9 17  2 21 10  3 13 16  1  4\n",
      "  8 16  1  3  2 16 14 37  1  0  5  9 23  3 15  3  5  9 10  3 31 17  9  4\n",
      " 35 26 15 23 17  7  5 26  2  3  1 24  2 16  2 17 14 17  4 24 22  2 16 13\n",
      "  2 19 17 10  7  0 50 49  6 12 49  4  2  3  1 13 16  1  2  5 15  2 17  2\n",
      " 15 10  9  0  8  1  4  2  2  5 11 11  1  2 17 17  1 15  3  1  1  0 22  2\n",
      " 37  1  3  9 10  9  5 19 12  2 11  4  6 18 17  1  3  4  6  0  2 12  0 46\n",
      "  6 21  9 18  5  8 35  1  6 10 16  1  5  6 18 16  2 12 13  0 16  0 15 21\n",
      " 55  1  0 19  1 27 15  7 11 12  3  1  1  9  6  4  6  3 12  2 14 13  6 14\n",
      " 10 11  1 34 10  2 20 16  3  7  0 10 11 18  3 16  7 29 12  1  9  5 30 27\n",
      " 21  2 18 10  6  6 20 16 19 16 10  4  3 17 25 19 16  5 21  3  2  6 10 29\n",
      "  4  2 12  6  0 11  5  3  2  0  5 51 33  0  5  3  5  4  9  9  3  5  6 17\n",
      " 10 17 16 25 18  8  8 17  3 22  7  6 14  2 20  1  8 15  3  5  7  2  4  0\n",
      "  2  3 18  6  3 17  1  0 17  4  1  5  2 28  3  8 34 10 21 30  1 31  4 13\n",
      "  9  2  6 10  4  2 16  4  6 10  9 16  7  1  8 25 14  1 17 11 52 20  6  3\n",
      " 12  9 28  7 16  3 11 23 16  2  4  3  9  8  5  9 16 11  2  4] [ 8.89083881e+00  8.07009361e-01  2.90846769e+01 -8.03989324e-02\n",
      "  4.09818490e+00  1.94805105e+01  1.45893170e+01  7.91374067e+00\n",
      "  1.41203436e+01  5.75354588e+00  1.15358317e+01  9.36705367e+00\n",
      "  5.68944959e+00  3.70597889e+01  1.19066780e+01  1.83025248e+01\n",
      "  6.97888703e+00  7.52637543e+00  7.63306112e+00  1.01505695e+01\n",
      "  1.04737891e+01  8.90775082e+00  1.72297731e+01  9.29480942e+00\n",
      "  5.21688978e+00  4.06622578e+00  2.19988990e+01  5.84070405e+00\n",
      "  1.23623663e+01  2.39488637e+01  9.39078526e+00  8.13270517e+00\n",
      "  1.39295570e+01  4.00640476e+01  1.35416076e+00  1.49495783e+01\n",
      "  2.01117353e+01  6.42278018e+00  1.43555285e+01  1.00610668e+01\n",
      " -3.26863908e+00  4.55154281e+00  1.72068957e+01  7.50082237e+00\n",
      "  1.80649828e+00  6.69992232e-01  6.80798448e+00  5.34280096e+00\n",
      "  9.76867861e+00  3.52701516e+00  4.43395313e+00  1.91077153e+01\n",
      "  1.00399853e+00  5.23188262e+00  1.68565530e+01  1.05026893e+01\n",
      "  2.79081480e+00  1.72011100e+01  2.07769337e+01  1.05929656e+01\n",
      "  9.86858197e+00 -1.68817837e+00  1.14326492e+01  1.93654180e+01\n",
      "  2.10009444e+01  2.60206825e+00  8.04325054e+00  5.29152597e+00\n",
      "  1.19519451e+01  1.36018831e+01  1.84638606e+01  2.30245085e+01\n",
      "  3.88069678e+01  1.46159241e+01 -9.63361061e-01  2.19253276e+00\n",
      "  1.81432548e+01  3.57707914e+01 -2.08144152e+00  7.79780943e+00\n",
      "  3.60392438e+00  1.28140423e+00  4.71161041e+00  3.19419864e+00\n",
      "  1.97427954e-01  8.24020259e+00  3.53213624e+00  1.31227749e+01\n",
      "  1.44510196e+01  7.23295605e+00  1.42019324e+01  1.79437627e+01\n",
      "  2.24287601e+01  2.39059047e+01  1.59310364e+01  1.25347583e+01\n",
      "  2.14270416e+01  1.28157758e+01  3.45197684e+01  9.79815331e+00\n",
      "  3.23372639e+00  7.84237642e+00  2.62874194e+00  4.36231596e+00\n",
      " -4.03759632e+00  2.08904427e+01 -8.32002495e+00  1.86273716e+01\n",
      "  9.83975643e+00  1.75641723e+01  6.66549749e+00  8.81649321e+00\n",
      "  1.27934583e+00  7.57266393e+00 -8.36642565e-01  1.03173435e+01\n",
      " -1.44067886e+00  2.43266292e+00 -2.33291101e-01  3.98171793e+00\n",
      "  4.32798391e+00  8.46900520e+00  1.12342401e+00 -3.30603065e-01\n",
      "  2.20310275e+00  1.83742354e+01  8.95508258e+00  1.85356823e+00\n",
      "  1.86815329e+01  1.74458106e+01  1.69688202e+01 -7.78734319e-01\n",
      "  1.50628539e+00  8.92463749e+00  1.27133072e+01  2.42816013e+01\n",
      "  2.72913330e+01  5.93958068e+00  7.51372541e+00  5.15519395e+00\n",
      "  1.98733657e+01  2.03937679e+00  6.13911736e+00  9.92489681e+00\n",
      "  8.45018879e+00  2.36447681e-02  1.66793070e+01  7.27401714e+00\n",
      "  1.90450314e+01  2.55203353e+00  9.65893459e+00  7.27205855e+00\n",
      "  7.40690151e+00  7.45808166e+00  3.57336306e+00  1.74877036e+01\n",
      "  9.17354797e+00 -1.74633895e+00  3.70742152e+00  1.51397930e+01\n",
      "  2.61653434e+00  2.70234413e+01  1.79194053e+01  4.56486537e+00\n",
      "  2.39357319e+00 -1.02465148e+00  4.66391088e+00  1.11619920e+01\n",
      "  2.96626699e+00  1.37646107e+01  1.96934546e+01  8.07603905e+00\n",
      "  1.21418269e+01  1.36967253e+01  9.98595431e+00  2.21271685e+01\n",
      "  4.18419335e+00  3.05358350e+01  2.59809576e+01  2.42473928e+01\n",
      "  4.17621171e-01  1.12037248e+01  2.13246993e+00 -1.41425207e+00\n",
      "  3.95153338e+00  1.45902930e+01  1.71969501e+01  5.36882716e+00\n",
      "  1.41621985e+01  7.35827183e-01  5.66754459e+00  1.97374642e+01\n",
      "  1.00284699e-01  1.30613084e+01 -8.55820928e-01  1.20751069e+01\n",
      "  2.42650001e+01  8.51591812e+00 -1.24634200e+00  6.66863032e+00\n",
      "  3.69360435e+00  1.65455337e+01  1.96340983e+01  1.01749352e+01\n",
      "  1.53143285e+01  3.17249715e+00  1.03861985e+01  8.24414629e+00\n",
      "  3.85049864e-01  3.96246746e+00  1.87478087e+01  3.14347476e+01\n",
      "  6.00369230e+00  3.51286615e+01  1.91157151e+01  1.89766889e+01\n",
      "  1.28124537e+01  1.88765686e+01  1.17489977e+01  1.17423462e+01\n",
      "  1.26166317e+01  3.82496743e+00  5.03906416e+00  2.48259004e+00\n",
      "  9.33632252e+00  2.25264008e+01  9.22117235e+00  1.88040124e+01\n",
      "  7.11043161e+00  1.24946566e+01  2.27817438e+01  6.12094419e+00\n",
      "  1.56903061e+01  1.22372450e+01  1.11153650e+01  1.33884088e+01\n",
      "  5.63323829e+00  3.38058478e+00  1.92599377e+01  1.92869339e+01\n",
      "  7.15545443e+00  1.38698230e+01  1.22365572e+01  3.21048831e+00\n",
      "  8.93185650e-01  5.47790154e-01  1.28456976e+01  2.46013456e+01\n",
      "  8.26119340e+00  6.49950682e+00  2.53078150e+00  3.79009059e+00\n",
      "  5.26020146e+00 -1.38562033e+00  5.14783979e+00  2.47042329e+00\n",
      "  7.45530875e+00  1.15105305e+01  1.67821725e+01  5.72043925e+00\n",
      "  1.83038518e+01  4.05883123e-01  3.85461231e+00  1.54078318e+01\n",
      " -7.20548323e-01  4.69274320e+00  1.96843510e+00  1.27692313e+01\n",
      "  1.20005796e+01  5.13500985e+00 -6.18624607e-01  9.48820465e+00\n",
      "  8.56768376e+00  5.56083543e+00  1.53307518e+01  5.86147378e+00\n",
      "  1.88197709e+01  4.06468156e+00  1.20019137e+01  5.81506285e+00\n",
      "  1.11250929e+01  6.19492379e+00  1.13545355e+01  1.01168652e+01\n",
      "  3.28505754e+01  4.19070574e+00  4.14157645e+01  7.43192870e+00\n",
      " -5.36004940e-01  1.09340381e+01  4.85296433e+00  1.32250342e+01\n",
      "  6.06214650e+00 -2.16795089e+00  2.22893803e+01  1.02354386e+01\n",
      "  9.73482862e+00  1.62919518e+01  1.72479076e+01  3.64761870e+00\n",
      "  1.23068563e+01  1.55553532e+01  3.12519750e+00  9.47434836e+00\n",
      "  1.06571881e+01  1.24333696e+01  1.80840243e+01  2.73005970e+00\n",
      "  3.31222297e+00  1.74299129e+01  8.25241476e+00  5.59789742e+00\n",
      "  2.56829019e+00  3.91001183e+00 -5.89637910e+00  2.00210144e+01\n",
      "  1.75640737e+00 -8.11742944e-01  8.09134830e+00  4.05960420e+01\n",
      "  1.34441821e+01  1.88813718e+01  2.40934969e+00  7.74805312e+00\n",
      "  5.86318597e+00  1.25304919e+00  1.44230981e+01  6.16956665e+00\n",
      "  3.19596211e+00 -5.20876426e-01  3.04861399e+01  1.57202756e+01\n",
      "  7.28418947e+00  1.53712581e+01  2.55005468e+01  1.80871312e+00\n",
      "  1.68290446e+00  1.26840353e+01  8.81964932e+00  1.27245857e+01\n",
      "  2.08221187e+01  1.02533117e+01  1.13765445e+01  1.35035806e+01\n",
      "  1.24038155e+01  3.88013330e+00  2.66549708e+01  3.58699719e-01\n",
      "  4.96127448e-01  3.12763239e+00  7.78410592e+00  1.17128681e+01\n",
      "  1.98593431e+01  9.81159584e+00  3.54675615e+00  3.05218293e+01\n",
      "  9.20636782e+00 -2.99576762e+00  1.28956294e+01  9.60331468e+00\n",
      "  1.71359200e+00  1.86162075e+01  9.34649898e+00  5.11580586e+00\n",
      "  1.11261308e+01  1.12724823e+01  2.24705062e+01  1.17135053e+01\n",
      "  3.29701432e+00  1.15899832e+01  2.64780326e+00  3.13705120e+00\n",
      "  6.37800249e+00  5.83766849e+00  4.10653015e+00  9.76250136e+00\n",
      "  6.53198914e+00  1.59579818e+01  1.10833319e+01  1.24408167e+01\n",
      "  2.02496119e+00  8.14298572e+00  3.20674748e+00  1.57910666e+01\n",
      "  3.82408183e-01  5.51726026e+00  1.26911111e+01  1.28061578e+01\n",
      "  1.49631764e+01  1.72147221e+01  1.32022732e+01  1.25259870e+01\n",
      "  1.59319701e+01  2.29456117e+01  1.91001469e+01  2.86965334e+01\n",
      "  1.39924683e+01  1.47263507e+01  1.19350166e+00  1.96650748e+01\n",
      "  1.62037674e+01  1.17770164e+01  2.73510209e+01  1.33246410e+01\n",
      " -1.45570824e+00  3.21111092e+00  3.39706703e+00  1.27770638e+01\n",
      "  6.84038729e+00  1.50569026e+01  9.37757134e+00  1.10966417e+01\n",
      "  2.48433955e+01  5.72552919e+00  1.58663636e+01  3.00253701e+00\n",
      "  3.03147729e+00  3.08105308e-01  1.50646642e+00  2.22169017e+01\n",
      "  1.45019981e+00  1.81660807e+01  3.25106040e+01  7.36619248e+00\n",
      "  1.20802356e+01  2.44813427e+01  1.36341249e+01  1.05719240e+01\n",
      "  1.89101603e+01  6.94306190e+00  2.25103115e+01  9.04365970e+00\n",
      "  1.99214294e+01  2.35253746e+01  1.01911186e+01  1.50886126e+01\n",
      "  1.47835786e+01  4.69101325e+01  5.30019494e+00  1.88023859e+01\n",
      "  1.39339831e+01  9.13088798e+00  8.41957494e+00  5.92440831e+00\n",
      "  1.20125778e+01  2.29457736e+01  7.13284601e+00  3.42810837e+00\n",
      "  1.91721772e+01  1.64296212e+00  1.21640155e+01  1.53061286e+01\n",
      "  8.37632588e+00  3.84186613e+00 -1.27384106e+00  1.82252207e+01\n",
      "  4.75778512e+00  1.21621093e+01 -2.52077489e-01  1.22192870e+01\n",
      "  1.08716745e+01  3.71576737e+00  9.05208837e+00 -7.57285976e-01\n",
      "  9.41657462e+00  9.06557637e-01  1.69401705e+00  8.77753567e+00\n",
      " -2.74978515e+00  1.68131988e+01  4.24661948e-01  2.18835974e+01\n",
      "  6.40553192e+00  1.56143473e+01  1.58359016e+01  9.19930854e-01\n",
      "  3.86318822e+00  2.35269020e+01  3.96772856e+00  1.43180987e+01\n",
      "  1.69914859e+01  6.06623200e-02  6.09187598e+00  1.37462245e+01\n",
      "  1.68775611e+01  9.59831099e+00  5.38989419e+00  1.74061627e+01\n",
      "  2.08393599e+01  2.82360356e+00  5.87647836e+00  5.44599137e+01\n",
      "  6.01830303e+00  2.16721933e+01  6.18234677e+00  2.17847389e+01\n",
      " -1.05830672e+00  1.60207795e+01  5.50821531e+00  9.04985402e+00\n",
      "  1.54395795e+01  1.84851619e+01  2.41029145e+00 -9.57948198e-01\n",
      "  8.04254748e+00  1.02771446e+01  2.40110774e+00  2.24500290e+00\n",
      " -3.66003665e-01  1.77388711e+01  1.39330409e+01  3.09737247e+01\n",
      " -2.24337598e-01 -1.80799290e+00 -9.49026632e-02  1.05990659e+01\n",
      "  2.37744668e+01  1.93337499e+00  1.16829225e+01  6.87544981e+00\n",
      "  1.37229501e+01  1.00960582e+01  6.78283392e+00  4.90392344e+00\n",
      "  2.52605103e+01  1.72190155e+01  1.53478308e+01  5.35212001e+00\n",
      "  2.86834258e+01  2.29330198e+01  1.23319413e+01  1.46378788e+01\n",
      "  2.14181826e+01  9.47517921e+00  9.51845786e+00  2.32820255e+01\n",
      " -2.74672913e+00  2.47480441e+00  1.71520223e+00  2.85415082e+01\n",
      "  1.68175656e-01  1.26799735e+01 -1.25398296e+00  1.11725675e+01\n",
      "  1.72283603e+01  1.80617370e+01 -1.00567452e+00  1.85439085e+01\n",
      "  1.81064521e+01 -8.43475091e-01  1.73226673e+01  1.12055796e+01\n",
      "  2.10526460e-02  1.40365170e+01  1.77721543e+01  8.76593825e+00\n",
      "  4.31334005e+00 -6.98117998e-01  3.55846902e+01  3.52425520e+01\n",
      "  9.44840109e+00  8.44947778e+00  4.01696753e+01  4.11598499e+00\n",
      "  1.34871320e+00  4.29008626e+00  6.51613147e-01  2.55790020e+01\n",
      "  1.81925254e+01  2.79956157e+00  4.84551281e+00  8.74803544e+00\n",
      "  1.65030520e+01 -2.15392424e+00  1.29522484e+01  8.69903119e+00\n",
      "  1.03487669e+01  4.58035962e+00  6.79929008e+00  2.29370227e+00\n",
      "  1.26564299e+01 -1.36693139e+00  4.74477002e+00  3.21073892e+00\n",
      " -2.78071729e+00  7.08761012e+00  5.53106240e+00  1.29791862e+01\n",
      " -1.73291371e+00  1.37136502e+00  1.72877682e+01  1.08741449e+01\n",
      "  3.01836184e+00  6.46657260e+00  6.31272848e+00  4.46124615e+00\n",
      " -3.37561679e+00  5.80773330e+00  1.39129873e+01  8.13987554e-01\n",
      "  2.78802368e+01  2.56914662e+00  6.43571826e-01  7.27839959e+00\n",
      "  1.32721709e+01  7.11077499e+00  1.32477179e+01  1.91697999e+01\n",
      "  1.40403552e+01 -8.59129569e-01  8.18692859e+00  6.47053819e+00\n",
      "  4.40862761e+00  1.63931828e+01  1.55404862e+01  1.37984885e+00\n",
      " -2.45160852e+00 -8.71333968e-01  1.07523784e+01  2.77910539e+00\n",
      "  1.68941360e+00  1.11764507e+01  1.54274233e+00  3.68693292e+01\n",
      "  7.40427932e+00  2.25572920e+01  7.76065737e+00  1.63721480e+01\n",
      "  7.13931663e+00  4.68468418e+00  2.33233962e+01  3.85745810e+00\n",
      "  7.28593569e+00  9.35514348e+00  1.48626870e+01  2.23963894e+00\n",
      "  1.05932667e+01  5.65094350e+00  1.92962120e+01  1.55317660e+01\n",
      "  7.02843637e+00  1.03697369e+01  1.69717990e+01  6.90426368e+00\n",
      "  1.22355780e+01  1.13674700e+01  1.63118243e+01  2.41561671e+01\n",
      "  4.22667665e+01  2.39319079e+00  4.46067094e-01  2.87950682e+01\n",
      "  3.98897880e+00  2.10344606e+01  1.25903944e+01  5.29565284e+00\n",
      "  9.37675515e+00  1.62165656e+01  7.25680109e+00  4.48175484e+00\n",
      "  4.55237655e+00  1.30113493e+01  1.25061703e+01  3.58770499e+00\n",
      "  2.44427166e-01  1.06774188e+00  9.80252870e+00  4.09409268e+00\n",
      "  2.37858284e+01  1.75906374e+01  9.49131795e+00  4.17796151e+00\n",
      "  1.15558421e+01  1.95764387e+01 -9.74740421e-01  2.27342161e+01\n",
      "  1.40133136e+01  5.81299861e+00  2.26719262e+01  1.17963271e+01\n",
      "  2.64105950e+00  7.38010831e+00 -8.20887218e-01  1.35667279e+01\n",
      "  1.67902391e+01  1.72448940e+01  6.49917989e+00  2.09973362e+01\n",
      "  7.71654170e+00  2.58726296e+01  8.71037871e+00 -5.30038961e-01\n",
      "  1.49516927e+01  7.95287605e+00  2.32580067e+01  1.88839094e+01\n",
      "  1.75432128e+01  2.00729360e-01  1.68037914e+01  1.19621757e+01\n",
      "  8.06655902e+00  9.33042015e+00  2.17858438e+01  1.84822318e+01\n",
      "  2.64481861e+01  1.65409829e+01  1.20875604e+01  4.01521789e+00\n",
      " -6.83508462e+00  1.90263178e+01  1.34460653e+01  2.63292635e+01\n",
      "  1.45104513e+01  2.05200718e+00  6.94067080e+00  5.45906498e-01\n",
      "  3.65871508e+00  1.02682694e+01  1.29364455e+01  2.43032911e+01\n",
      "  7.70967956e+00  2.62077800e+00  1.45574214e+01  1.16773991e+01\n",
      "  7.45695130e+00  1.30630701e+01  2.05901005e+00  4.57409119e+00\n",
      "  7.42017275e+00 -1.07359504e+00  8.27277697e+00  3.65057515e+01\n",
      "  3.39514274e+01  2.06565501e+00  7.30337925e+00  5.63607240e+00\n",
      "  8.33573916e+00  4.39160999e+00  7.51827913e+00  8.22091937e+00\n",
      "  2.35628688e+00  7.77046787e+00  1.11829662e+01  1.49257015e+01\n",
      "  1.44721745e+01  1.82248272e+01  1.50145137e+01  2.69396906e+01\n",
      "  2.20131983e+01  1.22548727e+01  1.06033720e+01  1.49738887e+01\n",
      "  5.20771290e+00  7.23318067e+00  1.25251411e+01  8.01331863e+00\n",
      "  1.28562937e+01  8.77951616e-01  2.09661971e+01 -1.17395532e+00\n",
      "  6.53949641e+00  1.38523444e+01 -1.09160974e+00  1.20882074e+01\n",
      "  8.01489184e+00 -2.01819160e+00  1.25489084e+01 -5.03284889e-01\n",
      "  7.82879031e+00  2.19891046e+00  1.71882789e+01  3.82640992e+00\n",
      "  6.02293538e+00  2.39967610e+01  1.19534846e+00  5.69993201e-01\n",
      "  1.89626268e+01  1.52331221e+00  2.84259596e+00  6.02367486e+00\n",
      "  4.08838214e+00  2.54805688e+01  2.56513863e+00  1.92802467e+01\n",
      "  1.81259933e+01  3.69866043e+00  1.52227573e+01  1.63909240e+01\n",
      "  5.62445778e+00  2.86624678e+01  1.32101903e+00  1.79567458e+01\n",
      "  1.55212477e+01  4.98143977e+00  2.00362645e+00  6.87602805e+00\n",
      "  4.53983352e+00  3.15702634e+00  1.52942370e+01  5.18529862e+00\n",
      "  4.05039021e+00  1.45454801e+01  5.32533696e+00  1.32472469e+01\n",
      "  6.55274462e+00  8.84821310e+00  6.80691308e+00  2.31852322e+01\n",
      "  1.63747170e+01  3.82281376e+00  1.34524724e+01  1.01120478e+01\n",
      "  3.84877102e+01  1.90190193e+01  1.14162890e+01 -5.36046974e-01\n",
      "  1.08999502e+01  6.34931058e+00  2.00921435e+01  4.37176680e+00\n",
      "  1.87614171e+01  1.27745213e+00  1.19366506e+01  2.64506824e+01\n",
      "  1.69300130e+01  3.71069421e+00  6.09391750e+00  8.74424612e-01\n",
      "  1.13516330e+01  1.26465853e+01  4.33745497e+00  2.22614010e+01\n",
      "  1.85490256e+01  1.34165210e+01  6.30826473e+00  2.77840039e+00]\n"
     ]
    }
   ],
   "source": [
    "# Add polynomial and bias term with the feature vector using the sklearn PolynomialFeatures class\n",
    "poly_features = PolynomialFeatures(degree=poly_degree, include_bias=False)\n",
    "X_test_poly = poly_features.fit_transform(X_test)\n",
    "\n",
    "\n",
    "print(\"\\n----------------------------- Test Model Evaluation -----------------------------\")\n",
    "\n",
    "# Make prediction \n",
    "y_test_poly_predicted = lin_reg_ridge.predict(X_test_poly)\n",
    "\n",
    "\n",
    "ridge_test_mse = mean_squared_error(y_test, y_test_poly_predicted)\n",
    "\n",
    "print(\"\\nMean squared error: %.2f\" % ridge_test_mse)\n",
    "\n",
    "\n",
    "\n",
    "ridge_test_r2_score = r2_score(y_test, y_test_poly_predicted)\n",
    "print('Coefficient of determination r^2 variance score [1 is perfect prediction]: %.2f' \n",
    "      % ridge_test_r2_score)\n",
    "print(y_test, y_test_poly_predicted)"
   ]
  },
  {
   "cell_type": "code",
   "execution_count": 26,
   "metadata": {},
   "outputs": [
    {
     "name": "stderr",
     "output_type": "stream",
     "text": [
      "[Parallel(n_jobs=-1)]: Using backend LokyBackend with 16 concurrent workers.\n",
      "[Parallel(n_jobs=-1)]: Done  18 tasks      | elapsed:    0.0s\n"
     ]
    },
    {
     "name": "stdout",
     "output_type": "stream",
     "text": [
      "Fitting 10 folds for each of 100 candidates, totalling 1000 fits\n",
      "Best Score (negative mean squared error): -27.144329\n",
      "Optimal Hyperparameter Values:  {'alpha': 10.0}\n",
      "\n",
      "\n",
      "Wall time: 263 ms\n"
     ]
    },
    {
     "name": "stderr",
     "output_type": "stream",
     "text": [
      "[Parallel(n_jobs=-1)]: Done 1000 out of 1000 | elapsed:    0.2s finished\n"
     ]
    }
   ],
   "source": [
    "\n",
    "%%time\n",
    "\n",
    "\n",
    "# The param_grid tells Scikit-Learn to evaluate all combinations of the hyperparameter values\n",
    "\n",
    "#param_grid = {'alpha': np.linspace(10.0, 20.0, num=10)}\n",
    "param_grid = {'alpha': np.linspace(10,40,num=100)}\n",
    "\n",
    "lasso = Lasso()\n",
    "\n",
    "lasso_cv = GridSearchCV(ridge, param_grid, scoring='neg_mean_squared_error', cv=10, verbose=1, n_jobs=-1)\n",
    "lasso_cv.fit(X_train_poly, y_train)\n",
    "\n",
    "params_optimal_lasso = lasso_cv.best_params_\n",
    "\n",
    "print(\"Best Score (negative mean squared error): %f\" % lasso_cv.best_score_)\n",
    "print(\"Optimal Hyperparameter Values: \", params_optimal_lasso)\n",
    "print(\"\\n\")"
   ]
  },
  {
   "cell_type": "code",
   "execution_count": 27,
   "metadata": {},
   "outputs": [
    {
     "name": "stdout",
     "output_type": "stream",
     "text": [
      "Optimal alpha:  10.0\n",
      "\n",
      "----------------------------- Model Evaluation -----------------------------\n",
      "\n",
      "Mean squared error: 26.87\n",
      "Coefficient of determination r^2 variance score [1 is perfect prediction]: 0.73\n"
     ]
    }
   ],
   "source": [
    "# Lasso Regression\n",
    "\n",
    "# Optimal model parameters\n",
    "lasso_alpha = lasso_cv.best_params_['alpha']\n",
    "print(\"Optimal alpha: \", lasso_alpha)\n",
    "\n",
    "\n",
    "# Create Lasso linear regression object\n",
    "lin_reg_lasso = Ridge(alpha=lasso_alpha)\n",
    "\n",
    "# Train the model\n",
    "lin_reg_lasso.fit(X_train_poly, y_train)\n",
    "\n",
    "\n",
    "\n",
    "print(\"\\n----------------------------- Model Evaluation -----------------------------\")\n",
    "\n",
    "# Make prediction \n",
    "y_train_predicted_lasso = lin_reg_lasso.predict(X_train_poly)\n",
    "\n",
    "\n",
    "print(\"\\nMean squared error: %.2f\"\n",
    "      % mean_squared_error(y_train, y_train_predicted_lasso))\n",
    "\n",
    "\n",
    "# Explained variance score: 1 is perfect prediction\n",
    "print(\"Coefficient of determination r^2 variance score [1 is perfect prediction]: %.2f\" \n",
    "      % r2_score(y_train, y_train_predicted_lasso))"
   ]
  },
  {
   "cell_type": "code",
   "execution_count": 28,
   "metadata": {},
   "outputs": [
    {
     "name": "stdout",
     "output_type": "stream",
     "text": [
      "\n",
      "----------------------------- Test Model Evaluation -----------------------------\n",
      "\n",
      "Mean squared error: 26.79\n",
      "Coefficient of determination r^2 variance score [1 is perfect prediction]: 0.72\n"
     ]
    }
   ],
   "source": [
    "# Add polynomial and bias term with the feature vector using the sklearn PolynomialFeatures class\n",
    "poly_features = PolynomialFeatures(degree=poly_degree, include_bias=False)\n",
    "X_test_poly = poly_features.fit_transform(X_test)\n",
    "\n",
    "\n",
    "print(\"\\n----------------------------- Test Model Evaluation -----------------------------\")\n",
    "\n",
    "# Make prediction \n",
    "y_test_poly_predicted = lin_reg_lasso.predict(X_test_poly)\n",
    "\n",
    "lasso_test_mse = mean_squared_error(y_test, y_test_poly_predicted)\n",
    "\n",
    "print(\"\\nMean squared error: %.2f\" % lasso_test_mse)\n",
    "\n",
    "\n",
    "# Explained variance score: 1 is perfect prediction\n",
    "\n",
    "lasso_test_r2_score = r2_score(y_test, y_test_poly_predicted)\n",
    "print('Coefficient of determination r^2 variance score [1 is perfect prediction]: %.2f' \n",
    "      % lasso_test_r2_score)"
   ]
  },
  {
   "cell_type": "code",
   "execution_count": 29,
   "metadata": {},
   "outputs": [
    {
     "name": "stderr",
     "output_type": "stream",
     "text": [
      "[Parallel(n_jobs=-1)]: Using backend LokyBackend with 16 concurrent workers.\n",
      "[Parallel(n_jobs=-1)]: Done   9 tasks      | elapsed:    0.0s\n"
     ]
    },
    {
     "name": "stdout",
     "output_type": "stream",
     "text": [
      "Fitting 10 folds for each of 1152 candidates, totalling 11520 fits\n"
     ]
    },
    {
     "name": "stderr",
     "output_type": "stream",
     "text": [
      "[Parallel(n_jobs=-1)]: Done 520 tasks      | elapsed:    0.4s\n",
      "[Parallel(n_jobs=-1)]: Done 9324 tasks      | elapsed:    7.1s\n"
     ]
    },
    {
     "name": "stdout",
     "output_type": "stream",
     "text": [
      "Best Score (negative mean squared error): -26.958092\n",
      "Optimal Hyperparameter Values:  {'alpha': 0.01, 'eta0': 0.001, 'l1_ratio': 0.2, 'learning_rate': 'constant', 'loss': 'squared_loss', 'max_iter': 100}\n",
      "\n",
      "\n",
      "Wall time: 9.66 s\n"
     ]
    },
    {
     "name": "stderr",
     "output_type": "stream",
     "text": [
      "[Parallel(n_jobs=-1)]: Done 11520 out of 11520 | elapsed:    9.5s finished\n"
     ]
    }
   ],
   "source": [
    "\n",
    "%%time\n",
    "\n",
    "\n",
    "# The param_grid tells Scikit-Learn to evaluate all combinations of the hyperparameter values\n",
    "param_grid = {'alpha': [0.1, 0.01, 0.001], 'learning_rate': [\"constant\", \"optimal\", \"invscaling\"], \n",
    "              'l1_ratio': [1, 0.5, 0.2, 0], 'max_iter':[100, 400, 1000, 10000],'eta0': [0.01, 0.001],\n",
    "              'loss': ['squared_loss', 'huber', 'epsilon_insensitive', 'squared_epsilon_insensitive']}\n",
    "\n",
    "\n",
    "\n",
    "sgd = SGDRegressor()\n",
    "\n",
    "sgd_cv = GridSearchCV(sgd, param_grid, scoring='neg_mean_squared_error', cv=10, verbose=2, n_jobs=-1)\n",
    "sgd_cv.fit(X_train, y_train)\n",
    "\n",
    "\n",
    "params_optimal_sgd = sgd_cv.best_params_\n",
    "\n",
    "print(\"Best Score (negative mean squared error): %f\" % sgd_cv.best_score_)\n",
    "print(\"Optimal Hyperparameter Values: \", params_optimal_sgd)\n",
    "print(\"\\n\")"
   ]
  },
  {
   "cell_type": "code",
   "execution_count": 30,
   "metadata": {},
   "outputs": [
    {
     "name": "stdout",
     "output_type": "stream",
     "text": [
      "\n",
      "----------------------------- Model Evaluation -----------------------------\n",
      "Mean squared error: 27.07\n",
      "Coefficient of determination r^2 variance score [1 is perfect prediction]: 0.73\n"
     ]
    }
   ],
   "source": [
    "# SGD Regression\n",
    "\n",
    "# Create SGDRegressor linear regression object using the optimal hyperparameter values\n",
    "lin_reg_sgd = SGDRegressor(**params_optimal_sgd)\n",
    "\n",
    "# Train the model\n",
    "lin_reg_sgd.fit(X_train, y_train)\n",
    "\n",
    "\n",
    "print(\"\\n----------------------------- Model Evaluation -----------------------------\")\n",
    "\n",
    "# Make prediction \n",
    "y_train_predicted_sgd = lin_reg_sgd.predict(X_train)\n",
    "\n",
    "\n",
    "print(\"Mean squared error: %.2f\"\n",
    "      % mean_squared_error(y_train, y_train_predicted_sgd))\n",
    "\n",
    "\n",
    "# Explained variance score: 1 is perfect prediction\n",
    "print(\"Coefficient of determination r^2 variance score [1 is perfect prediction]: %.2f\" % r2_score(y_train, y_train_predicted_sgd))"
   ]
  },
  {
   "cell_type": "code",
   "execution_count": 31,
   "metadata": {},
   "outputs": [
    {
     "name": "stdout",
     "output_type": "stream",
     "text": [
      "[-26.51134821 -20.90608873 -29.27874878 -28.62805632 -27.12496999\n",
      " -24.86951706 -30.60540362 -32.69012603 -26.85733324 -25.75875203]\n",
      "Negative Mean Squared Error: -27.32 (+/- 6.19)\n"
     ]
    }
   ],
   "source": [
    "\n",
    "# Scoring Parameter for Regression:\n",
    "# https://scikit-learn.org/stable/modules/model_evaluation.html#scoring-parameter\n",
    "\n",
    "scores = cross_val_score(lin_reg_sgd, X_train, y_train, scoring='neg_mean_squared_error', cv=10)\n",
    "print(scores)\n",
    "\n",
    "print(\"Negative Mean Squared Error: %0.2f (+/- %0.2f)\" % (scores.mean(), scores.std() * 2))"
   ]
  },
  {
   "cell_type": "code",
   "execution_count": 32,
   "metadata": {},
   "outputs": [
    {
     "name": "stdout",
     "output_type": "stream",
     "text": [
      "Mean squared error: 26.90\n",
      "Coefficient of determination r^2 variance score [1 is perfect prediction]: 0.72\n"
     ]
    }
   ],
   "source": [
    "y_test_predicted = lin_reg_sgd.predict(X_test)\n",
    "\n",
    "\n",
    "test_mse_linear = mean_squared_error(y_test, y_test_predicted)\n",
    "\n",
    "print(\"Mean squared error: %.2f\"\n",
    "      % test_mse_linear)\n",
    "\n",
    "\n",
    "# Explained variance score: 1 is perfect prediction\n",
    "test_r2_linear = r2_score(y_test, y_test_predicted)\n",
    "print(\"Coefficient of determination r^2 variance score [1 is perfect prediction]: %.2f\" \n",
    "      % test_r2_linear)"
   ]
  },
  {
   "cell_type": "code",
   "execution_count": 33,
   "metadata": {},
   "outputs": [
    {
     "name": "stdout",
     "output_type": "stream",
     "text": [
      "No. of Original Features:  10\n",
      "No. of Augmented Features:  65\n"
     ]
    }
   ],
   "source": [
    "# Variable that speficies the degree of the polynomial to be added to the feature vector\n",
    "poly_degree = 2\n",
    "\n",
    "\n",
    "# Add polynomial terms with the feature vector using the sklearn PolynomialFeatures class\n",
    "poly_features = PolynomialFeatures(degree=poly_degree, include_bias=False)\n",
    "X_train_poly = poly_features.fit_transform(X_train)\n",
    "\n",
    "\n",
    "print(\"No. of Original Features: \", X_train.shape[1])\n",
    "print(\"No. of Augmented Features: \", X_train_poly.shape[1])"
   ]
  },
  {
   "cell_type": "code",
   "execution_count": 34,
   "metadata": {},
   "outputs": [
    {
     "name": "stderr",
     "output_type": "stream",
     "text": [
      "[Parallel(n_jobs=-1)]: Using backend LokyBackend with 16 concurrent workers.\n",
      "[Parallel(n_jobs=-1)]: Done   9 tasks      | elapsed:    0.0s\n"
     ]
    },
    {
     "name": "stdout",
     "output_type": "stream",
     "text": [
      "Fitting 10 folds for each of 384 candidates, totalling 3840 fits\n"
     ]
    },
    {
     "name": "stderr",
     "output_type": "stream",
     "text": [
      "[Parallel(n_jobs=-1)]: Done 496 tasks      | elapsed:    1.0s\n",
      "[Parallel(n_jobs=-1)]: Done 1651 tasks      | elapsed:   10.9s\n",
      "[Parallel(n_jobs=-1)]: Done 2096 tasks      | elapsed:   16.3s\n",
      "[Parallel(n_jobs=-1)]: Done 3717 tasks      | elapsed:   30.7s\n"
     ]
    },
    {
     "name": "stdout",
     "output_type": "stream",
     "text": [
      "Best Score (negative mean squared error): -22.711784\n",
      "Optimal Hyperparameter Values:  {'alpha': 0.01, 'eta0': 0.001, 'l1_ratio': 0, 'learning_rate': 'invscaling', 'loss': 'squared_loss', 'max_iter': 10000}\n",
      "\n",
      "\n",
      "Wall time: 33.4 s\n"
     ]
    },
    {
     "name": "stderr",
     "output_type": "stream",
     "text": [
      "[Parallel(n_jobs=-1)]: Done 3840 out of 3840 | elapsed:   33.1s finished\n"
     ]
    }
   ],
   "source": [
    "%%time\n",
    "\n",
    "\n",
    "# The param_grid tells Scikit-Learn to evaluate all combinations of the hyperparameter values\n",
    "# param_grid = {'alpha': [0.1, 0.01], 'learning_rate': [\"invscaling\"], \n",
    "#               'l1_ratio': [1, 0.5, 0.2, 0], 'max_iter':[100, 400, 1000, 5000],'eta0': [0.01, 0.001, 0.0001]}\n",
    "\n",
    "\n",
    "param_grid = {'alpha': [0.1, 0.01], 'learning_rate': [\"invscaling\"], \n",
    "              'l1_ratio': [1, 0.5, 0.2, 0], 'max_iter':[100, 400, 1000, 10000],'eta0': [0.01, 0.001, 0.0001],\n",
    "              'loss': ['squared_loss', 'huber', 'epsilon_insensitive', 'squared_epsilon_insensitive']}\n",
    "\n",
    "\n",
    "\n",
    "sgd = SGDRegressor()\n",
    "\n",
    "sgd_cv = GridSearchCV(sgd, param_grid, scoring='neg_mean_squared_error', cv=10, verbose=2, n_jobs=-1)\n",
    "sgd_cv.fit(X_train_poly, y_train)\n",
    "\n",
    "\n",
    "params_optimal_sgd = sgd_cv.best_params_\n",
    "\n",
    "print(\"Best Score (negative mean squared error): %f\" % sgd_cv.best_score_)\n",
    "print(\"Optimal Hyperparameter Values: \", params_optimal_sgd)\n",
    "print(\"\\n\")"
   ]
  },
  {
   "cell_type": "code",
   "execution_count": 35,
   "metadata": {},
   "outputs": [
    {
     "name": "stdout",
     "output_type": "stream",
     "text": [
      "Number of Iterations: \n",
      " 104\n",
      "\n",
      "----------------------------- Model Evaluation -----------------------------\n",
      "Mean squared error: 20.98\n",
      "Coefficient of determination r^2 variance score [1 is perfect prediction]: 0.79\n"
     ]
    }
   ],
   "source": [
    "\n",
    "# SGD Regression\n",
    "\n",
    "# Create SGDRegressor linear regression object using the optimal hyperparameter values\n",
    "lin_reg_sgd = SGDRegressor(**params_optimal_sgd)\n",
    "\n",
    "# Train the model\n",
    "lin_reg_sgd.fit(X_train_poly, y_train)\n",
    "\n",
    "\n",
    "# # The intercept\n",
    "# print(\"Intercept: \\n\", lin_reg_sgd.intercept_)\n",
    "\n",
    "# # The coefficients\n",
    "# print(\"Coefficients: \\n\", lin_reg_sgd.coef_)\n",
    "\n",
    "# The number of iterations\n",
    "print(\"Number of Iterations: \\n\", lin_reg_sgd.n_iter_)\n",
    "\n",
    "\n",
    "print(\"\\n----------------------------- Model Evaluation -----------------------------\")\n",
    "\n",
    "# Make prediction \n",
    "y_train_predicted_sgd = lin_reg_sgd.predict(X_train_poly)\n",
    "\n",
    "\n",
    "print(\"Mean squared error: %.2f\"\n",
    "      % mean_squared_error(y_train, y_train_predicted_sgd))\n",
    "\n",
    "\n",
    "# Explained variance score: 1 is perfect prediction\n",
    "print(\"Coefficient of determination r^2 variance score [1 is perfect prediction]: %.2f\" % r2_score(y_train, y_train_predicted_sgd))"
   ]
  },
  {
   "cell_type": "code",
   "execution_count": 36,
   "metadata": {},
   "outputs": [
    {
     "name": "stdout",
     "output_type": "stream",
     "text": [
      "Mean squared error: 33.44\n",
      "Coefficient of determination r^2 variance score [1 is perfect prediction]: 0.66\n"
     ]
    }
   ],
   "source": [
    "poly_features = PolynomialFeatures(degree=poly_degree, include_bias=False)\n",
    "X_test_poly = poly_features.fit_transform(X_test)\n",
    "\n",
    "# Make prediction using the test data\n",
    "y_test_predicted = lin_reg_sgd.predict(X_test_poly)\n",
    "\n",
    "test_mse_polynomial = mean_squared_error(y_test, y_test_predicted)\n",
    "\n",
    "print(\"Mean squared error: %.2f\"\n",
    "      % test_mse_polynomial)\n",
    "\n",
    "\n",
    "\n",
    "# Explained variance score: 1 is perfect prediction\n",
    "\n",
    "test_r2_polynomial = r2_score(y_test, y_test_predicted)\n",
    "print(\"Coefficient of determination r^2 variance score [1 is perfect prediction]: %.2f\" \n",
    "      % test_r2_polynomial)"
   ]
  },
  {
   "cell_type": "code",
   "execution_count": 37,
   "metadata": {},
   "outputs": [
    {
     "data": {
      "text/html": [
       "<div>\n",
       "<style scoped>\n",
       "    .dataframe tbody tr th:only-of-type {\n",
       "        vertical-align: middle;\n",
       "    }\n",
       "\n",
       "    .dataframe tbody tr th {\n",
       "        vertical-align: top;\n",
       "    }\n",
       "\n",
       "    .dataframe thead th {\n",
       "        text-align: right;\n",
       "    }\n",
       "</style>\n",
       "<table border=\"1\" class=\"dataframe\">\n",
       "  <thead>\n",
       "    <tr style=\"text-align: right;\">\n",
       "      <th></th>\n",
       "      <th>Metric</th>\n",
       "      <th>SGD Linear Regression</th>\n",
       "      <th>SGD Polynomial Regression (degree 2)</th>\n",
       "    </tr>\n",
       "  </thead>\n",
       "  <tbody>\n",
       "    <tr>\n",
       "      <th>0</th>\n",
       "      <td>MSE (test)</td>\n",
       "      <td>26.904468</td>\n",
       "      <td>33.439153</td>\n",
       "    </tr>\n",
       "    <tr>\n",
       "      <th>1</th>\n",
       "      <td>R2 Score (test)</td>\n",
       "      <td>0.722664</td>\n",
       "      <td>0.655304</td>\n",
       "    </tr>\n",
       "  </tbody>\n",
       "</table>\n",
       "</div>"
      ],
      "text/plain": [
       "            Metric  SGD Linear Regression  \\\n",
       "0       MSE (test)              26.904468   \n",
       "1  R2 Score (test)               0.722664   \n",
       "\n",
       "   SGD Polynomial Regression (degree 2)  \n",
       "0                             33.439153  \n",
       "1                              0.655304  "
      ]
     },
     "execution_count": 37,
     "metadata": {},
     "output_type": "execute_result"
    }
   ],
   "source": [
    "data = [[\"MSE (test)\", test_mse_linear, test_mse_polynomial], \n",
    "        [\"R2 Score (test)\", test_r2_linear, test_r2_polynomial]]\n",
    "pd.DataFrame(data, columns=[\"Metric\", \"SGD Linear Regression\", \"SGD Polynomial Regression (degree 2)\"])"
   ]
  },
  {
   "cell_type": "code",
   "execution_count": 38,
   "metadata": {},
   "outputs": [],
   "source": [
    "poly_features = PolynomialFeatures(degree=2, include_bias=False)\n",
    "X_train_poly = poly_features.fit_transform(X_train)"
   ]
  },
  {
   "cell_type": "code",
   "execution_count": 39,
   "metadata": {},
   "outputs": [
    {
     "data": {
      "image/png": "[encoded data removed]",
      "text/plain": [
       "<Figure size 720x432 with 1 Axes>"
      ]
     },
     "metadata": {
      "needs_background": "light"
     },
     "output_type": "display_data"
    }
   ],
   "source": [
    "# Create CV training and validation scores for various training set sizes\n",
    "train_sizes, train_scores, val_scores = learning_curve(Ridge(alpha=0.94, solver='sparse_cg'), X_train_poly, y_train, cv=5, \n",
    "                                                        scoring='neg_mean_squared_error', \n",
    "                                                        train_sizes=np.linspace(0.01, 1.0, 50),\n",
    "                                                        n_jobs=-1)\n",
    "                                                \n",
    "                                                                                                                                                                                                                 \n",
    "# Create means and standard deviations of training set scores\n",
    "train_mean = np.mean(train_scores, axis=1)\n",
    "train_std = np.std(train_scores, axis=1)\n",
    "\n",
    "# Create means and standard deviations of validation set scores\n",
    "val_mean = np.mean(val_scores, axis=1)\n",
    "val_std = np.std(val_scores, axis=1)\n",
    "\n",
    "\n",
    "plt.figure(figsize=(10, 6))\n",
    "plt.plot(train_sizes, train_mean, \"r-+\", linewidth=3, label=\"Training Score\")\n",
    "plt.plot(train_sizes, val_mean, \"b-\", linewidth=2, label=\"Cross-validation Score\")\n",
    "plt.legend(loc=\"best\", fontsize=14)   \n",
    "plt.xlabel(\"Training set size\", fontsize=14) \n",
    "plt.ylabel(\"Negative MSE\", fontsize=14) \n",
    "plt.title(\"Learning Curve (Linear Model)\")\n",
    "plt.show()"
   ]
  },
  {
   "cell_type": "markdown",
   "metadata": {},
   "source": [
    "### High bias problem More advanced model needed \n"
   ]
  },
  {
   "cell_type": "markdown",
   "metadata": {},
   "source": [
    "### SVM(RBF kernel) and Random Forrest"
   ]
  },
  {
   "cell_type": "code",
   "execution_count": 40,
   "metadata": {},
   "outputs": [
    {
     "name": "stdout",
     "output_type": "stream",
     "text": [
      "Fitting 10 folds for each of 24 candidates, totalling 240 fits\n"
     ]
    },
    {
     "name": "stderr",
     "output_type": "stream",
     "text": [
      "[Parallel(n_jobs=-1)]: Using backend LokyBackend with 16 concurrent workers.\n",
      "[Parallel(n_jobs=-1)]: Done   9 tasks      | elapsed:    0.6s\n",
      "[Parallel(n_jobs=-1)]: Done 130 tasks      | elapsed:   12.8s\n",
      "[Parallel(n_jobs=-1)]: Done 240 out of 240 | elapsed:  3.8min finished\n"
     ]
    },
    {
     "name": "stdout",
     "output_type": "stream",
     "text": [
      "Best Score (negative mean squared error): -21.186922\n",
      "Optimal Hyperparameter Values:  {'C': 100, 'gamma': 0.001}\n",
      "\n",
      "\n"
     ]
    }
   ],
   "source": [
    "param_grid = {'gamma': [0.000001, 0.0001, 0.001, 0.01, 0.1, 1], \n",
    "              'C': [10, 100, 1000, 10000]}\n",
    "\n",
    "\n",
    "\n",
    "svm = SVR(kernel=\"rbf\")\n",
    "\n",
    "svm_cv = GridSearchCV(svm, param_grid, scoring='neg_mean_squared_error', cv=10, verbose=2, n_jobs=-1)\n",
    "svm_cv.fit(X, y)\n",
    "\n",
    "\n",
    "params_optimal = svm_cv.best_params_\n",
    "\n",
    "print(\"Best Score (negative mean squared error): %f\" % svm_cv.best_score_)\n",
    "print(\"Optimal Hyperparameter Values: \", params_optimal)\n",
    "print(\"\\n\")"
   ]
  },
  {
   "cell_type": "code",
   "execution_count": 41,
   "metadata": {},
   "outputs": [
    {
     "name": "stdout",
     "output_type": "stream",
     "text": [
      "\n",
      "----------------------------- Model Evaluation -----------------------------\n",
      "Train: Mean squared error: 25.21\n",
      "Train: Coefficient of determination r^2 variance score [1 is perfect prediction]: 0.75\n",
      "\n",
      "Test: Mean squared error: 25.76\n",
      "Test: Coefficient of determination r^2 variance score [1 is perfect prediction]: 0.73\n"
     ]
    }
   ],
   "source": [
    "svm = SVR(kernel=\"rbf\", **params_optimal)\n",
    "svm.fit(X_train, y_train)\n",
    "\n",
    "print(\"\\n----------------------------- Model Evaluation -----------------------------\")\n",
    "\n",
    "# Make prediction \n",
    "y_train_predicted_svm = svm.predict(X_train)\n",
    "\n",
    "\n",
    "print(\"Train: Mean squared error: %.2f\"\n",
    "      % mean_squared_error(y_train, y_train_predicted_svm))\n",
    "\n",
    "\n",
    "# Explained variance score: 1 is perfect prediction\n",
    "print(\"Train: Coefficient of determination r^2 variance score [1 is perfect prediction]: %.2f\" % r2_score(y_train, y_train_predicted_svm))\n",
    "\n",
    "\n",
    "# Make prediction using the test data\n",
    "y_test_predicted_svm = svm.predict(X_test)\n",
    "\n",
    "test_mse_svm = mean_squared_error(y_test, y_test_predicted_svm)\n",
    "\n",
    "print(\"\\nTest: Mean squared error: %.2f\"\n",
    "      % test_mse_svm)\n",
    "\n",
    "\n",
    "\n",
    "# Explained variance score: 1 is perfect prediction\n",
    "\n",
    "test_r2_svm = r2_score(y_test, y_test_predicted_svm)\n",
    "print(\"Test: Coefficient of determination r^2 variance score [1 is perfect prediction]: %.2f\" \n",
    "      % test_r2_svm)"
   ]
  },
  {
   "cell_type": "code",
   "execution_count": null,
   "metadata": {},
   "outputs": [],
   "source": []
  },
  {
   "cell_type": "code",
   "execution_count": 42,
   "metadata": {},
   "outputs": [],
   "source": [
    "# Number of trees in random forest\n",
    "n_estimators = [int(x) for x in np.linspace(start = 200, stop = 2000, num = 10)]\n",
    "# Number of features to consider at every split\n",
    "max_features = ['auto', 'sqrt']\n",
    "# Maximum number of levels in tree\n",
    "max_depth = [int(x) for x in np.linspace(10, 110, num = 11)]\n",
    "max_depth.append(None)\n",
    "\n",
    "# Create the random grid\n",
    "param_grid = {'n_estimators': n_estimators,\n",
    "               'max_features': max_features,\n",
    "               'max_depth': max_depth}"
   ]
  },
  {
   "cell_type": "code",
   "execution_count": null,
   "metadata": {},
   "outputs": [],
   "source": []
  },
  {
   "cell_type": "code",
   "execution_count": 43,
   "metadata": {},
   "outputs": [
    {
     "name": "stdout",
     "output_type": "stream",
     "text": [
      "Fitting 5 folds for each of 240 candidates, totalling 1200 fits\n"
     ]
    },
    {
     "name": "stderr",
     "output_type": "stream",
     "text": [
      "[Parallel(n_jobs=-1)]: Using backend LokyBackend with 16 concurrent workers.\n",
      "[Parallel(n_jobs=-1)]: Done   9 tasks      | elapsed:    3.4s\n",
      "[Parallel(n_jobs=-1)]: Done 130 tasks      | elapsed:  1.0min\n",
      "[Parallel(n_jobs=-1)]: Done 333 tasks      | elapsed:  3.1min\n",
      "[Parallel(n_jobs=-1)]: Done 616 tasks      | elapsed:  5.8min\n",
      "[Parallel(n_jobs=-1)]: Done 981 tasks      | elapsed:  9.5min\n",
      "[Parallel(n_jobs=-1)]: Done 1200 out of 1200 | elapsed: 11.7min finished\n"
     ]
    },
    {
     "name": "stdout",
     "output_type": "stream",
     "text": [
      "Best Score (accuracy): -21.063908\n",
      "Optimal Hyperparameter Values:  {'max_depth': 110, 'max_features': 'sqrt', 'n_estimators': 600}\n",
      "\n",
      "\n",
      "Wall time: 11min 44s\n"
     ]
    }
   ],
   "source": [
    "%%time\n",
    "rnd_forest_reg = RandomForestRegressor()\n",
    "\n",
    "dt_clf_cv = GridSearchCV(rnd_forest_reg, param_grid, scoring='neg_mean_squared_error', cv=5, verbose=2, n_jobs=-1)\n",
    "dt_clf_cv.fit(X_train, y_train)\n",
    "\n",
    "params_optimal = dt_clf_cv.best_params_\n",
    "\n",
    "print(\"Best Score (accuracy): %f\" % dt_clf_cv.best_score_)\n",
    "print(\"Optimal Hyperparameter Values: \", params_optimal)\n",
    "print(\"\\n\")"
   ]
  },
  {
   "cell_type": "code",
   "execution_count": null,
   "metadata": {},
   "outputs": [],
   "source": []
  },
  {
   "cell_type": "code",
   "execution_count": 44,
   "metadata": {},
   "outputs": [],
   "source": [
    " params_optimal = {'max_depth': 10, 'max_features': 'auto', 'n_estimators': 1800}"
   ]
  },
  {
   "cell_type": "code",
   "execution_count": 45,
   "metadata": {
    "scrolled": false
   },
   "outputs": [
    {
     "name": "stderr",
     "output_type": "stream",
     "text": [
      "[Parallel(n_jobs=-1)]: Using backend ThreadingBackend with 16 concurrent workers.\n",
      "[Parallel(n_jobs=-1)]: Done  18 tasks      | elapsed:    0.0s\n",
      "[Parallel(n_jobs=-1)]: Done 168 tasks      | elapsed:    0.1s\n",
      "[Parallel(n_jobs=-1)]: Done 418 tasks      | elapsed:    0.4s\n",
      "[Parallel(n_jobs=-1)]: Done 768 tasks      | elapsed:    0.9s\n",
      "[Parallel(n_jobs=-1)]: Done 1218 tasks      | elapsed:    1.4s\n",
      "[Parallel(n_jobs=-1)]: Done 1768 tasks      | elapsed:    2.1s\n",
      "[Parallel(n_jobs=-1)]: Done 1800 out of 1800 | elapsed:    2.1s finished\n",
      "[Parallel(n_jobs=16)]: Using backend ThreadingBackend with 16 concurrent workers.\n",
      "[Parallel(n_jobs=16)]: Done  18 tasks      | elapsed:    0.0s\n",
      "[Parallel(n_jobs=16)]: Done 168 tasks      | elapsed:    0.0s\n",
      "[Parallel(n_jobs=16)]: Done 418 tasks      | elapsed:    0.0s\n",
      "[Parallel(n_jobs=16)]: Done 768 tasks      | elapsed:    0.0s\n",
      "[Parallel(n_jobs=16)]: Done 1218 tasks      | elapsed:    0.0s\n",
      "[Parallel(n_jobs=16)]: Done 1768 tasks      | elapsed:    0.1s\n",
      "[Parallel(n_jobs=16)]: Done 1800 out of 1800 | elapsed:    0.1s finished\n",
      "[Parallel(n_jobs=16)]: Using backend ThreadingBackend with 16 concurrent workers.\n",
      "[Parallel(n_jobs=16)]: Done  18 tasks      | elapsed:    0.0s\n",
      "[Parallel(n_jobs=16)]: Done 168 tasks      | elapsed:    0.0s\n",
      "[Parallel(n_jobs=16)]: Done 418 tasks      | elapsed:    0.0s\n",
      "[Parallel(n_jobs=16)]: Done 768 tasks      | elapsed:    0.0s\n",
      "[Parallel(n_jobs=16)]: Done 1218 tasks      | elapsed:    0.0s\n",
      "[Parallel(n_jobs=16)]: Done 1768 tasks      | elapsed:    0.1s\n"
     ]
    },
    {
     "name": "stdout",
     "output_type": "stream",
     "text": [
      "Train: Mean squared error: 7.33\n",
      "Train: Coefficient of determination r^2 variance score [1 is perfect prediction]: 0.93\n",
      "Test: Mean squared error: 23.21\n",
      "Test: Coefficient of determination r^2 variance score [1 is perfect prediction]: 0.76\n"
     ]
    },
    {
     "name": "stderr",
     "output_type": "stream",
     "text": [
      "[Parallel(n_jobs=16)]: Done 1800 out of 1800 | elapsed:    0.1s finished\n"
     ]
    }
   ],
   "source": [
    "\n",
    "\n",
    "\n",
    "rnd_forest_reg = RandomForestRegressor(**params_optimal,criterion=\"mse\"\n",
    "                                       ,verbose=1,\n",
    "                                       oob_score=True, n_jobs=-1)\n",
    "\n",
    "rnd_forest_reg.fit(X_train, y_train)\n",
    "\n",
    "\n",
    "# Make prediction \n",
    "y_train_predicted_rnd_forest = rnd_forest_reg.predict(X_train)\n",
    "\n",
    "\n",
    "train_mse_rnd_forest = mean_squared_error(y_train, y_train_predicted_rnd_forest)\n",
    "\n",
    "print(\"Train: Mean squared error: %.2f\"\n",
    "      % train_mse_rnd_forest)\n",
    "\n",
    "\n",
    "# Explained variance score: 1 is perfect prediction\n",
    "print(\"Train: Coefficient of determination r^2 variance score [1 is perfect prediction]: %.2f\" \n",
    "      % r2_score(y_train, y_train_predicted_rnd_forest))\n",
    "\n",
    "\n",
    "\n",
    "\n",
    "y_test_predicted_rnd_forest = rnd_forest_reg.predict(X_test)\n",
    "\n",
    "\n",
    "test_mse_rnd_forest = mean_squared_error(y_test, y_test_predicted_rnd_forest)\n",
    "\n",
    "print(\"Test: Mean squared error: %.2f\"\n",
    "      % test_mse_rnd_forest)\n",
    "\n",
    "\n",
    "# Explained variance score: 1 is perfect prediction\n",
    "\n",
    "test_r2_rnd_forest = r2_score(y_test, y_test_predicted_rnd_forest)\n",
    "\n",
    "\n",
    "print(\"Test: Coefficient of determination r^2 variance score [1 is perfect prediction]: %.2f\" \n",
    "      % test_r2_rnd_forest)"
   ]
  },
  {
   "cell_type": "code",
   "execution_count": 46,
   "metadata": {},
   "outputs": [
    {
     "data": {
      "image/png": "[encoded data removed]",
      "text/plain": [
       "<Figure size 720x432 with 1 Axes>"
      ]
     },
     "metadata": {
      "needs_background": "light"
     },
     "output_type": "display_data"
    }
   ],
   "source": [
    "# Create CV training and validation scores for various training set sizes\n",
    "train_sizes, train_scores, val_scores = learning_curve(RandomForestRegressor(**params_optimal,criterion=\"mse\"\n",
    "                                       ,verbose=1,\n",
    "                                       oob_score=True, n_jobs=-1), X_train, y_train, cv=5, \n",
    "                                                        scoring='neg_mean_squared_error', \n",
    "                                                        train_sizes=np.linspace(0.01, 1.0, 50),\n",
    "                                                        n_jobs=-1)\n",
    "                                                \n",
    "                                                                                                                                                                                                                 \n",
    "# Create means and standard deviations of training set scores\n",
    "train_mean = np.mean(train_scores, axis=1)\n",
    "train_std = np.std(train_scores, axis=1)\n",
    "\n",
    "# Create means and standard deviations of validation set scores\n",
    "val_mean = np.mean(val_scores, axis=1)\n",
    "val_std = np.std(val_scores, axis=1)\n",
    "\n",
    "\n",
    "plt.figure(figsize=(10, 6))\n",
    "plt.plot(train_sizes, train_mean, \"r-+\", linewidth=3, label=\"Training Score\")\n",
    "plt.plot(train_sizes, val_mean, \"b-\", linewidth=2, label=\"Cross-validation Score\")\n",
    "plt.legend(loc=\"best\", fontsize=14)   \n",
    "plt.xlabel(\"Training set size\", fontsize=14) \n",
    "plt.ylabel(\"Negative MSE\", fontsize=14) \n",
    "plt.title(\"Learning Curve (Linear Model)\")\n",
    "plt.show()"
   ]
  },
  {
   "cell_type": "markdown",
   "metadata": {},
   "source": [
    "## Need More DATA\n"
   ]
  },
  {
   "cell_type": "code",
   "execution_count": 47,
   "metadata": {},
   "outputs": [
    {
     "name": "stderr",
     "output_type": "stream",
     "text": [
      "[Parallel(n_jobs=-1)]: Using backend ThreadingBackend with 16 concurrent workers.\n",
      "[Parallel(n_jobs=-1)]: Done  18 tasks      | elapsed:    0.0s\n",
      "[Parallel(n_jobs=-1)]: Done 168 tasks      | elapsed:    0.1s\n",
      "[Parallel(n_jobs=-1)]: Done 418 tasks      | elapsed:    0.4s\n",
      "[Parallel(n_jobs=-1)]: Done 768 tasks      | elapsed:    0.9s\n",
      "[Parallel(n_jobs=-1)]: Done 1218 tasks      | elapsed:    1.4s\n",
      "[Parallel(n_jobs=-1)]: Done 1768 tasks      | elapsed:    2.1s\n",
      "[Parallel(n_jobs=-1)]: Done 1800 out of 1800 | elapsed:    2.1s finished\n",
      "[Parallel(n_jobs=16)]: Using backend ThreadingBackend with 16 concurrent workers.\n",
      "[Parallel(n_jobs=16)]: Done  18 tasks      | elapsed:    0.0s\n",
      "[Parallel(n_jobs=16)]: Done 168 tasks      | elapsed:    0.0s\n",
      "[Parallel(n_jobs=16)]: Done 418 tasks      | elapsed:    0.0s\n",
      "[Parallel(n_jobs=16)]: Done 768 tasks      | elapsed:    0.0s\n",
      "[Parallel(n_jobs=16)]: Done 1218 tasks      | elapsed:    0.0s\n",
      "[Parallel(n_jobs=16)]: Done 1768 tasks      | elapsed:    0.1s\n",
      "[Parallel(n_jobs=16)]: Done 1800 out of 1800 | elapsed:    0.1s finished\n",
      "[Parallel(n_jobs=16)]: Using backend ThreadingBackend with 16 concurrent workers.\n",
      "[Parallel(n_jobs=16)]: Done  18 tasks      | elapsed:    0.0s\n",
      "[Parallel(n_jobs=16)]: Done 168 tasks      | elapsed:    0.0s\n",
      "[Parallel(n_jobs=16)]: Done 418 tasks      | elapsed:    0.0s\n",
      "[Parallel(n_jobs=16)]: Done 768 tasks      | elapsed:    0.0s\n",
      "[Parallel(n_jobs=16)]: Done 1218 tasks      | elapsed:    0.0s\n",
      "[Parallel(n_jobs=16)]: Done 1768 tasks      | elapsed:    0.1s\n"
     ]
    },
    {
     "name": "stdout",
     "output_type": "stream",
     "text": [
      "Train: Mean squared error: 7.36\n",
      "Train: Coefficient of determination r^2 variance score [1 is perfect prediction]: 0.93\n",
      "Test: Mean squared error: 23.17\n",
      "Test: Coefficient of determination r^2 variance score [1 is perfect prediction]: 0.76\n"
     ]
    },
    {
     "name": "stderr",
     "output_type": "stream",
     "text": [
      "[Parallel(n_jobs=16)]: Done 1800 out of 1800 | elapsed:    0.1s finished\n"
     ]
    }
   ],
   "source": [
    "\n",
    "\n",
    "\n",
    "rnd_forest_reg = RandomForestRegressor(**params_optimal,criterion=\"mse\"\n",
    "                                       ,verbose=1,\n",
    "                                       oob_score=True, n_jobs=-1)\n",
    "\n",
    "rnd_forest_reg.fit(X_train, y_train)\n",
    "\n",
    "\n",
    "# Make prediction \n",
    "y_train_predicted_rnd_forest = rnd_forest_reg.predict(X_train)\n",
    "\n",
    "\n",
    "train_mse_rnd_forest = mean_squared_error(y_train, y_train_predicted_rnd_forest)\n",
    "\n",
    "print(\"Train: Mean squared error: %.2f\"\n",
    "      % train_mse_rnd_forest)\n",
    "\n",
    "\n",
    "# Explained variance score: 1 is perfect prediction\n",
    "print(\"Train: Coefficient of determination r^2 variance score [1 is perfect prediction]: %.2f\" \n",
    "      % r2_score(y_train, y_train_predicted_rnd_forest))\n",
    "\n",
    "\n",
    "\n",
    "\n",
    "y_test_predicted_rnd_forest = rnd_forest_reg.predict(X_test)\n",
    "\n",
    "\n",
    "test_mse_rnd_forest = mean_squared_error(y_test, y_test_predicted_rnd_forest)\n",
    "\n",
    "print(\"Test: Mean squared error: %.2f\"\n",
    "      % test_mse_rnd_forest)\n",
    "\n",
    "\n",
    "# Explained variance score: 1 is perfect prediction\n",
    "\n",
    "test_r2_rnd_forest = r2_score(y_test, y_test_predicted_rnd_forest)\n",
    "\n",
    "\n",
    "print(\"Test: Coefficient of determination r^2 variance score [1 is perfect prediction]: %.2f\" \n",
    "      % test_r2_rnd_forest)"
   ]
  },
  {
   "cell_type": "code",
   "execution_count": 48,
   "metadata": {},
   "outputs": [
    {
     "data": {
      "text/plain": [
       "array([ 4,  1, 38,  1,  7, 29, 15, 18, 26,  2,  7, 12,  7, 46,  8, 26,  4,\n",
       "        1,  5, 12,  6,  2, 16,  9,  7,  3, 23,  6, 15, 24,  4,  2, 18, 52,\n",
       "        3, 20, 17,  2, 13, 10,  0,  9, 34,  6,  4,  0,  4,  3,  5, 11,  3,\n",
       "       22,  2,  2, 19,  6,  1, 14, 17, 17,  6,  0,  6, 15, 17,  1,  6,  5,\n",
       "       11, 18, 17, 34, 49, 10,  1,  3, 17, 52,  3,  2,  5,  1,  1,  5,  0,\n",
       "        6,  5, 17, 16,  4, 25, 19, 18, 29, 19,  9, 24,  7, 41, 11,  3,  2,\n",
       "        4,  3,  2, 18,  3, 24,  3, 14,  8, 13,  1,  9,  7, 15,  2,  6,  1,\n",
       "        3,  6, 11,  9,  1,  2, 18, 10,  1, 23,  1, 17,  1,  0,  7, 12, 21,\n",
       "       34, 11, 20,  3, 14,  1, 10,  4,  8,  3, 21,  3, 31,  0, 11, 12,  9,\n",
       "        5,  4, 19,  9,  0,  1,  2,  3, 25, 13,  2, 13,  0,  3,  4,  3, 19,\n",
       "       20,  7, 19, 11,  7, 22,  0, 45, 23, 16,  0,  8,  3,  7,  6, 21, 20,\n",
       "        0, 12,  2,  4, 24,  2, 13,  2, 14, 28,  4,  3,  6,  3, 15, 19, 13,\n",
       "       15,  1,  7,  7,  2,  1,  1, 20,  6, 48, 15, 16,  7, 17, 20, 17, 14,\n",
       "        4, 10,  1,  6, 15,  9, 33,  9,  5, 21,  5, 17, 18, 14, 15,  2,  0,\n",
       "       20, 17, 12,  7,  9,  1,  4,  9, 15, 13,  7,  6,  2,  6,  5,  0,  1,\n",
       "        1,  7, 16, 21,  1, 23,  8,  2,  6,  3,  2,  7,  9, 13,  0,  4,  6,\n",
       "        6,  5, 17,  1, 20,  2, 11,  3,  4,  6,  9,  9, 42,  0, 44,  1,  0,\n",
       "       15,  4,  7, 21,  0, 24,  8,  9,  9, 15,  4,  8,  8,  1, 12,  7,  5,\n",
       "       21,  1,  2, 11,  7,  3,  1,  4,  1, 18,  2,  0,  5, 44, 11, 17,  0,\n",
       "        5,  4,  3,  7, 10,  6,  4, 36, 20, 12, 19, 25,  2,  4,  9, 10, 12,\n",
       "       13, 14, 11,  8,  3,  7, 20,  4,  1,  2,  2,  9, 18,  4,  4, 30, 26,\n",
       "        1, 19, 10,  1, 23,  5,  1,  8,  9, 20,  8,  3,  5,  1,  4, 10,  4,\n",
       "        3,  8,  8, 10, 14, 10, 10,  1,  5,  1,  0,  3, 14, 13,  4, 22,  9,\n",
       "       15, 12, 18, 38, 34, 17,  9,  4, 15, 21, 16, 30, 10,  1,  2,  3,  4,\n",
       "        5, 14,  9, 14, 17,  4, 13,  2,  3,  2,  0, 17,  1, 11, 27,  3,  8,\n",
       "       25,  4,  9, 13,  5,  6,  2, 16, 22, 11, 22,  9, 53,  5, 27, 19,  5,\n",
       "        1, 10, 16, 23,  3,  2, 16,  3,  6, 18,  3,  2,  2,  9,  5, 10,  0,\n",
       "       15,  8,  6,  5,  1,  7,  5,  3, 10,  3, 18,  0, 20,  3, 12, 16,  4,\n",
       "        1, 30,  4,  7,  8,  3,  9, 13, 17,  7,  3, 27,  7,  5,  7,  0,  0,\n",
       "       29,  9, 17,  2, 21, 10,  3, 13, 16,  1,  4,  8, 16,  1,  3,  2, 16,\n",
       "       14, 37,  1,  0,  5,  9, 23,  3, 15,  3,  5,  9, 10,  3, 31, 17,  9,\n",
       "        4, 35, 26, 15, 23, 17,  7,  5, 26,  2,  3,  1, 24,  2, 16,  2, 17,\n",
       "       14, 17,  4, 24, 22,  2, 16, 13,  2, 19, 17, 10,  7,  0, 50, 49,  6,\n",
       "       12, 49,  4,  2,  3,  1, 13, 16,  1,  2,  5, 15,  2, 17,  2, 15, 10,\n",
       "        9,  0,  8,  1,  4,  2,  2,  5, 11, 11,  1,  2, 17, 17,  1, 15,  3,\n",
       "        1,  1,  0, 22,  2, 37,  1,  3,  9, 10,  9,  5, 19, 12,  2, 11,  4,\n",
       "        6, 18, 17,  1,  3,  4,  6,  0,  2, 12,  0, 46,  6, 21,  9, 18,  5,\n",
       "        8, 35,  1,  6, 10, 16,  1,  5,  6, 18, 16,  2, 12, 13,  0, 16,  0,\n",
       "       15, 21, 55,  1,  0, 19,  1, 27, 15,  7, 11, 12,  3,  1,  1,  9,  6,\n",
       "        4,  6,  3, 12,  2, 14, 13,  6, 14, 10, 11,  1, 34, 10,  2, 20, 16,\n",
       "        3,  7,  0, 10, 11, 18,  3, 16,  7, 29, 12,  1,  9,  5, 30, 27, 21,\n",
       "        2, 18, 10,  6,  6, 20, 16, 19, 16, 10,  4,  3, 17, 25, 19, 16,  5,\n",
       "       21,  3,  2,  6, 10, 29,  4,  2, 12,  6,  0, 11,  5,  3,  2,  0,  5,\n",
       "       51, 33,  0,  5,  3,  5,  4,  9,  9,  3,  5,  6, 17, 10, 17, 16, 25,\n",
       "       18,  8,  8, 17,  3, 22,  7,  6, 14,  2, 20,  1,  8, 15,  3,  5,  7,\n",
       "        2,  4,  0,  2,  3, 18,  6,  3, 17,  1,  0, 17,  4,  1,  5,  2, 28,\n",
       "        3,  8, 34, 10, 21, 30,  1, 31,  4, 13,  9,  2,  6, 10,  4,  2, 16,\n",
       "        4,  6, 10,  9, 16,  7,  1,  8, 25, 14,  1, 17, 11, 52, 20,  6,  3,\n",
       "       12,  9, 28,  7, 16,  3, 11, 23, 16,  2,  4,  3,  9,  8,  5,  9, 16,\n",
       "       11,  2,  4], dtype=int64)"
      ]
     },
     "execution_count": 48,
     "metadata": {},
     "output_type": "execute_result"
    }
   ],
   "source": [
    "y_test"
   ]
  },
  {
   "cell_type": "code",
   "execution_count": 49,
   "metadata": {},
   "outputs": [
    {
     "data": {
      "text/plain": [
       "array([ 6,  1, 24,  3,  5, 17, 13,  7, 13,  7, 12, 10,  5, 45, 10, 16,  6,\n",
       "        6,  5, 10, 10,  6, 16,  7,  4,  3, 18,  9,  9, 20,  9,  5, 15, 53,\n",
       "        3, 17, 17,  4, 14, 11,  1,  7, 14,  8,  2,  3,  4,  7,  5,  3,  2,\n",
       "       16,  3,  5, 16, 10,  2, 17, 16,  9,  7,  2, 10, 16, 16,  2,  4,  3,\n",
       "       10, 15, 18, 29, 45,  9,  2,  4, 17, 39,  2,  5,  5,  2,  3,  4,  2,\n",
       "        9,  2, 16, 16,  7, 17, 15, 18, 27, 12, 10, 18,  9, 52, 11,  5,  5,\n",
       "        4,  2,  1, 16,  1, 11, 10, 16,  8,  6,  2,  8,  1, 13,  2,  4,  1,\n",
       "        4,  4,  6,  3,  2,  2, 16,  8,  3, 17, 13, 17,  1,  2, 11,  8, 20,\n",
       "       29,  5, 10,  3, 17,  1,  7, 13,  6,  2, 16,  7, 16,  4, 11,  8,  6,\n",
       "        7,  1, 17,  8,  1,  2, 13,  1, 32, 16,  5,  3,  1,  6,  9,  5, 11,\n",
       "       17, 11, 14, 14,  8, 19,  1, 44, 33, 21,  2, 12,  3,  2,  5, 16, 16,\n",
       "        3, 13,  2,  3, 18,  2,  9,  2, 12, 19,  7,  2,  4,  2, 13, 16,  9,\n",
       "       13,  3,  9,  8,  1,  5, 22, 26,  5, 43, 16, 17, 13, 17, 12, 11, 13,\n",
       "        2,  5,  3,  5, 17, 10, 16,  4, 10, 18,  7, 17, 11,  9, 12,  3,  2,\n",
       "       16, 16,  5, 12, 15,  2,  2,  2, 14, 17,  7,  6,  3,  2,  4,  1,  4,\n",
       "        3,  4, 13, 16,  8, 17,  3,  5, 16,  1,  2,  7,  9, 11,  4,  3, 10,\n",
       "        8,  4, 16,  3, 16,  4,  7,  2,  9,  5, 11, 11, 39,  5, 53,  6,  1,\n",
       "       13,  3, 11,  5,  3, 17,  8, 10, 15, 22,  3, 11, 13,  3,  7,  9, 12,\n",
       "       18,  2,  5, 15, 10,  6,  3,  3,  2, 17,  2,  2,  5, 50, 15, 16,  2,\n",
       "        7,  5,  2, 14,  8,  3,  1, 26, 15,  4, 13, 27,  2,  2, 10,  5, 13,\n",
       "       22,  9,  9, 16, 12,  2, 21,  2,  2,  2,  6, 10, 16,  7,  4, 42, 10,\n",
       "        1,  9, 10,  2, 17,  9,  3, 10, 12, 17, 11,  5,  9,  2,  2,  6,  5,\n",
       "        3,  9,  8, 12, 11,  9,  3,  4,  3,  6,  2,  3, 13, 12, 11, 14, 11,\n",
       "       10, 15, 18,  9, 39, 11, 14,  2, 17, 11, 15, 24, 13,  2,  3,  2, 13,\n",
       "        6, 15,  9,  6, 28,  5, 14,  4,  2,  3,  5, 17,  2, 17, 41,  9, 12,\n",
       "       19,  9, 13, 17,  7, 16,  6, 18, 21, 10, 13, 13, 56,  4, 17, 16,  8,\n",
       "       10,  5, 15, 19,  7,  4, 17,  3, 10, 15,  5,  1,  4, 14,  3, 10,  2,\n",
       "       10,  8,  6,  8,  2,  9,  2,  3,  9,  2, 15,  1, 18,  6, 15, 16,  3,\n",
       "        1, 35,  3, 16, 15,  2,  6, 10, 16,  9,  2, 16, 17,  3,  5, 50,  4,\n",
       "       19,  9, 18,  3, 16,  6,  6,  9, 16,  3,  2,  8, 10,  2,  2,  2, 16,\n",
       "       15, 31,  2,  1,  2, 10, 19,  2,  9,  4, 13, 10, 11,  3, 17, 16, 13,\n",
       "        4, 27, 29, 16, 14, 17,  8,  8, 24,  1,  4,  1, 27,  1, 12,  2, 12,\n",
       "       14, 17,  1, 16, 17,  2, 20, 11,  2,  8, 17,  7,  6,  2, 50, 47,  8,\n",
       "       10, 43,  3,  2,  2,  2, 20, 16,  2,  4,  8, 16,  2, 12,  9, 11,  3,\n",
       "        5,  3, 11,  2,  6,  2,  1,  6,  4, 12,  1,  2, 15, 19,  4,  7,  5,\n",
       "        6,  1,  4, 13,  1, 37,  3,  2,  8, 12,  8,  7, 17, 14,  1, 12,  5,\n",
       "        2, 16, 16,  2,  1,  2, 11,  1,  2, 11,  1, 48,  4, 18,  7, 16,  4,\n",
       "        7, 32,  4,  5, 10, 16,  3,  9,  6, 16, 12,  5,  8, 16,  5, 13,  9,\n",
       "       16, 18, 57,  1,  1, 22,  1, 18, 11,  4, 10, 15,  8,  2,  2, 15,  9,\n",
       "        5,  2,  1, 11,  3, 19, 15, 10,  2, 12, 16,  2, 23, 14,  5, 18, 11,\n",
       "        3,  3,  1, 10, 16, 16,  4, 17,  9, 23,  8,  1, 16,  9, 28, 17, 16,\n",
       "        2, 16,  9,  4,  7, 20, 14, 17, 16, 12,  2,  2, 17, 15, 18, 15,  2,\n",
       "        8,  2,  4,  9, 13, 23,  6,  3, 16,  9,  7, 14,  4,  5,  5,  1,  8,\n",
       "       37, 33,  1, 10,  6,  9,  3,  8,  7,  4,  8,  7, 14, 14, 22, 16, 29,\n",
       "       17, 10,  6, 12,  2,  5,  8,  9, 13,  1, 17,  1,  3, 13,  1,  8,  9,\n",
       "        2,  9,  3,  4,  3, 16,  4,  5, 17,  1,  2, 15,  2,  2,  3,  2, 21,\n",
       "        1, 17, 17,  3, 12, 13,  3, 27,  3, 18, 16,  2,  3,  7,  3,  5, 15,\n",
       "        8,  3, 15,  2, 13,  7,  6,  7, 19, 16,  2, 14, 10, 48, 17,  8,  1,\n",
       "        7,  7, 17,  6, 16,  1,  9, 28, 14,  1,  3,  2, 10, 10,  4, 20, 15,\n",
       "       13,  6,  2])"
      ]
     },
     "execution_count": 49,
     "metadata": {},
     "output_type": "execute_result"
    }
   ],
   "source": [
    "y_test_predicted_rnd_forest.astype(int)\n"
   ]
  },
  {
   "cell_type": "code",
   "execution_count": 50,
   "metadata": {},
   "outputs": [],
   "source": [
    "# Number of trees in random forest\n",
    "n_estimators = [int(x) for x in np.linspace(start = 200, stop = 2000, num = 10)]\n",
    "# Number of features to consider at every split\n",
    "max_features = ['auto']\n",
    "# Maximum number of levels in tree\n",
    "max_depth = [int(x) for x in np.linspace(5, 20, num = 6)]\n",
    "max_depth.append(None)\n",
    "\n",
    "# Create the random grid\n",
    "param_grid = {'n_estimators': n_estimators,\n",
    "               'max_features': max_features,\n",
    "               'max_depth': max_depth}"
   ]
  },
  {
   "cell_type": "code",
   "execution_count": 51,
   "metadata": {},
   "outputs": [
    {
     "name": "stderr",
     "output_type": "stream",
     "text": [
      "[Parallel(n_jobs=-1)]: Using backend LokyBackend with 16 concurrent workers.\n"
     ]
    },
    {
     "name": "stdout",
     "output_type": "stream",
     "text": [
      "Fitting 5 folds for each of 70 candidates, totalling 350 fits\n"
     ]
    },
    {
     "name": "stderr",
     "output_type": "stream",
     "text": [
      "[Parallel(n_jobs=-1)]: Done   9 tasks      | elapsed:    2.4s\n",
      "[Parallel(n_jobs=-1)]: Done 130 tasks      | elapsed:  1.2min\n",
      "[Parallel(n_jobs=-1)]: Done 350 out of 350 | elapsed:  4.9min finished\n"
     ]
    },
    {
     "name": "stdout",
     "output_type": "stream",
     "text": [
      "Best Score (accuracy): -21.285496\n",
      "Optimal Hyperparameter Values:  {'max_depth': 14, 'max_features': 'auto', 'n_estimators': 800}\n",
      "\n",
      "\n",
      "Wall time: 5min 3s\n"
     ]
    }
   ],
   "source": [
    "%%time\n",
    "rnd_forest_reg = RandomForestRegressor()\n",
    "\n",
    "dt_clf_cv = GridSearchCV(rnd_forest_reg, param_grid, scoring='neg_mean_squared_error', cv=5, verbose=2, n_jobs=-1)\n",
    "dt_clf_cv.fit(X, y)\n",
    "\n",
    "params_optimal = dt_clf_cv.best_params_\n",
    "\n",
    "print(\"Best Score (accuracy): %f\" % dt_clf_cv.best_score_)\n",
    "print(\"Optimal Hyperparameter Values: \", params_optimal)\n",
    "print(\"\\n\")"
   ]
  },
  {
   "cell_type": "code",
   "execution_count": 52,
   "metadata": {},
   "outputs": [],
   "source": [
    "poly_features = PolynomialFeatures(degree=4, include_bias=False)\n",
    "X_train_poly = poly_features.fit_transform(X_train)\n",
    "X_test_poly = poly_features.fit_transform(X_test)\n"
   ]
  },
  {
   "cell_type": "code",
   "execution_count": 53,
   "metadata": {},
   "outputs": [
    {
     "data": {
      "text/plain": [
       "(3344, 1000)"
      ]
     },
     "execution_count": 53,
     "metadata": {},
     "output_type": "execute_result"
    }
   ],
   "source": [
    "X_train_poly.shape"
   ]
  },
  {
   "cell_type": "code",
   "execution_count": 54,
   "metadata": {},
   "outputs": [
    {
     "name": "stderr",
     "output_type": "stream",
     "text": [
      "[Parallel(n_jobs=-1)]: Using backend ThreadingBackend with 16 concurrent workers.\n",
      "[Parallel(n_jobs=-1)]: Done  18 tasks      | elapsed:    4.1s\n",
      "[Parallel(n_jobs=-1)]: Done 168 tasks      | elapsed:   25.8s\n",
      "[Parallel(n_jobs=-1)]: Done 418 tasks      | elapsed:  1.0min\n",
      "[Parallel(n_jobs=-1)]: Done 768 tasks      | elapsed:  1.9min\n",
      "[Parallel(n_jobs=-1)]: Done 800 out of 800 | elapsed:  2.0min finished\n",
      "[Parallel(n_jobs=16)]: Using backend ThreadingBackend with 16 concurrent workers.\n",
      "[Parallel(n_jobs=16)]: Done  18 tasks      | elapsed:    0.0s\n",
      "[Parallel(n_jobs=16)]: Done 168 tasks      | elapsed:    0.0s\n",
      "[Parallel(n_jobs=16)]: Done 418 tasks      | elapsed:    0.0s\n",
      "[Parallel(n_jobs=16)]: Done 768 tasks      | elapsed:    0.0s\n",
      "[Parallel(n_jobs=16)]: Done 800 out of 800 | elapsed:    0.0s finished\n",
      "[Parallel(n_jobs=16)]: Using backend ThreadingBackend with 16 concurrent workers.\n",
      "[Parallel(n_jobs=16)]: Done  18 tasks      | elapsed:    0.0s\n",
      "[Parallel(n_jobs=16)]: Done 168 tasks      | elapsed:    0.0s\n",
      "[Parallel(n_jobs=16)]: Done 418 tasks      | elapsed:    0.0s\n"
     ]
    },
    {
     "name": "stdout",
     "output_type": "stream",
     "text": [
      "Train: Mean squared error: 3.70\n",
      "Train: Coefficient of determination r^2 variance score [1 is perfect prediction]: 0.96\n",
      "Test: Mean squared error: 23.17\n",
      "Test: Coefficient of determination r^2 variance score [1 is perfect prediction]: 0.76\n"
     ]
    },
    {
     "name": "stderr",
     "output_type": "stream",
     "text": [
      "[Parallel(n_jobs=16)]: Done 768 tasks      | elapsed:    0.0s\n",
      "[Parallel(n_jobs=16)]: Done 800 out of 800 | elapsed:    0.0s finished\n"
     ]
    }
   ],
   "source": [
    "\n",
    "\n",
    "\n",
    "rnd_forest_reg = RandomForestRegressor(**params_optimal,criterion=\"mse\"\n",
    "                                       ,verbose=1,\n",
    "                                       oob_score=True, n_jobs=-1)\n",
    "\n",
    "rnd_forest_reg.fit(X_train_poly, y_train)\n",
    "\n",
    "\n",
    "# Make prediction \n",
    "y_train_predicted_rnd_forest = rnd_forest_reg.predict(X_train_poly)\n",
    "\n",
    "\n",
    "train_mse_rnd_forest = mean_squared_error(y_train, y_train_predicted_rnd_forest)\n",
    "\n",
    "print(\"Train: Mean squared error: %.2f\"\n",
    "      % train_mse_rnd_forest)\n",
    "\n",
    "\n",
    "# Explained variance score: 1 is perfect prediction\n",
    "print(\"Train: Coefficient of determination r^2 variance score [1 is perfect prediction]: %.2f\" \n",
    "      % r2_score(y_train, y_train_predicted_rnd_forest))\n",
    "\n",
    "\n",
    "\n",
    "\n",
    "y_test_predicted_rnd_forest = rnd_forest_reg.predict(X_test_poly)\n",
    "\n",
    "\n",
    "test_mse_rnd_forest = mean_squared_error(y_test, y_test_predicted_rnd_forest)\n",
    "\n",
    "print(\"Test: Mean squared error: %.2f\"\n",
    "      % test_mse_rnd_forest)\n",
    "\n",
    "\n",
    "# Explained variance score: 1 is perfect prediction\n",
    "\n",
    "test_r2_rnd_forest = r2_score(y_test, y_test_predicted_rnd_forest)\n",
    "\n",
    "\n",
    "print(\"Test: Coefficient of determination r^2 variance score [1 is perfect prediction]: %.2f\" \n",
    "      % test_r2_rnd_forest)"
   ]
  },
  {
   "cell_type": "code",
   "execution_count": null,
   "metadata": {},
   "outputs": [],
   "source": []
  }
 ],
 "metadata": {
  "kernelspec": {
   "display_name": "Python 3",
   "language": "python",
   "name": "python3"
  },
  "language_info": {
   "codemirror_mode": {
    "name": "ipython",
    "version": 3
   },
   "file_extension": ".py",
   "mimetype": "text/x-python",
   "name": "python",
   "nbconvert_exporter": "python",
   "pygments_lexer": "ipython3",
   "version": "3.8.5"
  }
 },
 "nbformat": 4,
 "nbformat_minor": 4
}
